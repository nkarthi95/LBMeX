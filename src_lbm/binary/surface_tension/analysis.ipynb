{
 "cells": [
  {
   "cell_type": "code",
   "execution_count": 1,
   "metadata": {},
   "outputs": [],
   "source": [
    "import numpy as np\n",
    "import matplotlib.pyplot as plt\n",
    "import yt\n",
    "from scipy.optimize import curve_fit"
   ]
  },
  {
   "cell_type": "markdown",
   "metadata": {},
   "source": [
    "# Helper functions"
   ]
  },
  {
   "cell_type": "code",
   "execution_count": 2,
   "metadata": {},
   "outputs": [],
   "source": [
    "def droplet_radius(density):\n",
    "    center = tuple([ l//2 for l in density.shape ])\n",
    "    rho_d = density[center]\n",
    "    rho_m = density[0,0,0]\n",
    "    mass = np.sum(density - rho_m)\n",
    "    R = (3./4./np.pi*mass/(rho_d-rho_m))**(1./3.)\n",
    "    return R"
   ]
  },
  {
   "cell_type": "code",
   "execution_count": 3,
   "metadata": {},
   "outputs": [],
   "source": [
    "def pressure_jump(pressure):\n",
    "    center = tuple([ l//2 for l in pressure.shape ])\n",
    "    dP = pressure[center] - pressure[0,0,0]\n",
    "    return dP"
   ]
  },
  {
   "cell_type": "markdown",
   "metadata": {},
   "source": [
    "# Surface tension plots"
   ]
  },
  {
   "cell_type": "markdown",
   "metadata": {},
   "source": [
    "Using Young-Laplace equation\n",
    "\n",
    "$$\\Delta P = \\frac{\\sigma}{2R_{D}}$$"
   ]
  },
  {
   "cell_type": "code",
   "execution_count": 4,
   "metadata": {},
   "outputs": [],
   "source": [
    "L = 32\n",
    "kappa = 0.03\n",
    "T = 0.5\n",
    "chi = 1.1\n",
    "idx = -1\n",
    "rho = 1.0"
   ]
  },
  {
   "cell_type": "code",
   "execution_count": null,
   "metadata": {},
   "outputs": [],
   "source": [
    "ds.field_list"
   ]
  },
  {
   "cell_type": "code",
   "execution_count": null,
   "metadata": {},
   "outputs": [],
   "source": [
    "R_s = [0.25, 0.3, 0.35]\n",
    "\n",
    "x = np.zeros(len(R_s))\n",
    "y = np.zeros(len(R_s))\n",
    "\n",
    "for i, R in enumerate(R_s):\n",
    "    ts = yt.load(f\"R_{R}/\"+\"hydro_plt*\")\n",
    "    ds = ts[idx]\n",
    "    ad = ds.all_data()\n",
    "\n",
    "    phi = ad[(\"boxlib\", \"phi\")].reshape(L, L, L)\n",
    "    pressure = np.zeros([L, L, L])\n",
    "    pressure = ad[(\"boxlib\", \"mf4\")].reshape(L, L, L)\n",
    "    # pressure -= ad[(\"boxlib\", \"density\")].reshape(L, L, L)*\n",
    "    # for j in range(4, 7):\n",
    "        # pressure += ad[(\"boxlib\", f\"mf{j}\")].reshape(L, L, L)\n",
    "    pressure /= 3\n",
    "    \n",
    "    dP = pressure_jump(pressure)\n",
    "    Rd = droplet_radius(phi)\n",
    "    \n",
    "    x[i] = 1/(2*Rd)\n",
    "    y[i] = dP"
   ]
  },
  {
   "cell_type": "code",
   "execution_count": null,
   "metadata": {},
   "outputs": [],
   "source": [
    "plt.imshow(pressure[:, L//2, :])\n",
    "plt.colorbar()"
   ]
  },
  {
   "cell_type": "code",
   "execution_count": null,
   "metadata": {},
   "outputs": [],
   "source": [
    "fig, ax = plt.subplots(1, 1, figsize = (3, 3))\n",
    "\n",
    "ax.plot(x, y, 'rx', label = \"Raw data\", ms = 10)\n",
    "ax.set_ylabel(r\"$\\Delta P$\")\n",
    "ax.set_xlabel(r\"$\\frac{1}{2R_d}$\")\n",
    "\n",
    "func = lambda x, a: a*x\n",
    "popt, pcov = curve_fit(func, x, y)\n",
    "xfit = np.linspace(x.min(), x.max(), 101)\n",
    "yfit = func(xfit, *popt)\n",
    "ax.plot(xfit, yfit, \"-b\", lw = 0.5)\n",
    "\n",
    "ax.text(0.2, 0.8, f\"$\\sigma$ = {popt[0]:.3e}\", transform=ax.transAxes)"
   ]
  },
  {
   "cell_type": "markdown",
   "metadata": {},
   "source": [
    "# Flat interface"
   ]
  },
  {
   "cell_type": "code",
   "execution_count": null,
   "metadata": {},
   "outputs": [],
   "source": [
    "ts = yt.load(\"hydro_plt*\")\n",
    "ds = ts[-1]\n",
    "ad = ds.all_data()\n",
    "phi = ad[(\"boxlib\", \"phi\")].reshape(L, L, L)\n",
    "\n",
    "plt.imshow(phi[:, :, L//2])"
   ]
  },
  {
   "cell_type": "code",
   "execution_count": 82,
   "metadata": {},
   "outputs": [],
   "source": [
    "test = np.gradient(np.array(phi), axis = 0)"
   ]
  },
  {
   "cell_type": "code",
   "execution_count": null,
   "metadata": {},
   "outputs": [],
   "source": [
    "profile = test[:, L//2, L//2]\n",
    "plt.plot(profile[L//4:3*L//4])"
   ]
  },
  {
   "cell_type": "code",
   "execution_count": null,
   "metadata": {},
   "outputs": [],
   "source": [
    "segment = profile[L//4:3*L//4]**2\n",
    "np.sum(segment)"
   ]
  },
  {
   "cell_type": "code",
   "execution_count": null,
   "metadata": {},
   "outputs": [],
   "source": [
    "\"Kappa = 0.03, chi = 1.1, T = 0.5, sigma = 0.28634724137791745\"\n",
    "\"Kappa = 0.01, chi = 1.1, T = 0.5, sigma = 0.4171736539177257\""
   ]
  }
 ],
 "metadata": {
  "kernelspec": {
   "display_name": "Python 3",
   "language": "python",
   "name": "python3"
  },
  "language_info": {
   "codemirror_mode": {
    "name": "ipython",
    "version": 3
   },
   "file_extension": ".py",
   "mimetype": "text/x-python",
   "name": "python",
   "nbconvert_exporter": "python",
   "pygments_lexer": "ipython3",
   "version": "3.10.12"
  }
 },
 "nbformat": 4,
 "nbformat_minor": 2
}
