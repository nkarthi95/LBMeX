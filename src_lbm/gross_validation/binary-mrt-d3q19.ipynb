{
 "cells": [
  {
   "cell_type": "code",
   "execution_count": 53,
   "metadata": {},
   "outputs": [],
   "source": [
    "import sympy as sp\n",
    "from lbmpy.stencils import LBStencil, Stencil\n",
    "from lbmpy.moments import MOMENT_SYMBOLS, moment_matrix\n",
    "import numpy as np"
   ]
  },
  {
   "cell_type": "markdown",
   "metadata": {},
   "source": [
    "# D2Q9"
   ]
  },
  {
   "cell_type": "markdown",
   "metadata": {},
   "source": [
    "## Multiphase"
   ]
  },
  {
   "cell_type": "code",
   "execution_count": 54,
   "metadata": {},
   "outputs": [],
   "source": [
    "d2q9 = LBStencil(Stencil.D2Q9)\n",
    "Q = len(d2q9)\n",
    "c = sp.Matrix(d2q9)\n",
    "cs = sp.sqrt(sp.Rational(1,3))\n",
    "\n",
    "x, y, z = MOMENT_SYMBOLS\n",
    "one = sp.core.sympify(1)\n",
    "c2 = x**2 + y**2\n",
    "c4 = c2**2\n",
    "moments = [\n",
    "    one,\n",
    "    x,\n",
    "    y,\n",
    "    3*c2-2,\n",
    "    2*x**2-c2,\n",
    "    x*y,\n",
    "    (3*c2-4)*x,\n",
    "    (3*c2-4)*y,\n",
    "    9*c4-15*c2+2\n",
    "]\n",
    "M = moment_matrix(moments, stencil=d2q9)"
   ]
  },
  {
   "cell_type": "code",
   "execution_count": 55,
   "metadata": {},
   "outputs": [],
   "source": [
    "kappa = sp.symbols('kappa')\n",
    "pb = sp.symbols('p_0')\n",
    "rho = sp.symbols('rho',cls=sp.Function)(x,y,z)\n",
    "ux, uy, uz = sp.symbols('u_x, u_y, u_z')\n",
    "u = sp.Matrix([ux,uy])\n",
    "Drho2 = sp.Matrix([ [ sp.Derivative(rho,a)*sp.Derivative(rho,b) for b in [x,y] ] for a in [x,y] ])\n",
    "D2rho = sum([ sp.Derivative(rho,a,2) for a in [x,y] ])\n",
    "G = kappa*Drho2\n",
    "\n",
    "one12 = sp.Rational(1,12)\n",
    "one18 = sp.Rational(1,18)\n",
    "one72 = sp.Rational(1,72)\n",
    "\n",
    "w = [ sp.Rational(4,9) ] + [ sp.Rational(1,9) ]*4 + [ sp.Rational(1,36) ]*4\n",
    "\n",
    "ww =  [ [[0]*2]*2 ] \\\n",
    "    + [ [ [  -one18, 0 ], [ 0, 2*one18 ] ] ]*2 \\\n",
    "    + [ [ [ 2*one18, 0 ], [ 0,  -one18 ] ] ]*2 \\\n",
    "    + [ [ [ -one72, -one12 ], [ -one12, -one72 ] ],\n",
    "        [ [ -one72,  one12 ], [  one12, -one72 ] ],\n",
    "        [ [ -one72,  one12 ], [  one12, -one72 ] ],\n",
    "        [ [ -one72, -one12 ], [ -one12, -one72 ] ] ]\n",
    "\n",
    "def f(i):\n",
    "    f = w[i]/cs**2*pb \\\n",
    "        + w[i]/cs**2*rho*c[i,:].dot(u) \\\n",
    "        + w[i]/(2*cs**4)*rho*u.dot((c[i,:].T@c[i,:]-cs**2*sp.eye(2))@u) \\\n",
    "        - w[i]/cs**2*(kappa*rho*D2rho) \\\n",
    "        + sum([ ww[i][j][j]/cs**2*G[j,j] for j in range(2) ]) \\\n",
    "        + sum([ ww[i][j][(j+1)%2]/cs**2*G[j,(j+1)%2] for j in range(1) ])\n",
    "    return f\n",
    "\n",
    "feq = sp.Matrix([ f(i) for i in range(Q) ])\n",
    "feq[0] = rho - sum(feq[1:])\n",
    "\n",
    "mf = sp.simplify(M@feq)"
   ]
  },
  {
   "cell_type": "code",
   "execution_count": 56,
   "metadata": {},
   "outputs": [],
   "source": [
    "k = sp.symbols('k')\n",
    "rho0 = sp.symbols('rho_0')\n",
    "lb,ls,lq,le = sp.symbols('lambda_b, lambda_s, lambda_q, lambda_epsilon')\n",
    "d = 6*(sp.symbols('c_s')**2 + rho0*kappa*k**2 - cs**2)\n",
    "Omega = sp.zeros(Q,Q)\n",
    "Omega[3,3] = lb\n",
    "Omega[4,4] = ls\n",
    "Omega[6,6] = lq\n",
    "Omega[8,8] = le\n",
    "Omega[5,5] = Omega[4,4]\n",
    "Omega[7,7] = Omega[6,6]\n",
    "Omega[3,0] = -lb*d\n",
    "Omega[8,0] = le*d"
   ]
  },
  {
   "cell_type": "code",
   "execution_count": 57,
   "metadata": {},
   "outputs": [],
   "source": [
    "kappa = sp.symbols('kappa')\n",
    "pb = sp.symbols('p_b')\n",
    "rho = sp.symbols('rho',cls=sp.Function)(x,y,z)\n",
    "ux, uy, uz = sp.symbols('u_x, u_y, u_z')\n",
    "kx, ky, kz = sp.symbols('k_x, k_y, k_z')\n",
    "ks = {x:kx,y:ky,z:kz}\n",
    "u = sp.Matrix([ux,uy])\n",
    "Drho2 = sp.Matrix([ [ 0 for b in [x,y] ] for a in [x,y] ])\n",
    "D2rho = -k**2*rho\n",
    "G = kappa*Drho2\n",
    "\n",
    "one12 = sp.Rational(1,12)\n",
    "one18 = sp.Rational(1,18)\n",
    "one72 = sp.Rational(1,72)\n",
    "\n",
    "w = [ sp.Rational(4,9) ] + [ sp.Rational(1,9) ]*4 + [ sp.Rational(1,36) ]*4\n",
    "\n",
    "ww =  [ [[0]*2]*2 ] \\\n",
    "    + [ [ [  -one18, 0 ], [ 0, 2*one18 ] ] ]*2 \\\n",
    "    + [ [ [ 2*one18, 0 ], [ 0,  -one18 ] ] ]*2 \\\n",
    "    + [ [ [ -one72, -one12 ], [ -one12, -one72 ] ],\n",
    "        [ [ -one72,  one12 ], [  one12, -one72 ] ],\n",
    "        [ [ -one72,  one12 ], [  one12, -one72 ] ],\n",
    "        [ [ -one72, -one12 ], [ -one12, -one72 ] ] ]\n",
    "\n",
    "def f(i):\n",
    "    f = w[i]/cs**2*pb \\\n",
    "        + w[i]/cs**2*rho*c[i,:].dot(u) \\\n",
    "        + w[i]/(2*cs**4)*rho*u.dot((c[i,:].T@c[i,:]-cs**2*sp.eye(2))@u) \\\n",
    "        - w[i]/cs**2*(kappa*rho*D2rho) \\\n",
    "        + sum([ ww[i][j][j]/cs**2*G[j,j] for j in range(2) ]) \\\n",
    "        + sum([ ww[i][j][(j+1)%2]/cs**2*G[j,(j+1)%2] for j in range(1) ])\n",
    "    return f\n",
    "\n",
    "feq = sp.Matrix([ f(i) for i in range(Q) ])\n",
    "feq[0] = rho - sum(feq[1:])"
   ]
  },
  {
   "cell_type": "code",
   "execution_count": 58,
   "metadata": {},
   "outputs": [
    {
     "data": {
      "text/latex": [
       "$\\displaystyle \\left[\\begin{matrix}S{\\left(k \\right)} & 0 & 0 & 2 \\cdot \\left(3 c_{s}^{2} + 3 k^{2} \\kappa \\rho_{0} - 1\\right) S{\\left(k \\right)} & 0 & 0 & 0 & 0 & 2 \\left(- 3 c_{s}^{2} - 3 k^{2} \\kappa \\rho_{0} + 1\\right) S{\\left(k \\right)}\\\\0 & \\left(c_{s}^{2} + k^{2} \\kappa \\rho_{0}\\right) S{\\left(k \\right)} & 0 & 0 & 0 & 0 & 0 & 0 & 0\\\\0 & 0 & \\left(c_{s}^{2} + k^{2} \\kappa \\rho_{0}\\right) S{\\left(k \\right)} & 0 & 0 & 0 & 0 & 0 & 0\\\\2 \\cdot \\left(3 c_{s}^{2} + 3 k^{2} \\kappa \\rho_{0} - 1\\right) S{\\left(k \\right)} & 0 & 0 & 4 S{\\left(k \\right)} & 0 & 0 & 0 & 0 & 4 \\cdot \\left(3 c_{s}^{2} + 3 k^{2} \\kappa \\rho_{0} - 1\\right) S{\\left(k \\right)}\\\\0 & 0 & 0 & 0 & \\frac{4 \\left(c_{s}^{2} + k^{2} \\kappa \\rho_{0}\\right) S{\\left(k \\right)}}{3} & 0 & 0 & 0 & 0\\\\0 & 0 & 0 & 0 & 0 & \\frac{\\left(c_{s}^{2} + k^{2} \\kappa \\rho_{0}\\right) S{\\left(k \\right)}}{3} & 0 & 0 & 0\\\\0 & 0 & 0 & 0 & 0 & 0 & 2 \\left(c_{s}^{2} + k^{2} \\kappa \\rho_{0}\\right) S{\\left(k \\right)} & 0 & 0\\\\0 & 0 & 0 & 0 & 0 & 0 & 0 & 2 \\left(c_{s}^{2} + k^{2} \\kappa \\rho_{0}\\right) S{\\left(k \\right)} & 0\\\\2 \\left(- 3 c_{s}^{2} - 3 k^{2} \\kappa \\rho_{0} + 1\\right) S{\\left(k \\right)} & 0 & 0 & 4 \\cdot \\left(3 c_{s}^{2} + 3 k^{2} \\kappa \\rho_{0} - 1\\right) S{\\left(k \\right)} & 0 & 0 & 0 & 0 & 4 \\cdot \\left(9 c_{s}^{2} + 9 k^{2} \\kappa \\rho_{0} + 1\\right) S{\\left(k \\right)}\\end{matrix}\\right]$"
      ],
      "text/plain": [
       "Matrix([\n",
       "[                                       S(k),                                0,                                0, 2*(3*c_s**2 + 3*k**2*kappa*rho_0 - 1)*S(k),                                    0,                                  0,                                  0,                                  0, 2*(-3*c_s**2 - 3*k**2*kappa*rho_0 + 1)*S(k)],\n",
       "[                                          0, (c_s**2 + k**2*kappa*rho_0)*S(k),                                0,                                          0,                                    0,                                  0,                                  0,                                  0,                                           0],\n",
       "[                                          0,                                0, (c_s**2 + k**2*kappa*rho_0)*S(k),                                          0,                                    0,                                  0,                                  0,                                  0,                                           0],\n",
       "[ 2*(3*c_s**2 + 3*k**2*kappa*rho_0 - 1)*S(k),                                0,                                0,                                     4*S(k),                                    0,                                  0,                                  0,                                  0,  4*(3*c_s**2 + 3*k**2*kappa*rho_0 - 1)*S(k)],\n",
       "[                                          0,                                0,                                0,                                          0, 4*(c_s**2 + k**2*kappa*rho_0)*S(k)/3,                                  0,                                  0,                                  0,                                           0],\n",
       "[                                          0,                                0,                                0,                                          0,                                    0, (c_s**2 + k**2*kappa*rho_0)*S(k)/3,                                  0,                                  0,                                           0],\n",
       "[                                          0,                                0,                                0,                                          0,                                    0,                                  0, 2*(c_s**2 + k**2*kappa*rho_0)*S(k),                                  0,                                           0],\n",
       "[                                          0,                                0,                                0,                                          0,                                    0,                                  0,                                  0, 2*(c_s**2 + k**2*kappa*rho_0)*S(k),                                           0],\n",
       "[2*(-3*c_s**2 - 3*k**2*kappa*rho_0 + 1)*S(k),                                0,                                0, 4*(3*c_s**2 + 3*k**2*kappa*rho_0 - 1)*S(k),                                    0,                                  0,                                  0,                                  0,  4*(9*c_s**2 + 9*k**2*kappa*rho_0 + 1)*S(k)]])"
      ]
     },
     "execution_count": 58,
     "metadata": {},
     "output_type": "execute_result"
    }
   ],
   "source": [
    "fbar = feq.subs({pb:rho*sp.symbols('c_s')**2}).subs({rho:rho0,ux:0,uy:0})\n",
    "S = sp.symbols('S', cls=sp.Function)(k)/rho0*sp.diag(*fbar)\n",
    "G = sp.simplify(M@S@M.T)\n",
    "G"
   ]
  },
  {
   "cell_type": "code",
   "execution_count": 59,
   "metadata": {},
   "outputs": [
    {
     "data": {
      "text/latex": [
       "$\\displaystyle \\left[\\begin{matrix}0 & 0 & 0 & 0 & 0 & 0 & 0 & 0 & 0\\\\0 & 0 & 0 & 0 & 0 & 0 & 0 & 0 & 0\\\\0 & 0 & 0 & 0 & 0 & 0 & 0 & 0 & 0\\\\0 & 0 & 0 & 4 \\left(\\lambda_{b} \\left(3 c_{s}^{2} + 3 k^{2} \\kappa \\rho_{0} - 1\\right)^{2} + \\left(\\lambda_{b} + 1\\right) \\left(\\lambda_{b} \\left(3 c_{s}^{2} + 3 k^{2} \\kappa \\rho_{0} - 1\\right)^{2} - \\lambda_{b} - 1\\right) + 1\\right) S{\\left(k \\right)} & 0 & 0 & 0 & 0 & 4 \\cdot \\left(3 c_{s}^{2} + 3 k^{2} \\kappa \\rho_{0} - 1\\right) \\left(- \\lambda_{\\epsilon} \\left(3 c_{s}^{2} + 3 k^{2} \\kappa \\rho_{0} - 1\\right) - \\left(\\lambda_{\\epsilon} + 1\\right) \\left(\\lambda_{b} \\left(3 c_{s}^{2} + 3 k^{2} \\kappa \\rho_{0} - 1\\right) + \\lambda_{b} + 1\\right) + 1\\right) S{\\left(k \\right)}\\\\0 & 0 & 0 & 0 & \\frac{4 \\cdot \\left(1 - \\left(\\lambda_{s} + 1\\right)^{2}\\right) \\left(c_{s}^{2} + k^{2} \\kappa \\rho_{0}\\right) S{\\left(k \\right)}}{3} & 0 & 0 & 0 & 0\\\\0 & 0 & 0 & 0 & 0 & \\frac{\\left(1 - \\left(\\lambda_{s} + 1\\right)^{2}\\right) \\left(c_{s}^{2} + k^{2} \\kappa \\rho_{0}\\right) S{\\left(k \\right)}}{3} & 0 & 0 & 0\\\\0 & 0 & 0 & 0 & 0 & 0 & 2 \\cdot \\left(1 - \\left(\\lambda_{q} + 1\\right)^{2}\\right) \\left(c_{s}^{2} + k^{2} \\kappa \\rho_{0}\\right) S{\\left(k \\right)} & 0 & 0\\\\0 & 0 & 0 & 0 & 0 & 0 & 0 & 2 \\cdot \\left(1 - \\left(\\lambda_{q} + 1\\right)^{2}\\right) \\left(c_{s}^{2} + k^{2} \\kappa \\rho_{0}\\right) S{\\left(k \\right)} & 0\\\\0 & 0 & 0 & 4 \\cdot \\left(3 c_{s}^{2} + 3 k^{2} \\kappa \\rho_{0} - 1\\right) \\left(- \\lambda_{b} \\left(3 c_{s}^{2} + 3 k^{2} \\kappa \\rho_{0} - 1\\right) - \\left(\\lambda_{b} + 1\\right) \\left(\\lambda_{\\epsilon} \\left(3 c_{s}^{2} + 3 k^{2} \\kappa \\rho_{0} - 1\\right) + \\lambda_{\\epsilon} + 1\\right) + 1\\right) S{\\left(k \\right)} & 0 & 0 & 0 & 0 & 4 \\cdot \\left(9 c_{s}^{2} + 9 k^{2} \\kappa \\rho_{0} + \\lambda_{\\epsilon} \\left(3 c_{s}^{2} + 3 k^{2} \\kappa \\rho_{0} - 1\\right)^{2} + \\left(\\lambda_{\\epsilon} + 1\\right) \\left(\\lambda_{\\epsilon} \\left(3 c_{s}^{2} + 3 k^{2} \\kappa \\rho_{0} - 1\\right)^{2} - \\left(\\lambda_{\\epsilon} + 1\\right) \\left(9 c_{s}^{2} + 9 k^{2} \\kappa \\rho_{0} + 1\\right)\\right) + 1\\right) S{\\left(k \\right)}\\end{matrix}\\right]$"
      ],
      "text/plain": [
       "Matrix([\n",
       "[0, 0, 0,                                                                                                                                                                                         0,                                                            0,                                                          0,                                                          0,                                                          0,                                                                                                                                                                                                                                            0],\n",
       "[0, 0, 0,                                                                                                                                                                                         0,                                                            0,                                                          0,                                                          0,                                                          0,                                                                                                                                                                                                                                            0],\n",
       "[0, 0, 0,                                                                                                                                                                                         0,                                                            0,                                                          0,                                                          0,                                                          0,                                                                                                                                                                                                                                            0],\n",
       "[0, 0, 0,                                            4*(lambda_b*(3*c_s**2 + 3*k**2*kappa*rho_0 - 1)**2 + (lambda_b + 1)*(lambda_b*(3*c_s**2 + 3*k**2*kappa*rho_0 - 1)**2 - lambda_b - 1) + 1)*S(k),                                                            0,                                                          0,                                                          0,                                                          0,                                                    4*(3*c_s**2 + 3*k**2*kappa*rho_0 - 1)*(-lambda_epsilon*(3*c_s**2 + 3*k**2*kappa*rho_0 - 1) - (lambda_epsilon + 1)*(lambda_b*(3*c_s**2 + 3*k**2*kappa*rho_0 - 1) + lambda_b + 1) + 1)*S(k)],\n",
       "[0, 0, 0,                                                                                                                                                                                         0, 4*(1 - (lambda_s + 1)**2)*(c_s**2 + k**2*kappa*rho_0)*S(k)/3,                                                          0,                                                          0,                                                          0,                                                                                                                                                                                                                                            0],\n",
       "[0, 0, 0,                                                                                                                                                                                         0,                                                            0, (1 - (lambda_s + 1)**2)*(c_s**2 + k**2*kappa*rho_0)*S(k)/3,                                                          0,                                                          0,                                                                                                                                                                                                                                            0],\n",
       "[0, 0, 0,                                                                                                                                                                                         0,                                                            0,                                                          0, 2*(1 - (lambda_q + 1)**2)*(c_s**2 + k**2*kappa*rho_0)*S(k),                                                          0,                                                                                                                                                                                                                                            0],\n",
       "[0, 0, 0,                                                                                                                                                                                         0,                                                            0,                                                          0,                                                          0, 2*(1 - (lambda_q + 1)**2)*(c_s**2 + k**2*kappa*rho_0)*S(k),                                                                                                                                                                                                                                            0],\n",
       "[0, 0, 0, 4*(3*c_s**2 + 3*k**2*kappa*rho_0 - 1)*(-lambda_b*(3*c_s**2 + 3*k**2*kappa*rho_0 - 1) - (lambda_b + 1)*(lambda_epsilon*(3*c_s**2 + 3*k**2*kappa*rho_0 - 1) + lambda_epsilon + 1) + 1)*S(k),                                                            0,                                                          0,                                                          0,                                                          0, 4*(9*c_s**2 + 9*k**2*kappa*rho_0 + lambda_epsilon*(3*c_s**2 + 3*k**2*kappa*rho_0 - 1)**2 + (lambda_epsilon + 1)*(lambda_epsilon*(3*c_s**2 + 3*k**2*kappa*rho_0 - 1)**2 - (lambda_epsilon + 1)*(9*c_s**2 + 9*k**2*kappa*rho_0 + 1)) + 1)*S(k)]])"
      ]
     },
     "execution_count": 59,
     "metadata": {},
     "output_type": "execute_result"
    }
   ],
   "source": [
    "Lambda = sp.eye(Q)+Omega\n",
    "Xi = sp.simplify(G-Lambda@G@Lambda.T)\n",
    "Xi"
   ]
  },
  {
   "cell_type": "markdown",
   "metadata": {},
   "source": [
    "# D3Q19 model"
   ]
  },
  {
   "cell_type": "markdown",
   "metadata": {},
   "source": [
    "## Multiphase model"
   ]
  },
  {
   "cell_type": "markdown",
   "metadata": {},
   "source": [
    "### Basis transform matrix"
   ]
  },
  {
   "cell_type": "code",
   "execution_count": 60,
   "metadata": {},
   "outputs": [],
   "source": [
    "d3q19 = LBStencil(Stencil.D3Q19)\n",
    "D = len(d3q19[0])\n",
    "Q = len(d3q19)\n",
    "c = sp.Matrix(d3q19)\n",
    "cs = sp.sqrt(sp.Rational(1,3))\n",
    "\n",
    "x, y, z = MOMENT_SYMBOLS\n",
    "one = sp.core.sympify(1)\n",
    "c2 = x**2+y**2+z**2\n",
    "c4 = c2**2\n",
    "\n",
    "moments = [ \n",
    "    one,\n",
    "    x,\n",
    "    y,\n",
    "    z,\n",
    "    c2-1,\n",
    "    3*x**2-c2,\n",
    "    y**2-z**2,\n",
    "    x*y,\n",
    "    y*z,\n",
    "    z*x,\n",
    "    (3*c2-5)*x,\n",
    "    (3*c2-5)*y,\n",
    "    (3*c2-5)*z,\n",
    "    (y**2-z**2)*x,\n",
    "    (z**2-x**2)*y,\n",
    "    (x**2-y**2)*z,\n",
    "    3*c4-6*c2+1,\n",
    "    (2*c2-3)*(3*x**2-c2),\n",
    "    (2*c2-3)*(y**2-z**2)\n",
    "]\n",
    "\n",
    "M = moment_matrix(moments, stencil=d3q19)"
   ]
  },
  {
   "cell_type": "markdown",
   "metadata": {},
   "source": [
    "### Setting derivates to correct values in Swift paper\n",
    "\n",
    "Calculation of correct mf and feq"
   ]
  },
  {
   "cell_type": "code",
   "execution_count": 61,
   "metadata": {},
   "outputs": [],
   "source": [
    "kappa = sp.symbols('kappa')\n",
    "pb = sp.symbols('p_b')\n",
    "rho = sp.symbols('rho',cls=sp.Function)(x,y,z)\n",
    "ux, uy, uz = sp.symbols('u_x, u_y, u_z')\n",
    "kx, ky, kz = sp.symbols('k_x, k_y, k_z')\n",
    "ks = {x:kx,y:ky,z:kz}\n",
    "u = sp.Matrix([ux,uy,uz])\n",
    "Drho2 = sp.Matrix([ [ sp.Derivative(rho,a)*sp.Derivative(rho,b) for b in [x,y,z] ] for a in [x,y,z] ])\n",
    "D2rho = sum([ sp.Derivative(rho,a,2) for a in [x,y,z] ])\n",
    "G = kappa*Drho2\n",
    "\n",
    "five36 = sp.Rational(5,36)\n",
    "one9 = sp.Rational(1,9)\n",
    "one12 = sp.Rational(1,12)\n",
    "one36 = sp.Rational(1,36)\n",
    "one72 = sp.Rational(1,72)\n",
    "\n",
    "w = [ sp.Rational(1,3) ] + [ sp.Rational(1,18) ]*6 + [ sp.Rational(1,36) ]*12\n",
    "\n",
    "ww =  [ [[0]*3]*3 ] \\\n",
    "    + [ [ [ -one9, 0, 0], [0, five36, 0], [0, 0,  -one9] ] ]*2 \\\n",
    "    + [ [ [five36, 0, 0], [0,  -one9, 0], [0, 0,  -one9] ] ]*2 \\\n",
    "    + [ [ [ -one9, 0, 0], [0,  -one9, 0], [0, 0, five36] ] ]*2 \\\n",
    "    + [ [ [-one72, -one12, 0], [ -one12, -one72, 0], [ 0, 0, one36] ],\n",
    "        [ [-one72,  one12, 0], [  one12, -one72, 0], [ 0, 0, one36] ],\n",
    "        [ [-one72,  one12, 0], [  one12, -one72, 0], [ 0, 0, one36] ],\n",
    "        [ [-one72, -one12, 0], [ -one12, -one72, 0], [ 0, 0, one36] ],\n",
    "        [ [ one36, 0, 0], [ 0, -one72,  one12], [ 0,  one12, -one72] ],\n",
    "        [ [ one36, 0, 0], [ 0, -one72, -one12], [ 0, -one12, -one72] ],\n",
    "        [ [-one72, 0, -one12], [ 0, one36, 0], [ -one12, 0, -one72] ],\n",
    "        [ [-one72, 0,  one12], [ 0, one36, 0], [  one12, 0, -one72] ],\n",
    "        [ [ one36, 0, 0], [ 0, -one72, -one12], [ 0, -one12, -one72] ],\n",
    "        [ [ one36, 0, 0], [ 0, -one72,  one12], [ 0,  one12, -one72] ],\n",
    "        [ [-one72, 0,  one12], [ 0, one36, 0], [  one12, 0, -one72] ],\n",
    "        [ [-one72, 0, -one12], [ 0, one36, 0], [ -one12, 0, -one72] ] ]\n",
    "\n",
    "def f(i):\n",
    "    f = w[i]/cs**2*pb \\\n",
    "        + w[i]/cs**2*rho*c[i,:].dot(u) \\\n",
    "        + w[i]/(2*cs**4)*rho*u.dot((c[i,:].T@c[i,:]-cs**2*sp.eye(D))@u) \\\n",
    "        - w[i]/cs**2*(kappa*rho*D2rho) \\\n",
    "        + sum([ ww[i][j][j]/cs**2*G[j,j] for j in range(D) ]) \\\n",
    "        + sum([ ww[i][j][(j+1)%D]/cs**2*G[j,(j+1)%D] for j in range(D) ])\n",
    "    return f\n",
    "\n",
    "feq = sp.Matrix([ f(i) for i in range(0,Q) ])\n",
    "feq[0] = rho - sum(feq[1:])\n",
    "feq.simplify()\n",
    "mf = sp.simplify(M*feq)"
   ]
  },
  {
   "cell_type": "code",
   "execution_count": 62,
   "metadata": {},
   "outputs": [
    {
     "data": {
      "text/latex": [
       "$\\displaystyle \\left[\\begin{array}{ccccccccccccccccccc}S{\\left(k \\right)} & 0 & 0 & 0 & \\frac{\\left(6 c_{s}^{2} \\rho_{0} - 2 \\rho_{0}\\right) S{\\left(k \\right)}}{2 \\rho_{0}} & 0 & 0 & 0 & 0 & 0 & 0 & 0 & 0 & 0 & 0 & 0 & \\frac{\\left(- 6 c_{s}^{2} \\rho_{0} + 2 \\rho_{0}\\right) S{\\left(k \\right)}}{2 \\rho_{0}} & 0 & 0\\\\0 & c_{s}^{2} S{\\left(k \\right)} & 0 & 0 & 0 & 0 & 0 & 0 & 0 & 0 & 0 & 0 & 0 & 0 & 0 & 0 & 0 & 0 & 0\\\\0 & 0 & c_{s}^{2} S{\\left(k \\right)} & 0 & 0 & 0 & 0 & 0 & 0 & 0 & 0 & 0 & 0 & 0 & 0 & 0 & 0 & 0 & 0\\\\0 & 0 & 0 & c_{s}^{2} S{\\left(k \\right)} & 0 & 0 & 0 & 0 & 0 & 0 & 0 & 0 & 0 & 0 & 0 & 0 & 0 & 0 & 0\\\\\\frac{\\left(6 c_{s}^{2} \\rho_{0} - 2 \\rho_{0}\\right) S{\\left(k \\right)}}{2 \\rho_{0}} & 0 & 0 & 0 & \\frac{\\left(- 2 c_{s}^{2} \\rho_{0} + 2 \\rho_{0}\\right) S{\\left(k \\right)}}{2 \\rho_{0}} & 0 & 0 & 0 & 0 & 0 & 0 & 0 & 0 & 0 & 0 & 0 & \\frac{\\left(6 c_{s}^{2} \\rho_{0} - 2 \\rho_{0}\\right) S{\\left(k \\right)}}{2 \\rho_{0}} & 0 & 0\\\\0 & 0 & 0 & 0 & 0 & 4 c_{s}^{2} S{\\left(k \\right)} & 0 & 0 & 0 & 0 & 0 & 0 & 0 & 0 & 0 & 0 & 0 & 0 & 0\\\\0 & 0 & 0 & 0 & 0 & 0 & \\frac{4 c_{s}^{2} S{\\left(k \\right)}}{3} & 0 & 0 & 0 & 0 & 0 & 0 & 0 & 0 & 0 & 0 & 0 & 0\\\\0 & 0 & 0 & 0 & 0 & 0 & 0 & \\frac{c_{s}^{2} S{\\left(k \\right)}}{3} & 0 & 0 & 0 & 0 & 0 & 0 & 0 & 0 & 0 & 0 & 0\\\\0 & 0 & 0 & 0 & 0 & 0 & 0 & 0 & \\frac{c_{s}^{2} S{\\left(k \\right)}}{3} & 0 & 0 & 0 & 0 & 0 & 0 & 0 & 0 & 0 & 0\\\\0 & 0 & 0 & 0 & 0 & 0 & 0 & 0 & 0 & \\frac{c_{s}^{2} S{\\left(k \\right)}}{3} & 0 & 0 & 0 & 0 & 0 & 0 & 0 & 0 & 0\\\\0 & 0 & 0 & 0 & 0 & 0 & 0 & 0 & 0 & 0 & 2 c_{s}^{2} S{\\left(k \\right)} & 0 & 0 & 0 & 0 & 0 & 0 & 0 & 0\\\\0 & 0 & 0 & 0 & 0 & 0 & 0 & 0 & 0 & 0 & 0 & 2 c_{s}^{2} S{\\left(k \\right)} & 0 & 0 & 0 & 0 & 0 & 0 & 0\\\\0 & 0 & 0 & 0 & 0 & 0 & 0 & 0 & 0 & 0 & 0 & 0 & 2 c_{s}^{2} S{\\left(k \\right)} & 0 & 0 & 0 & 0 & 0 & 0\\\\0 & 0 & 0 & 0 & 0 & 0 & 0 & 0 & 0 & 0 & 0 & 0 & 0 & \\frac{2 c_{s}^{2} S{\\left(k \\right)}}{3} & 0 & 0 & 0 & 0 & 0\\\\0 & 0 & 0 & 0 & 0 & 0 & 0 & 0 & 0 & 0 & 0 & 0 & 0 & 0 & \\frac{2 c_{s}^{2} S{\\left(k \\right)}}{3} & 0 & 0 & 0 & 0\\\\0 & 0 & 0 & 0 & 0 & 0 & 0 & 0 & 0 & 0 & 0 & 0 & 0 & 0 & 0 & \\frac{2 c_{s}^{2} S{\\left(k \\right)}}{3} & 0 & 0 & 0\\\\\\frac{\\left(- 6 c_{s}^{2} \\rho_{0} + 2 \\rho_{0}\\right) S{\\left(k \\right)}}{2 \\rho_{0}} & 0 & 0 & 0 & \\frac{\\left(6 c_{s}^{2} \\rho_{0} - 2 \\rho_{0}\\right) S{\\left(k \\right)}}{2 \\rho_{0}} & 0 & 0 & 0 & 0 & 0 & 0 & 0 & 0 & 0 & 0 & 0 & \\frac{\\left(6 c_{s}^{2} \\rho_{0} + 2 \\rho_{0}\\right) S{\\left(k \\right)}}{2 \\rho_{0}} & 0 & 0\\\\0 & 0 & 0 & 0 & 0 & 0 & 0 & 0 & 0 & 0 & 0 & 0 & 0 & 0 & 0 & 0 & 0 & 4 c_{s}^{2} S{\\left(k \\right)} & 0\\\\0 & 0 & 0 & 0 & 0 & 0 & 0 & 0 & 0 & 0 & 0 & 0 & 0 & 0 & 0 & 0 & 0 & 0 & \\frac{4 c_{s}^{2} S{\\left(k \\right)}}{3}\\end{array}\\right]$"
      ],
      "text/plain": [
       "Matrix([\n",
       "[                                   S(k),           0,           0,           0,  (6*c_s**2*rho0 - 2*rho0)*S(k)/(2*rho0),             0,               0,             0,             0,             0,             0,             0,             0,               0,               0,               0, (-6*c_s**2*rho0 + 2*rho0)*S(k)/(2*rho0),             0,               0],\n",
       "[                                      0, c_s**2*S(k),           0,           0,                                       0,             0,               0,             0,             0,             0,             0,             0,             0,               0,               0,               0,                                       0,             0,               0],\n",
       "[                                      0,           0, c_s**2*S(k),           0,                                       0,             0,               0,             0,             0,             0,             0,             0,             0,               0,               0,               0,                                       0,             0,               0],\n",
       "[                                      0,           0,           0, c_s**2*S(k),                                       0,             0,               0,             0,             0,             0,             0,             0,             0,               0,               0,               0,                                       0,             0,               0],\n",
       "[ (6*c_s**2*rho0 - 2*rho0)*S(k)/(2*rho0),           0,           0,           0, (-2*c_s**2*rho0 + 2*rho0)*S(k)/(2*rho0),             0,               0,             0,             0,             0,             0,             0,             0,               0,               0,               0,  (6*c_s**2*rho0 - 2*rho0)*S(k)/(2*rho0),             0,               0],\n",
       "[                                      0,           0,           0,           0,                                       0, 4*c_s**2*S(k),               0,             0,             0,             0,             0,             0,             0,               0,               0,               0,                                       0,             0,               0],\n",
       "[                                      0,           0,           0,           0,                                       0,             0, 4*c_s**2*S(k)/3,             0,             0,             0,             0,             0,             0,               0,               0,               0,                                       0,             0,               0],\n",
       "[                                      0,           0,           0,           0,                                       0,             0,               0, c_s**2*S(k)/3,             0,             0,             0,             0,             0,               0,               0,               0,                                       0,             0,               0],\n",
       "[                                      0,           0,           0,           0,                                       0,             0,               0,             0, c_s**2*S(k)/3,             0,             0,             0,             0,               0,               0,               0,                                       0,             0,               0],\n",
       "[                                      0,           0,           0,           0,                                       0,             0,               0,             0,             0, c_s**2*S(k)/3,             0,             0,             0,               0,               0,               0,                                       0,             0,               0],\n",
       "[                                      0,           0,           0,           0,                                       0,             0,               0,             0,             0,             0, 2*c_s**2*S(k),             0,             0,               0,               0,               0,                                       0,             0,               0],\n",
       "[                                      0,           0,           0,           0,                                       0,             0,               0,             0,             0,             0,             0, 2*c_s**2*S(k),             0,               0,               0,               0,                                       0,             0,               0],\n",
       "[                                      0,           0,           0,           0,                                       0,             0,               0,             0,             0,             0,             0,             0, 2*c_s**2*S(k),               0,               0,               0,                                       0,             0,               0],\n",
       "[                                      0,           0,           0,           0,                                       0,             0,               0,             0,             0,             0,             0,             0,             0, 2*c_s**2*S(k)/3,               0,               0,                                       0,             0,               0],\n",
       "[                                      0,           0,           0,           0,                                       0,             0,               0,             0,             0,             0,             0,             0,             0,               0, 2*c_s**2*S(k)/3,               0,                                       0,             0,               0],\n",
       "[                                      0,           0,           0,           0,                                       0,             0,               0,             0,             0,             0,             0,             0,             0,               0,               0, 2*c_s**2*S(k)/3,                                       0,             0,               0],\n",
       "[(-6*c_s**2*rho0 + 2*rho0)*S(k)/(2*rho0),           0,           0,           0,  (6*c_s**2*rho0 - 2*rho0)*S(k)/(2*rho0),             0,               0,             0,             0,             0,             0,             0,             0,               0,               0,               0,  (6*c_s**2*rho0 + 2*rho0)*S(k)/(2*rho0),             0,               0],\n",
       "[                                      0,           0,           0,           0,                                       0,             0,               0,             0,             0,             0,             0,             0,             0,               0,               0,               0,                                       0, 4*c_s**2*S(k),               0],\n",
       "[                                      0,           0,           0,           0,                                       0,             0,               0,             0,             0,             0,             0,             0,             0,               0,               0,               0,                                       0,             0, 4*c_s**2*S(k)/3]])"
      ]
     },
     "execution_count": 62,
     "metadata": {},
     "output_type": "execute_result"
    }
   ],
   "source": [
    "rho0 = sp.symbols(\"rho0\")\n",
    "k = sp.symbols('k')\n",
    "fbar = feq.subs({pb:rho*sp.symbols('c_s')**2}).subs({rho:rho0,ux:0,uy:0,uz:0})\n",
    "S = sp.symbols('S', cls=sp.Function)(k)/rho0*sp.diag(*fbar)\n",
    "G = sp.simplify(M@S@M.T)\n",
    "G"
   ]
  },
  {
   "cell_type": "markdown",
   "metadata": {},
   "source": [
    "### Setting derivates to 0\n",
    "\n",
    "Assumes at k $\\rightarrow$ 0 limit"
   ]
  },
  {
   "cell_type": "code",
   "execution_count": 63,
   "metadata": {},
   "outputs": [],
   "source": [
    "kappa = sp.symbols('kappa')\n",
    "pb = sp.symbols('p_b')\n",
    "rho = sp.symbols('rho',cls=sp.Function)(x,y,z)\n",
    "ux, uy, uz = sp.symbols('u_x, u_y, u_z')\n",
    "kx, ky, kz = sp.symbols('k_x, k_y, k_z')\n",
    "ks = {x:kx,y:ky,z:kz}\n",
    "u = sp.Matrix([ux,uy,uz])\n",
    "Drho2 = sp.Matrix([ [ 0 for b in [x,y,z] ] for a in [x,y,z] ])\n",
    "D2rho = -k**2*rho\n",
    "G = kappa*Drho2\n",
    "\n",
    "five36 = sp.Rational(5,36)\n",
    "one9 = sp.Rational(1,9)\n",
    "one12 = sp.Rational(1,12)\n",
    "one36 = sp.Rational(1,36)\n",
    "one72 = sp.Rational(1,72)\n",
    "\n",
    "w = [ sp.Rational(1,3) ] + [ sp.Rational(1,18) ]*6 + [ sp.Rational(1,36) ]*12\n",
    "\n",
    "ww =  [ [[0]*3]*3 ] \\\n",
    "    + [ [ [ -one9, 0, 0], [0, five36, 0], [0, 0,  -one9] ] ]*2 \\\n",
    "    + [ [ [five36, 0, 0], [0,  -one9, 0], [0, 0,  -one9] ] ]*2 \\\n",
    "    + [ [ [ -one9, 0, 0], [0,  -one9, 0], [0, 0, five36] ] ]*2 \\\n",
    "    + [ [ [-one72, -one12, 0], [ -one12, -one72, 0], [ 0, 0, one36] ],\n",
    "        [ [-one72,  one12, 0], [  one12, -one72, 0], [ 0, 0, one36] ],\n",
    "        [ [-one72,  one12, 0], [  one12, -one72, 0], [ 0, 0, one36] ],\n",
    "        [ [-one72, -one12, 0], [ -one12, -one72, 0], [ 0, 0, one36] ],\n",
    "        [ [ one36, 0, 0], [ 0, -one72,  one12], [ 0,  one12, -one72] ],\n",
    "        [ [ one36, 0, 0], [ 0, -one72, -one12], [ 0, -one12, -one72] ],\n",
    "        [ [-one72, 0, -one12], [ 0, one36, 0], [ -one12, 0, -one72] ],\n",
    "        [ [-one72, 0,  one12], [ 0, one36, 0], [  one12, 0, -one72] ],\n",
    "        [ [ one36, 0, 0], [ 0, -one72, -one12], [ 0, -one12, -one72] ],\n",
    "        [ [ one36, 0, 0], [ 0, -one72,  one12], [ 0,  one12, -one72] ],\n",
    "        [ [-one72, 0,  one12], [ 0, one36, 0], [  one12, 0, -one72] ],\n",
    "        [ [-one72, 0, -one12], [ 0, one36, 0], [ -one12, 0, -one72] ] ]\n",
    "\n",
    "def f(i):\n",
    "    f = w[i]/cs**2*pb \\\n",
    "        + w[i]/cs**2*rho*c[i,:].dot(u) \\\n",
    "        + w[i]/(2*cs**4)*rho*u.dot((c[i,:].T@c[i,:]-cs**2*sp.eye(D))@u) \\\n",
    "        - w[i]/cs**2*(kappa*rho*D2rho) \\\n",
    "        + sum([ ww[i][j][j]/cs**2*G[j,j] for j in range(D) ]) \\\n",
    "        + sum([ ww[i][j][(j+1)%D]/cs**2*G[j,(j+1)%D] for j in range(D) ])\n",
    "    return f\n",
    "\n",
    "feq = sp.Matrix([ f(i) for i in range(0,Q) ])\n",
    "feq[0] = rho - sum(feq[1:])\n",
    "feq.simplify()\n",
    "mf = sp.simplify(M*feq)"
   ]
  },
  {
   "cell_type": "code",
   "execution_count": 64,
   "metadata": {},
   "outputs": [
    {
     "data": {
      "text/latex": [
       "$\\displaystyle \\left[\\begin{matrix}\\rho{\\left(x,y,z \\right)}\\\\u_{x} \\rho{\\left(x,y,z \\right)}\\\\u_{y} \\rho{\\left(x,y,z \\right)}\\\\u_{z} \\rho{\\left(x,y,z \\right)}\\\\3 k^{2} \\kappa \\rho^{2}{\\left(x,y,z \\right)} + 3 p_{b} + u_{x}^{2} \\rho{\\left(x,y,z \\right)} + u_{y}^{2} \\rho{\\left(x,y,z \\right)} + u_{z}^{2} \\rho{\\left(x,y,z \\right)} - \\rho{\\left(x,y,z \\right)}\\\\\\left(2 u_{x}^{2} - u_{y}^{2} - u_{z}^{2}\\right) \\rho{\\left(x,y,z \\right)}\\\\\\left(u_{y}^{2} - u_{z}^{2}\\right) \\rho{\\left(x,y,z \\right)}\\\\u_{x} u_{y} \\rho{\\left(x,y,z \\right)}\\\\u_{y} u_{z} \\rho{\\left(x,y,z \\right)}\\\\u_{x} u_{z} \\rho{\\left(x,y,z \\right)}\\\\0\\\\0\\\\0\\\\0\\\\0\\\\0\\\\- 3 k^{2} \\kappa \\rho^{2}{\\left(x,y,z \\right)} - 3 p_{b} + \\rho{\\left(x,y,z \\right)}\\\\0\\\\0\\end{matrix}\\right]$"
      ],
      "text/plain": [
       "Matrix([\n",
       "[                                                                                                         rho(x, y, z)],\n",
       "[                                                                                                     u_x*rho(x, y, z)],\n",
       "[                                                                                                     u_y*rho(x, y, z)],\n",
       "[                                                                                                     u_z*rho(x, y, z)],\n",
       "[3*k**2*kappa*rho(x, y, z)**2 + 3*p_b + u_x**2*rho(x, y, z) + u_y**2*rho(x, y, z) + u_z**2*rho(x, y, z) - rho(x, y, z)],\n",
       "[                                                                            (2*u_x**2 - u_y**2 - u_z**2)*rho(x, y, z)],\n",
       "[                                                                                       (u_y**2 - u_z**2)*rho(x, y, z)],\n",
       "[                                                                                                 u_x*u_y*rho(x, y, z)],\n",
       "[                                                                                                 u_y*u_z*rho(x, y, z)],\n",
       "[                                                                                                 u_x*u_z*rho(x, y, z)],\n",
       "[                                                                                                                    0],\n",
       "[                                                                                                                    0],\n",
       "[                                                                                                                    0],\n",
       "[                                                                                                                    0],\n",
       "[                                                                                                                    0],\n",
       "[                                                                                                                    0],\n",
       "[                                                                 -3*k**2*kappa*rho(x, y, z)**2 - 3*p_b + rho(x, y, z)],\n",
       "[                                                                                                                    0],\n",
       "[                                                                                                                    0]])"
      ]
     },
     "execution_count": 64,
     "metadata": {},
     "output_type": "execute_result"
    }
   ],
   "source": [
    "mf"
   ]
  },
  {
   "cell_type": "code",
   "execution_count": 65,
   "metadata": {},
   "outputs": [
    {
     "data": {
      "text/latex": [
       "$\\displaystyle \\left[\\begin{array}{ccccccccccccccccccc}S{\\left(k \\right)} & 0 & 0 & 0 & \\left(3 c_{s}^{2} + 3 k^{2} \\kappa \\rho_{0} - 1\\right) S{\\left(k \\right)} & 0 & 0 & 0 & 0 & 0 & 0 & 0 & 0 & 0 & 0 & 0 & \\left(- 3 c_{s}^{2} - 3 k^{2} \\kappa \\rho_{0} + 1\\right) S{\\left(k \\right)} & 0 & 0\\\\0 & \\left(c_{s}^{2} + k^{2} \\kappa \\rho_{0}\\right) S{\\left(k \\right)} & 0 & 0 & 0 & 0 & 0 & 0 & 0 & 0 & 0 & 0 & 0 & 0 & 0 & 0 & 0 & 0 & 0\\\\0 & 0 & \\left(c_{s}^{2} + k^{2} \\kappa \\rho_{0}\\right) S{\\left(k \\right)} & 0 & 0 & 0 & 0 & 0 & 0 & 0 & 0 & 0 & 0 & 0 & 0 & 0 & 0 & 0 & 0\\\\0 & 0 & 0 & \\left(c_{s}^{2} + k^{2} \\kappa \\rho_{0}\\right) S{\\left(k \\right)} & 0 & 0 & 0 & 0 & 0 & 0 & 0 & 0 & 0 & 0 & 0 & 0 & 0 & 0 & 0\\\\\\left(3 c_{s}^{2} + 3 k^{2} \\kappa \\rho_{0} - 1\\right) S{\\left(k \\right)} & 0 & 0 & 0 & \\left(- c_{s}^{2} - k^{2} \\kappa \\rho_{0} + 1\\right) S{\\left(k \\right)} & 0 & 0 & 0 & 0 & 0 & 0 & 0 & 0 & 0 & 0 & 0 & \\left(3 c_{s}^{2} + 3 k^{2} \\kappa \\rho_{0} - 1\\right) S{\\left(k \\right)} & 0 & 0\\\\0 & 0 & 0 & 0 & 0 & 4 \\left(c_{s}^{2} + k^{2} \\kappa \\rho_{0}\\right) S{\\left(k \\right)} & 0 & 0 & 0 & 0 & 0 & 0 & 0 & 0 & 0 & 0 & 0 & 0 & 0\\\\0 & 0 & 0 & 0 & 0 & 0 & \\frac{4 \\left(c_{s}^{2} + k^{2} \\kappa \\rho_{0}\\right) S{\\left(k \\right)}}{3} & 0 & 0 & 0 & 0 & 0 & 0 & 0 & 0 & 0 & 0 & 0 & 0\\\\0 & 0 & 0 & 0 & 0 & 0 & 0 & \\frac{\\left(c_{s}^{2} + k^{2} \\kappa \\rho_{0}\\right) S{\\left(k \\right)}}{3} & 0 & 0 & 0 & 0 & 0 & 0 & 0 & 0 & 0 & 0 & 0\\\\0 & 0 & 0 & 0 & 0 & 0 & 0 & 0 & \\frac{\\left(c_{s}^{2} + k^{2} \\kappa \\rho_{0}\\right) S{\\left(k \\right)}}{3} & 0 & 0 & 0 & 0 & 0 & 0 & 0 & 0 & 0 & 0\\\\0 & 0 & 0 & 0 & 0 & 0 & 0 & 0 & 0 & \\frac{\\left(c_{s}^{2} + k^{2} \\kappa \\rho_{0}\\right) S{\\left(k \\right)}}{3} & 0 & 0 & 0 & 0 & 0 & 0 & 0 & 0 & 0\\\\0 & 0 & 0 & 0 & 0 & 0 & 0 & 0 & 0 & 0 & 2 \\left(c_{s}^{2} + k^{2} \\kappa \\rho_{0}\\right) S{\\left(k \\right)} & 0 & 0 & 0 & 0 & 0 & 0 & 0 & 0\\\\0 & 0 & 0 & 0 & 0 & 0 & 0 & 0 & 0 & 0 & 0 & 2 \\left(c_{s}^{2} + k^{2} \\kappa \\rho_{0}\\right) S{\\left(k \\right)} & 0 & 0 & 0 & 0 & 0 & 0 & 0\\\\0 & 0 & 0 & 0 & 0 & 0 & 0 & 0 & 0 & 0 & 0 & 0 & 2 \\left(c_{s}^{2} + k^{2} \\kappa \\rho_{0}\\right) S{\\left(k \\right)} & 0 & 0 & 0 & 0 & 0 & 0\\\\0 & 0 & 0 & 0 & 0 & 0 & 0 & 0 & 0 & 0 & 0 & 0 & 0 & \\frac{2 \\left(c_{s}^{2} + k^{2} \\kappa \\rho_{0}\\right) S{\\left(k \\right)}}{3} & 0 & 0 & 0 & 0 & 0\\\\0 & 0 & 0 & 0 & 0 & 0 & 0 & 0 & 0 & 0 & 0 & 0 & 0 & 0 & \\frac{2 \\left(c_{s}^{2} + k^{2} \\kappa \\rho_{0}\\right) S{\\left(k \\right)}}{3} & 0 & 0 & 0 & 0\\\\0 & 0 & 0 & 0 & 0 & 0 & 0 & 0 & 0 & 0 & 0 & 0 & 0 & 0 & 0 & \\frac{2 \\left(c_{s}^{2} + k^{2} \\kappa \\rho_{0}\\right) S{\\left(k \\right)}}{3} & 0 & 0 & 0\\\\\\left(- 3 c_{s}^{2} - 3 k^{2} \\kappa \\rho_{0} + 1\\right) S{\\left(k \\right)} & 0 & 0 & 0 & \\left(3 c_{s}^{2} + 3 k^{2} \\kappa \\rho_{0} - 1\\right) S{\\left(k \\right)} & 0 & 0 & 0 & 0 & 0 & 0 & 0 & 0 & 0 & 0 & 0 & \\left(3 c_{s}^{2} + 3 k^{2} \\kappa \\rho_{0} + 1\\right) S{\\left(k \\right)} & 0 & 0\\\\0 & 0 & 0 & 0 & 0 & 0 & 0 & 0 & 0 & 0 & 0 & 0 & 0 & 0 & 0 & 0 & 0 & 4 \\left(c_{s}^{2} + k^{2} \\kappa \\rho_{0}\\right) S{\\left(k \\right)} & 0\\\\0 & 0 & 0 & 0 & 0 & 0 & 0 & 0 & 0 & 0 & 0 & 0 & 0 & 0 & 0 & 0 & 0 & 0 & \\frac{4 \\left(c_{s}^{2} + k^{2} \\kappa \\rho_{0}\\right) S{\\left(k \\right)}}{3}\\end{array}\\right]$"
      ],
      "text/plain": [
       "Matrix([\n",
       "[                                    S(k),                               0,                               0,                               0, (3*c_s**2 + 3*k**2*kappa*rho0 - 1)*S(k),                                 0,                                   0,                                 0,                                 0,                                 0,                                 0,                                 0,                                 0,                                   0,                                   0,                                   0, (-3*c_s**2 - 3*k**2*kappa*rho0 + 1)*S(k),                                 0,                                   0],\n",
       "[                                       0, (c_s**2 + k**2*kappa*rho0)*S(k),                               0,                               0,                                       0,                                 0,                                   0,                                 0,                                 0,                                 0,                                 0,                                 0,                                 0,                                   0,                                   0,                                   0,                                        0,                                 0,                                   0],\n",
       "[                                       0,                               0, (c_s**2 + k**2*kappa*rho0)*S(k),                               0,                                       0,                                 0,                                   0,                                 0,                                 0,                                 0,                                 0,                                 0,                                 0,                                   0,                                   0,                                   0,                                        0,                                 0,                                   0],\n",
       "[                                       0,                               0,                               0, (c_s**2 + k**2*kappa*rho0)*S(k),                                       0,                                 0,                                   0,                                 0,                                 0,                                 0,                                 0,                                 0,                                 0,                                   0,                                   0,                                   0,                                        0,                                 0,                                   0],\n",
       "[ (3*c_s**2 + 3*k**2*kappa*rho0 - 1)*S(k),                               0,                               0,                               0,    (-c_s**2 - k**2*kappa*rho0 + 1)*S(k),                                 0,                                   0,                                 0,                                 0,                                 0,                                 0,                                 0,                                 0,                                   0,                                   0,                                   0,  (3*c_s**2 + 3*k**2*kappa*rho0 - 1)*S(k),                                 0,                                   0],\n",
       "[                                       0,                               0,                               0,                               0,                                       0, 4*(c_s**2 + k**2*kappa*rho0)*S(k),                                   0,                                 0,                                 0,                                 0,                                 0,                                 0,                                 0,                                   0,                                   0,                                   0,                                        0,                                 0,                                   0],\n",
       "[                                       0,                               0,                               0,                               0,                                       0,                                 0, 4*(c_s**2 + k**2*kappa*rho0)*S(k)/3,                                 0,                                 0,                                 0,                                 0,                                 0,                                 0,                                   0,                                   0,                                   0,                                        0,                                 0,                                   0],\n",
       "[                                       0,                               0,                               0,                               0,                                       0,                                 0,                                   0, (c_s**2 + k**2*kappa*rho0)*S(k)/3,                                 0,                                 0,                                 0,                                 0,                                 0,                                   0,                                   0,                                   0,                                        0,                                 0,                                   0],\n",
       "[                                       0,                               0,                               0,                               0,                                       0,                                 0,                                   0,                                 0, (c_s**2 + k**2*kappa*rho0)*S(k)/3,                                 0,                                 0,                                 0,                                 0,                                   0,                                   0,                                   0,                                        0,                                 0,                                   0],\n",
       "[                                       0,                               0,                               0,                               0,                                       0,                                 0,                                   0,                                 0,                                 0, (c_s**2 + k**2*kappa*rho0)*S(k)/3,                                 0,                                 0,                                 0,                                   0,                                   0,                                   0,                                        0,                                 0,                                   0],\n",
       "[                                       0,                               0,                               0,                               0,                                       0,                                 0,                                   0,                                 0,                                 0,                                 0, 2*(c_s**2 + k**2*kappa*rho0)*S(k),                                 0,                                 0,                                   0,                                   0,                                   0,                                        0,                                 0,                                   0],\n",
       "[                                       0,                               0,                               0,                               0,                                       0,                                 0,                                   0,                                 0,                                 0,                                 0,                                 0, 2*(c_s**2 + k**2*kappa*rho0)*S(k),                                 0,                                   0,                                   0,                                   0,                                        0,                                 0,                                   0],\n",
       "[                                       0,                               0,                               0,                               0,                                       0,                                 0,                                   0,                                 0,                                 0,                                 0,                                 0,                                 0, 2*(c_s**2 + k**2*kappa*rho0)*S(k),                                   0,                                   0,                                   0,                                        0,                                 0,                                   0],\n",
       "[                                       0,                               0,                               0,                               0,                                       0,                                 0,                                   0,                                 0,                                 0,                                 0,                                 0,                                 0,                                 0, 2*(c_s**2 + k**2*kappa*rho0)*S(k)/3,                                   0,                                   0,                                        0,                                 0,                                   0],\n",
       "[                                       0,                               0,                               0,                               0,                                       0,                                 0,                                   0,                                 0,                                 0,                                 0,                                 0,                                 0,                                 0,                                   0, 2*(c_s**2 + k**2*kappa*rho0)*S(k)/3,                                   0,                                        0,                                 0,                                   0],\n",
       "[                                       0,                               0,                               0,                               0,                                       0,                                 0,                                   0,                                 0,                                 0,                                 0,                                 0,                                 0,                                 0,                                   0,                                   0, 2*(c_s**2 + k**2*kappa*rho0)*S(k)/3,                                        0,                                 0,                                   0],\n",
       "[(-3*c_s**2 - 3*k**2*kappa*rho0 + 1)*S(k),                               0,                               0,                               0, (3*c_s**2 + 3*k**2*kappa*rho0 - 1)*S(k),                                 0,                                   0,                                 0,                                 0,                                 0,                                 0,                                 0,                                 0,                                   0,                                   0,                                   0,  (3*c_s**2 + 3*k**2*kappa*rho0 + 1)*S(k),                                 0,                                   0],\n",
       "[                                       0,                               0,                               0,                               0,                                       0,                                 0,                                   0,                                 0,                                 0,                                 0,                                 0,                                 0,                                 0,                                   0,                                   0,                                   0,                                        0, 4*(c_s**2 + k**2*kappa*rho0)*S(k),                                   0],\n",
       "[                                       0,                               0,                               0,                               0,                                       0,                                 0,                                   0,                                 0,                                 0,                                 0,                                 0,                                 0,                                 0,                                   0,                                   0,                                   0,                                        0,                                 0, 4*(c_s**2 + k**2*kappa*rho0)*S(k)/3]])"
      ]
     },
     "execution_count": 65,
     "metadata": {},
     "output_type": "execute_result"
    }
   ],
   "source": [
    "rho0 = sp.symbols(\"rho0\")\n",
    "k = sp.symbols('k')\n",
    "fbar = feq.subs({pb:rho*sp.symbols('c_s')**2}).subs({rho:rho0,ux:0,uy:0,uz:0})\n",
    "S = sp.symbols('S', cls=sp.Function)(k)/rho0*sp.diag(*fbar)\n",
    "G = sp.simplify(M@S@M.T)\n",
    "G"
   ]
  },
  {
   "cell_type": "code",
   "execution_count": 66,
   "metadata": {},
   "outputs": [
    {
     "data": {
      "text/latex": [
       "$\\displaystyle \\left[\\begin{array}{ccccccccccccccccccc}0 & 0 & 0 & 0 & 0 & 0 & 0 & 0 & 0 & 0 & 0 & 0 & 0 & 0 & 0 & 0 & 0 & 0 & 0\\\\0 & 0 & 0 & 0 & 0 & 0 & 0 & 0 & 0 & 0 & 0 & 0 & 0 & 0 & 0 & 0 & 0 & 0 & 0\\\\0 & 0 & 0 & 0 & 0 & 0 & 0 & 0 & 0 & 0 & 0 & 0 & 0 & 0 & 0 & 0 & 0 & 0 & 0\\\\0 & 0 & 0 & 0 & 0 & 0 & 0 & 0 & 0 & 0 & 0 & 0 & 0 & 0 & 0 & 0 & 0 & 0 & 0\\\\\\lambda_{b} \\left(3 c_{s}^{2} + 3 k^{2} \\kappa \\rho_{0} - 1\\right) & 0 & 0 & 0 & \\lambda_{b} & 0 & 0 & 0 & 0 & 0 & 0 & 0 & 0 & 0 & 0 & 0 & 0 & 0 & 0\\\\0 & 0 & 0 & 0 & 0 & \\lambda_{b} & 0 & 0 & 0 & 0 & 0 & 0 & 0 & 0 & 0 & 0 & 0 & 0 & 0\\\\0 & 0 & 0 & 0 & 0 & 0 & \\lambda_{b} & 0 & 0 & 0 & 0 & 0 & 0 & 0 & 0 & 0 & 0 & 0 & 0\\\\0 & 0 & 0 & 0 & 0 & 0 & 0 & \\lambda_{s} & 0 & 0 & 0 & 0 & 0 & 0 & 0 & 0 & 0 & 0 & 0\\\\0 & 0 & 0 & 0 & 0 & 0 & 0 & 0 & \\lambda_{s} & 0 & 0 & 0 & 0 & 0 & 0 & 0 & 0 & 0 & 0\\\\0 & 0 & 0 & 0 & 0 & 0 & 0 & 0 & 0 & \\lambda_{s} & 0 & 0 & 0 & 0 & 0 & 0 & 0 & 0 & 0\\\\0 & 0 & 0 & 0 & 0 & 0 & 0 & 0 & 0 & 0 & \\lambda_{q} & 0 & 0 & 0 & 0 & 0 & 0 & 0 & 0\\\\0 & 0 & 0 & 0 & 0 & 0 & 0 & 0 & 0 & 0 & 0 & \\lambda_{q} & 0 & 0 & 0 & 0 & 0 & 0 & 0\\\\0 & 0 & 0 & 0 & 0 & 0 & 0 & 0 & 0 & 0 & 0 & 0 & \\lambda_{q} & 0 & 0 & 0 & 0 & 0 & 0\\\\0 & 0 & 0 & 0 & 0 & 0 & 0 & 0 & 0 & 0 & 0 & 0 & 0 & \\lambda_{q} & 0 & 0 & 0 & 0 & 0\\\\0 & 0 & 0 & 0 & 0 & 0 & 0 & 0 & 0 & 0 & 0 & 0 & 0 & 0 & \\lambda_{q} & 0 & 0 & 0 & 0\\\\0 & 0 & 0 & 0 & 0 & 0 & 0 & 0 & 0 & 0 & 0 & 0 & 0 & 0 & 0 & \\lambda_{q} & 0 & 0 & 0\\\\\\lambda_{\\epsilon} \\left(- 3 c_{s}^{2} - 3 k^{2} \\kappa \\rho_{0} + 1\\right) & 0 & 0 & 0 & \\lambda_{\\epsilon} \\left(3 c_{s}^{2} + 3 k^{2} \\kappa \\rho_{0} - 1\\right) & 0 & 0 & 0 & 0 & 0 & 0 & 0 & 0 & 0 & 0 & 0 & \\lambda_{\\epsilon} & 0 & 0\\\\0 & 0 & 0 & 0 & 0 & 0 & 0 & 0 & 0 & 0 & 0 & 0 & 0 & 0 & 0 & 0 & 0 & \\lambda_{q} & 0\\\\0 & 0 & 0 & 0 & 0 & 0 & 0 & 0 & 0 & 0 & 0 & 0 & 0 & 0 & 0 & 0 & 0 & 0 & \\lambda_{q}\\end{array}\\right]$"
      ],
      "text/plain": [
       "Matrix([\n",
       "[                                                 0, 0, 0, 0,                                                 0,        0,        0,        0,        0,        0,        0,        0,        0,        0,        0,        0,              0,        0,        0],\n",
       "[                                                 0, 0, 0, 0,                                                 0,        0,        0,        0,        0,        0,        0,        0,        0,        0,        0,        0,              0,        0,        0],\n",
       "[                                                 0, 0, 0, 0,                                                 0,        0,        0,        0,        0,        0,        0,        0,        0,        0,        0,        0,              0,        0,        0],\n",
       "[                                                 0, 0, 0, 0,                                                 0,        0,        0,        0,        0,        0,        0,        0,        0,        0,        0,        0,              0,        0,        0],\n",
       "[       lambda_b*(3*c_s**2 + 3*k**2*kappa*rho0 - 1), 0, 0, 0,                                          lambda_b,        0,        0,        0,        0,        0,        0,        0,        0,        0,        0,        0,              0,        0,        0],\n",
       "[                                                 0, 0, 0, 0,                                                 0, lambda_b,        0,        0,        0,        0,        0,        0,        0,        0,        0,        0,              0,        0,        0],\n",
       "[                                                 0, 0, 0, 0,                                                 0,        0, lambda_b,        0,        0,        0,        0,        0,        0,        0,        0,        0,              0,        0,        0],\n",
       "[                                                 0, 0, 0, 0,                                                 0,        0,        0, lambda_s,        0,        0,        0,        0,        0,        0,        0,        0,              0,        0,        0],\n",
       "[                                                 0, 0, 0, 0,                                                 0,        0,        0,        0, lambda_s,        0,        0,        0,        0,        0,        0,        0,              0,        0,        0],\n",
       "[                                                 0, 0, 0, 0,                                                 0,        0,        0,        0,        0, lambda_s,        0,        0,        0,        0,        0,        0,              0,        0,        0],\n",
       "[                                                 0, 0, 0, 0,                                                 0,        0,        0,        0,        0,        0, lambda_q,        0,        0,        0,        0,        0,              0,        0,        0],\n",
       "[                                                 0, 0, 0, 0,                                                 0,        0,        0,        0,        0,        0,        0, lambda_q,        0,        0,        0,        0,              0,        0,        0],\n",
       "[                                                 0, 0, 0, 0,                                                 0,        0,        0,        0,        0,        0,        0,        0, lambda_q,        0,        0,        0,              0,        0,        0],\n",
       "[                                                 0, 0, 0, 0,                                                 0,        0,        0,        0,        0,        0,        0,        0,        0, lambda_q,        0,        0,              0,        0,        0],\n",
       "[                                                 0, 0, 0, 0,                                                 0,        0,        0,        0,        0,        0,        0,        0,        0,        0, lambda_q,        0,              0,        0,        0],\n",
       "[                                                 0, 0, 0, 0,                                                 0,        0,        0,        0,        0,        0,        0,        0,        0,        0,        0, lambda_q,              0,        0,        0],\n",
       "[lambda_epsilon*(-3*c_s**2 - 3*k**2*kappa*rho0 + 1), 0, 0, 0, lambda_epsilon*(3*c_s**2 + 3*k**2*kappa*rho0 - 1),        0,        0,        0,        0,        0,        0,        0,        0,        0,        0,        0, lambda_epsilon,        0,        0],\n",
       "[                                                 0, 0, 0, 0,                                                 0,        0,        0,        0,        0,        0,        0,        0,        0,        0,        0,        0,              0, lambda_q,        0],\n",
       "[                                                 0, 0, 0, 0,                                                 0,        0,        0,        0,        0,        0,        0,        0,        0,        0,        0,        0,              0,        0, lambda_q]])"
      ]
     },
     "execution_count": 66,
     "metadata": {},
     "output_type": "execute_result"
    }
   ],
   "source": [
    "lb,ls,lq,le = sp.symbols('lambda_b, lambda_s, lambda_q, lambda_epsilon')\n",
    "d = 6*(sp.symbols('c_s')**2 + rho0*kappa*k**2 - cs**2)\n",
    "Omega = sp.zeros(Q,Q)\n",
    "\n",
    "Omega[4,4]   = lb\n",
    "Omega[5,5]   = lb\n",
    "Omega[6,6]   = lb\n",
    "Omega[7,7]   = ls\n",
    "Omega[8,8]   = ls\n",
    "Omega[9,9]   = ls\n",
    "Omega[10,10] = lq\n",
    "Omega[11,11] = lq\n",
    "Omega[12,12] = lq\n",
    "Omega[13,13] = lq\n",
    "Omega[14,14] = lq\n",
    "Omega[15,15] = lq\n",
    "Omega[16,16] = le\n",
    "Omega[17,17] = lq\n",
    "Omega[18,18] = lq\n",
    "\n",
    "Omega[4,0] = d/2*lb\n",
    "Omega[16,0] = -d/2*le\n",
    "Omega[16,4] = d/2*le\n",
    "\n",
    "Omega"
   ]
  },
  {
   "cell_type": "code",
   "execution_count": 67,
   "metadata": {},
   "outputs": [
    {
     "data": {
      "text/latex": [
       "$\\displaystyle \\left[\\begin{array}{ccccccccccccccccccc}0 & 0 & 0 & 0 & 2 \\lambda_{b} \\left(- 3 c_{s}^{2} - 3 k^{2} \\kappa \\rho_{0} + 1\\right) S{\\left(k \\right)} & 0 & 0 & 0 & 0 & 0 & 0 & 0 & 0 & 0 & 0 & 0 & 3 \\lambda_{\\epsilon} \\left(- c_{s}^{2} - k^{2} \\kappa \\rho_{0} + 1\\right) \\left(3 c_{s}^{2} + 3 k^{2} \\kappa \\rho_{0} - 1\\right) S{\\left(k \\right)} & 0 & 0\\\\0 & 0 & 0 & 0 & 0 & 0 & 0 & 0 & 0 & 0 & 0 & 0 & 0 & 0 & 0 & 0 & 0 & 0 & 0\\\\0 & 0 & 0 & 0 & 0 & 0 & 0 & 0 & 0 & 0 & 0 & 0 & 0 & 0 & 0 & 0 & 0 & 0 & 0\\\\0 & 0 & 0 & 0 & 0 & 0 & 0 & 0 & 0 & 0 & 0 & 0 & 0 & 0 & 0 & 0 & 0 & 0 & 0\\\\2 \\lambda_{b} \\left(- 3 c_{s}^{2} - 3 k^{2} \\kappa \\rho_{0} + 1\\right) S{\\left(k \\right)} & 0 & 0 & 0 & \\left(- c_{s}^{2} - k^{2} \\kappa \\rho_{0} - \\lambda_{b} \\left(2 \\lambda_{b} + 1\\right) \\left(3 c_{s}^{2} + 3 k^{2} \\kappa \\rho_{0} - 1\\right)^{2} - \\left(\\lambda_{b} + 1\\right) \\left(\\lambda_{b} \\left(3 c_{s}^{2} + 3 k^{2} \\kappa \\rho_{0} - 1\\right)^{2} - \\left(\\lambda_{b} + 1\\right) \\left(c_{s}^{2} + k^{2} \\kappa \\rho_{0} - 1\\right)\\right) + 1\\right) S{\\left(k \\right)} & 0 & 0 & 0 & 0 & 0 & 0 & 0 & 0 & 0 & 0 & 0 & \\left(3 c_{s}^{2} + 3 k^{2} \\kappa \\rho_{0} - 1\\right) \\left(\\lambda_{\\epsilon} \\left(2 \\lambda_{b} + 1\\right) \\left(3 c_{s}^{2} + 3 k^{2} \\kappa \\rho_{0} - 1\\right) - \\lambda_{\\epsilon} \\left(\\lambda_{b} \\left(3 c_{s}^{2} + 3 k^{2} \\kappa \\rho_{0} - 1\\right)^{2} - \\left(\\lambda_{b} + 1\\right) \\left(c_{s}^{2} + k^{2} \\kappa \\rho_{0} - 1\\right)\\right) + \\left(\\lambda_{\\epsilon} + 1\\right) \\left(\\lambda_{b} \\left(3 c_{s}^{2} + 3 k^{2} \\kappa \\rho_{0} - 1\\right) - \\lambda_{b} - 1\\right) + 1\\right) S{\\left(k \\right)} & 0 & 0\\\\0 & 0 & 0 & 0 & 0 & 4 \\cdot \\left(1 - \\left(\\lambda_{b} + 1\\right)^{2}\\right) \\left(c_{s}^{2} + k^{2} \\kappa \\rho_{0}\\right) S{\\left(k \\right)} & 0 & 0 & 0 & 0 & 0 & 0 & 0 & 0 & 0 & 0 & 0 & 0 & 0\\\\0 & 0 & 0 & 0 & 0 & 0 & \\frac{4 \\cdot \\left(1 - \\left(\\lambda_{b} + 1\\right)^{2}\\right) \\left(c_{s}^{2} + k^{2} \\kappa \\rho_{0}\\right) S{\\left(k \\right)}}{3} & 0 & 0 & 0 & 0 & 0 & 0 & 0 & 0 & 0 & 0 & 0 & 0\\\\0 & 0 & 0 & 0 & 0 & 0 & 0 & \\frac{\\left(1 - \\left(\\lambda_{s} + 1\\right)^{2}\\right) \\left(c_{s}^{2} + k^{2} \\kappa \\rho_{0}\\right) S{\\left(k \\right)}}{3} & 0 & 0 & 0 & 0 & 0 & 0 & 0 & 0 & 0 & 0 & 0\\\\0 & 0 & 0 & 0 & 0 & 0 & 0 & 0 & \\frac{\\left(1 - \\left(\\lambda_{s} + 1\\right)^{2}\\right) \\left(c_{s}^{2} + k^{2} \\kappa \\rho_{0}\\right) S{\\left(k \\right)}}{3} & 0 & 0 & 0 & 0 & 0 & 0 & 0 & 0 & 0 & 0\\\\0 & 0 & 0 & 0 & 0 & 0 & 0 & 0 & 0 & \\frac{\\left(1 - \\left(\\lambda_{s} + 1\\right)^{2}\\right) \\left(c_{s}^{2} + k^{2} \\kappa \\rho_{0}\\right) S{\\left(k \\right)}}{3} & 0 & 0 & 0 & 0 & 0 & 0 & 0 & 0 & 0\\\\0 & 0 & 0 & 0 & 0 & 0 & 0 & 0 & 0 & 0 & 2 \\cdot \\left(1 - \\left(\\lambda_{q} + 1\\right)^{2}\\right) \\left(c_{s}^{2} + k^{2} \\kappa \\rho_{0}\\right) S{\\left(k \\right)} & 0 & 0 & 0 & 0 & 0 & 0 & 0 & 0\\\\0 & 0 & 0 & 0 & 0 & 0 & 0 & 0 & 0 & 0 & 0 & 2 \\cdot \\left(1 - \\left(\\lambda_{q} + 1\\right)^{2}\\right) \\left(c_{s}^{2} + k^{2} \\kappa \\rho_{0}\\right) S{\\left(k \\right)} & 0 & 0 & 0 & 0 & 0 & 0 & 0\\\\0 & 0 & 0 & 0 & 0 & 0 & 0 & 0 & 0 & 0 & 0 & 0 & 2 \\cdot \\left(1 - \\left(\\lambda_{q} + 1\\right)^{2}\\right) \\left(c_{s}^{2} + k^{2} \\kappa \\rho_{0}\\right) S{\\left(k \\right)} & 0 & 0 & 0 & 0 & 0 & 0\\\\0 & 0 & 0 & 0 & 0 & 0 & 0 & 0 & 0 & 0 & 0 & 0 & 0 & \\frac{2 \\cdot \\left(1 - \\left(\\lambda_{q} + 1\\right)^{2}\\right) \\left(c_{s}^{2} + k^{2} \\kappa \\rho_{0}\\right) S{\\left(k \\right)}}{3} & 0 & 0 & 0 & 0 & 0\\\\0 & 0 & 0 & 0 & 0 & 0 & 0 & 0 & 0 & 0 & 0 & 0 & 0 & 0 & \\frac{2 \\cdot \\left(1 - \\left(\\lambda_{q} + 1\\right)^{2}\\right) \\left(c_{s}^{2} + k^{2} \\kappa \\rho_{0}\\right) S{\\left(k \\right)}}{3} & 0 & 0 & 0 & 0\\\\0 & 0 & 0 & 0 & 0 & 0 & 0 & 0 & 0 & 0 & 0 & 0 & 0 & 0 & 0 & \\frac{2 \\cdot \\left(1 - \\left(\\lambda_{q} + 1\\right)^{2}\\right) \\left(c_{s}^{2} + k^{2} \\kappa \\rho_{0}\\right) S{\\left(k \\right)}}{3} & 0 & 0 & 0\\\\3 \\lambda_{\\epsilon} \\left(- c_{s}^{2} - k^{2} \\kappa \\rho_{0} + 1\\right) \\left(3 c_{s}^{2} + 3 k^{2} \\kappa \\rho_{0} - 1\\right) S{\\left(k \\right)} & 0 & 0 & 0 & \\left(3 c_{s}^{2} + 3 k^{2} \\kappa \\rho_{0} - 1\\right) \\left(\\lambda_{b} \\left(3 c_{s}^{2} + 3 k^{2} \\kappa \\rho_{0} - 1\\right) \\left(- \\lambda_{\\epsilon} \\left(3 c_{s}^{2} + 3 k^{2} \\kappa \\rho_{0} - 1\\right) + 2 \\lambda_{\\epsilon} + 1\\right) + \\left(\\lambda_{b} + 1\\right) \\left(\\lambda_{\\epsilon} \\left(c_{s}^{2} + k^{2} \\kappa \\rho_{0} - 1\\right) + \\lambda_{\\epsilon} \\left(3 c_{s}^{2} + 3 k^{2} \\kappa \\rho_{0} - 1\\right) - \\lambda_{\\epsilon} - 1\\right) + 1\\right) S{\\left(k \\right)} & 0 & 0 & 0 & 0 & 0 & 0 & 0 & 0 & 0 & 0 & 0 & \\left(3 c_{s}^{2} + 3 k^{2} \\kappa \\rho_{0} - \\lambda_{\\epsilon} \\left(3 c_{s}^{2} + 3 k^{2} \\kappa \\rho_{0} - 1\\right)^{2} \\left(- \\lambda_{\\epsilon} \\left(3 c_{s}^{2} + 3 k^{2} \\kappa \\rho_{0} - 1\\right) + 2 \\lambda_{\\epsilon} + 1\\right) + \\lambda_{\\epsilon} \\left(3 c_{s}^{2} + 3 k^{2} \\kappa \\rho_{0} - 1\\right)^{2} \\left(\\lambda_{\\epsilon} \\left(c_{s}^{2} + k^{2} \\kappa \\rho_{0} - 1\\right) + \\lambda_{\\epsilon} \\left(3 c_{s}^{2} + 3 k^{2} \\kappa \\rho_{0} - 1\\right) - \\lambda_{\\epsilon} - 1\\right) - \\left(\\lambda_{\\epsilon} + 1\\right) \\left(2 \\lambda_{\\epsilon} \\left(3 c_{s}^{2} + 3 k^{2} \\kappa \\rho_{0} - 1\\right)^{2} + \\left(\\lambda_{\\epsilon} + 1\\right) \\left(3 c_{s}^{2} + 3 k^{2} \\kappa \\rho_{0} + 1\\right)\\right) + 1\\right) S{\\left(k \\right)} & 0 & 0\\\\0 & 0 & 0 & 0 & 0 & 0 & 0 & 0 & 0 & 0 & 0 & 0 & 0 & 0 & 0 & 0 & 0 & 4 \\cdot \\left(1 - \\left(\\lambda_{q} + 1\\right)^{2}\\right) \\left(c_{s}^{2} + k^{2} \\kappa \\rho_{0}\\right) S{\\left(k \\right)} & 0\\\\0 & 0 & 0 & 0 & 0 & 0 & 0 & 0 & 0 & 0 & 0 & 0 & 0 & 0 & 0 & 0 & 0 & 0 & \\frac{4 \\cdot \\left(1 - \\left(\\lambda_{q} + 1\\right)^{2}\\right) \\left(c_{s}^{2} + k^{2} \\kappa \\rho_{0}\\right) S{\\left(k \\right)}}{3}\\end{array}\\right]$"
      ],
      "text/plain": [
       "Matrix([\n",
       "[                                                                                       0, 0, 0, 0,                                                                                                                                                                                                                                                             2*lambda_b*(-3*c_s**2 - 3*k**2*kappa*rho0 + 1)*S(k),                                                         0,                                                           0,                                                         0,                                                         0,                                                         0,                                                         0,                                                         0,                                                         0,                                                           0,                                                           0,                                                           0,                                                                                                                                                                                                                                                                                                                                                                                                             3*lambda_epsilon*(-c_s**2 - k**2*kappa*rho0 + 1)*(3*c_s**2 + 3*k**2*kappa*rho0 - 1)*S(k),                                                         0,                                                           0],\n",
       "[                                                                                       0, 0, 0, 0,                                                                                                                                                                                                                                                                                                               0,                                                         0,                                                           0,                                                         0,                                                         0,                                                         0,                                                         0,                                                         0,                                                         0,                                                           0,                                                           0,                                                           0,                                                                                                                                                                                                                                                                                                                                                                                                                                                                                                    0,                                                         0,                                                           0],\n",
       "[                                                                                       0, 0, 0, 0,                                                                                                                                                                                                                                                                                                               0,                                                         0,                                                           0,                                                         0,                                                         0,                                                         0,                                                         0,                                                         0,                                                         0,                                                           0,                                                           0,                                                           0,                                                                                                                                                                                                                                                                                                                                                                                                                                                                                                    0,                                                         0,                                                           0],\n",
       "[                                                                                       0, 0, 0, 0,                                                                                                                                                                                                                                                                                                               0,                                                         0,                                                           0,                                                         0,                                                         0,                                                         0,                                                         0,                                                         0,                                                         0,                                                           0,                                                           0,                                                           0,                                                                                                                                                                                                                                                                                                                                                                                                                                                                                                    0,                                                         0,                                                           0],\n",
       "[                                     2*lambda_b*(-3*c_s**2 - 3*k**2*kappa*rho0 + 1)*S(k), 0, 0, 0,                                                                                        (-c_s**2 - k**2*kappa*rho0 - lambda_b*(2*lambda_b + 1)*(3*c_s**2 + 3*k**2*kappa*rho0 - 1)**2 - (lambda_b + 1)*(lambda_b*(3*c_s**2 + 3*k**2*kappa*rho0 - 1)**2 - (lambda_b + 1)*(c_s**2 + k**2*kappa*rho0 - 1)) + 1)*S(k),                                                         0,                                                           0,                                                         0,                                                         0,                                                         0,                                                         0,                                                         0,                                                         0,                                                           0,                                                           0,                                                           0,                                                                                                                                                                               (3*c_s**2 + 3*k**2*kappa*rho0 - 1)*(lambda_epsilon*(2*lambda_b + 1)*(3*c_s**2 + 3*k**2*kappa*rho0 - 1) - lambda_epsilon*(lambda_b*(3*c_s**2 + 3*k**2*kappa*rho0 - 1)**2 - (lambda_b + 1)*(c_s**2 + k**2*kappa*rho0 - 1)) + (lambda_epsilon + 1)*(lambda_b*(3*c_s**2 + 3*k**2*kappa*rho0 - 1) - lambda_b - 1) + 1)*S(k),                                                         0,                                                           0],\n",
       "[                                                                                       0, 0, 0, 0,                                                                                                                                                                                                                                                                                                               0, 4*(1 - (lambda_b + 1)**2)*(c_s**2 + k**2*kappa*rho0)*S(k),                                                           0,                                                         0,                                                         0,                                                         0,                                                         0,                                                         0,                                                         0,                                                           0,                                                           0,                                                           0,                                                                                                                                                                                                                                                                                                                                                                                                                                                                                                    0,                                                         0,                                                           0],\n",
       "[                                                                                       0, 0, 0, 0,                                                                                                                                                                                                                                                                                                               0,                                                         0, 4*(1 - (lambda_b + 1)**2)*(c_s**2 + k**2*kappa*rho0)*S(k)/3,                                                         0,                                                         0,                                                         0,                                                         0,                                                         0,                                                         0,                                                           0,                                                           0,                                                           0,                                                                                                                                                                                                                                                                                                                                                                                                                                                                                                    0,                                                         0,                                                           0],\n",
       "[                                                                                       0, 0, 0, 0,                                                                                                                                                                                                                                                                                                               0,                                                         0,                                                           0, (1 - (lambda_s + 1)**2)*(c_s**2 + k**2*kappa*rho0)*S(k)/3,                                                         0,                                                         0,                                                         0,                                                         0,                                                         0,                                                           0,                                                           0,                                                           0,                                                                                                                                                                                                                                                                                                                                                                                                                                                                                                    0,                                                         0,                                                           0],\n",
       "[                                                                                       0, 0, 0, 0,                                                                                                                                                                                                                                                                                                               0,                                                         0,                                                           0,                                                         0, (1 - (lambda_s + 1)**2)*(c_s**2 + k**2*kappa*rho0)*S(k)/3,                                                         0,                                                         0,                                                         0,                                                         0,                                                           0,                                                           0,                                                           0,                                                                                                                                                                                                                                                                                                                                                                                                                                                                                                    0,                                                         0,                                                           0],\n",
       "[                                                                                       0, 0, 0, 0,                                                                                                                                                                                                                                                                                                               0,                                                         0,                                                           0,                                                         0,                                                         0, (1 - (lambda_s + 1)**2)*(c_s**2 + k**2*kappa*rho0)*S(k)/3,                                                         0,                                                         0,                                                         0,                                                           0,                                                           0,                                                           0,                                                                                                                                                                                                                                                                                                                                                                                                                                                                                                    0,                                                         0,                                                           0],\n",
       "[                                                                                       0, 0, 0, 0,                                                                                                                                                                                                                                                                                                               0,                                                         0,                                                           0,                                                         0,                                                         0,                                                         0, 2*(1 - (lambda_q + 1)**2)*(c_s**2 + k**2*kappa*rho0)*S(k),                                                         0,                                                         0,                                                           0,                                                           0,                                                           0,                                                                                                                                                                                                                                                                                                                                                                                                                                                                                                    0,                                                         0,                                                           0],\n",
       "[                                                                                       0, 0, 0, 0,                                                                                                                                                                                                                                                                                                               0,                                                         0,                                                           0,                                                         0,                                                         0,                                                         0,                                                         0, 2*(1 - (lambda_q + 1)**2)*(c_s**2 + k**2*kappa*rho0)*S(k),                                                         0,                                                           0,                                                           0,                                                           0,                                                                                                                                                                                                                                                                                                                                                                                                                                                                                                    0,                                                         0,                                                           0],\n",
       "[                                                                                       0, 0, 0, 0,                                                                                                                                                                                                                                                                                                               0,                                                         0,                                                           0,                                                         0,                                                         0,                                                         0,                                                         0,                                                         0, 2*(1 - (lambda_q + 1)**2)*(c_s**2 + k**2*kappa*rho0)*S(k),                                                           0,                                                           0,                                                           0,                                                                                                                                                                                                                                                                                                                                                                                                                                                                                                    0,                                                         0,                                                           0],\n",
       "[                                                                                       0, 0, 0, 0,                                                                                                                                                                                                                                                                                                               0,                                                         0,                                                           0,                                                         0,                                                         0,                                                         0,                                                         0,                                                         0,                                                         0, 2*(1 - (lambda_q + 1)**2)*(c_s**2 + k**2*kappa*rho0)*S(k)/3,                                                           0,                                                           0,                                                                                                                                                                                                                                                                                                                                                                                                                                                                                                    0,                                                         0,                                                           0],\n",
       "[                                                                                       0, 0, 0, 0,                                                                                                                                                                                                                                                                                                               0,                                                         0,                                                           0,                                                         0,                                                         0,                                                         0,                                                         0,                                                         0,                                                         0,                                                           0, 2*(1 - (lambda_q + 1)**2)*(c_s**2 + k**2*kappa*rho0)*S(k)/3,                                                           0,                                                                                                                                                                                                                                                                                                                                                                                                                                                                                                    0,                                                         0,                                                           0],\n",
       "[                                                                                       0, 0, 0, 0,                                                                                                                                                                                                                                                                                                               0,                                                         0,                                                           0,                                                         0,                                                         0,                                                         0,                                                         0,                                                         0,                                                         0,                                                           0,                                                           0, 2*(1 - (lambda_q + 1)**2)*(c_s**2 + k**2*kappa*rho0)*S(k)/3,                                                                                                                                                                                                                                                                                                                                                                                                                                                                                                    0,                                                         0,                                                           0],\n",
       "[3*lambda_epsilon*(-c_s**2 - k**2*kappa*rho0 + 1)*(3*c_s**2 + 3*k**2*kappa*rho0 - 1)*S(k), 0, 0, 0, (3*c_s**2 + 3*k**2*kappa*rho0 - 1)*(lambda_b*(3*c_s**2 + 3*k**2*kappa*rho0 - 1)*(-lambda_epsilon*(3*c_s**2 + 3*k**2*kappa*rho0 - 1) + 2*lambda_epsilon + 1) + (lambda_b + 1)*(lambda_epsilon*(c_s**2 + k**2*kappa*rho0 - 1) + lambda_epsilon*(3*c_s**2 + 3*k**2*kappa*rho0 - 1) - lambda_epsilon - 1) + 1)*S(k),                                                         0,                                                           0,                                                         0,                                                         0,                                                         0,                                                         0,                                                         0,                                                         0,                                                           0,                                                           0,                                                           0, (3*c_s**2 + 3*k**2*kappa*rho0 - lambda_epsilon*(3*c_s**2 + 3*k**2*kappa*rho0 - 1)**2*(-lambda_epsilon*(3*c_s**2 + 3*k**2*kappa*rho0 - 1) + 2*lambda_epsilon + 1) + lambda_epsilon*(3*c_s**2 + 3*k**2*kappa*rho0 - 1)**2*(lambda_epsilon*(c_s**2 + k**2*kappa*rho0 - 1) + lambda_epsilon*(3*c_s**2 + 3*k**2*kappa*rho0 - 1) - lambda_epsilon - 1) - (lambda_epsilon + 1)*(2*lambda_epsilon*(3*c_s**2 + 3*k**2*kappa*rho0 - 1)**2 + (lambda_epsilon + 1)*(3*c_s**2 + 3*k**2*kappa*rho0 + 1)) + 1)*S(k),                                                         0,                                                           0],\n",
       "[                                                                                       0, 0, 0, 0,                                                                                                                                                                                                                                                                                                               0,                                                         0,                                                           0,                                                         0,                                                         0,                                                         0,                                                         0,                                                         0,                                                         0,                                                           0,                                                           0,                                                           0,                                                                                                                                                                                                                                                                                                                                                                                                                                                                                                    0, 4*(1 - (lambda_q + 1)**2)*(c_s**2 + k**2*kappa*rho0)*S(k),                                                           0],\n",
       "[                                                                                       0, 0, 0, 0,                                                                                                                                                                                                                                                                                                               0,                                                         0,                                                           0,                                                         0,                                                         0,                                                         0,                                                         0,                                                         0,                                                         0,                                                           0,                                                           0,                                                           0,                                                                                                                                                                                                                                                                                                                                                                                                                                                                                                    0,                                                         0, 4*(1 - (lambda_q + 1)**2)*(c_s**2 + k**2*kappa*rho0)*S(k)/3]])"
      ]
     },
     "execution_count": 67,
     "metadata": {},
     "output_type": "execute_result"
    }
   ],
   "source": [
    "Lambda = sp.eye(Q)+Omega\n",
    "Xi = sp.simplify(G-Lambda@G@Lambda.T)\n",
    "Xi"
   ]
  },
  {
   "cell_type": "markdown",
   "metadata": {},
   "source": [
    "## Multicomponent model"
   ]
  },
  {
   "cell_type": "code",
   "execution_count": 68,
   "metadata": {
    "scrolled": false
   },
   "outputs": [],
   "source": [
    "d3q19 = LBStencil(Stencil.D3Q19)\n",
    "Q = len(d3q19)\n",
    "c = sp.Matrix(d3q19)\n",
    "cs = sp.sqrt(sp.Rational(1,3))\n",
    "\n",
    "x, y, z = MOMENT_SYMBOLS\n",
    "one = sp.core.sympify(1)\n",
    "c2 = x**2+y**2+z**2\n",
    "c4 = c2**2\n",
    "\n",
    "moments = [ \n",
    "    one,\n",
    "    x,\n",
    "    y,\n",
    "    z,\n",
    "    c2-1,\n",
    "    3*x**2-c2,\n",
    "    y**2-z**2,\n",
    "    x*y,\n",
    "    y*z,\n",
    "    z*x,\n",
    "    (3*c2-5)*x,\n",
    "    (3*c2-5)*y,\n",
    "    (3*c2-5)*z,\n",
    "    (y**2-z**2)*x,\n",
    "    (z**2-x**2)*y,\n",
    "    (x**2-y**2)*z,\n",
    "    3*c4-6*c2+1,\n",
    "    (2*c2-3)*(3*x**2-c2),\n",
    "    (2*c2-3)*(y**2-z**2)\n",
    "]\n",
    "\n",
    "M = moment_matrix(moments, stencil=d3q19)"
   ]
  },
  {
   "cell_type": "code",
   "execution_count": 69,
   "metadata": {},
   "outputs": [],
   "source": [
    "propagator = sp.diag(*(-sp.I*c@sp.Matrix([kx,ky,kz])).applyfunc(sp.exp))\n",
    "propconj = sp.diag(*(+sp.I*c@sp.Matrix([kx,ky,kz])).applyfunc(sp.exp))\n",
    "assert(sp.simplify(propagator@propconj)==sp.eye(Q))"
   ]
  },
  {
   "cell_type": "raw",
   "metadata": {},
   "source": [
    "A = sp.simplify(M@propagator@M.inv(method=\"LU\"))\n",
    "Aconj = sp.simplify(M@propconj@M.inv(method=\"LU\"))\n",
    "assert(sp.simplify(A@Aconj)==sp.eye(Q))"
   ]
  },
  {
   "cell_type": "markdown",
   "metadata": {},
   "source": [
    "### Equilibrium distributions"
   ]
  },
  {
   "cell_type": "code",
   "execution_count": 70,
   "metadata": {},
   "outputs": [],
   "source": [
    "kappa = sp.symbols('kappa')\n",
    "Gamma = sp.symbols('Gamma_phi')\n",
    "rho = sp.symbols('rho',cls=sp.Function)(x,y,z)\n",
    "phi = sp.symbols('phi',cls=sp.Function)(x,y,z)\n",
    "pb = sp.symbols('p_b')\n",
    "mu = sp.symbols('mu_phi')\n",
    "ux, uy, uz = sp.symbols('u_x, u_y, u_z')\n",
    "u = sp.Matrix([ux,uy,uz])\n",
    "\n",
    "D2rho = sum([ sp.Derivative(rho,a,2) for a in [x,y,z] ])\n",
    "D2phi = sum([ sp.Derivative(phi,a,2) for a in [x,y,z] ])\n",
    "Drho2 = sp.Matrix([ [ sp.Derivative(rho,a)*sp.Derivative(rho,b) for b in [x,y,z] ] for a in [x,y,z] ])\n",
    "Dphi2 = sp.Matrix([ [ sp.Derivative(phi,a)*sp.Derivative(phi,b) for b in [x,y,z] ] for a in [x,y,z] ])\n",
    "G = kappa*Drho2+kappa*Dphi2\n",
    "\n",
    "Gxx, Gyy, Gzz, Gxy, Gyz, Gzx = sp.symbols('G_xx G_yy G_zz G_xy G_yz G_zx')\n",
    "G = sp.Matrix([[Gxx,Gxy,Gzx],[Gxy,Gyy,Gyz],[Gzx,Gyz,Gzz]])\n",
    "\n",
    "five36 = sp.Rational(5,36)\n",
    "one9 = sp.Rational(1,9)\n",
    "one12 = sp.Rational(1,12)\n",
    "one36 = sp.Rational(1,36)\n",
    "one72 = sp.Rational(1,72)\n",
    "\n",
    "w = [ sp.Rational(1,3) ] + [ sp.Rational(1,18) ]*6 + [ sp.Rational(1,36) ]*12\n",
    "\n",
    "ww =  [ [[0]*3]*3 ] \\\n",
    "    + [ [ [ -one9, 0, 0], [0, five36, 0], [0, 0,  -one9] ] ]*2 \\\n",
    "    + [ [ [five36, 0, 0], [0,  -one9, 0], [0, 0,  -one9] ] ]*2 \\\n",
    "    + [ [ [ -one9, 0, 0], [0,  -one9, 0], [0, 0, five36] ] ]*2 \\\n",
    "    + [ [ [-one72, -one12, 0], [ -one12, -one72, 0], [ 0, 0, one36] ],\n",
    "        [ [-one72,  one12, 0], [  one12, -one72, 0], [ 0, 0, one36] ],\n",
    "        [ [-one72,  one12, 0], [  one12, -one72, 0], [ 0, 0, one36] ],\n",
    "        [ [-one72, -one12, 0], [ -one12, -one72, 0], [ 0, 0, one36] ],\n",
    "        [ [ one36, 0, 0], [ 0, -one72,  one12], [ 0,  one12, -one72] ],\n",
    "        [ [ one36, 0, 0], [ 0, -one72, -one12], [ 0, -one12, -one72] ],\n",
    "        [ [-one72, 0, -one12], [ 0, one36, 0], [ -one12, 0, -one72] ],\n",
    "        [ [-one72, 0,  one12], [ 0, one36, 0], [  one12, 0, -one72] ],\n",
    "        [ [ one36, 0, 0], [ 0, -one72, -one12], [ 0, -one12, -one72] ],\n",
    "        [ [ one36, 0, 0], [ 0, -one72,  one12], [ 0,  one12, -one72] ],\n",
    "        [ [-one72, 0,  one12], [ 0, one36, 0], [  one12, 0, -one72] ],\n",
    "        [ [-one72, 0, -one12], [ 0, one36, 0], [ -one12, 0, -one72] ] ]\n",
    "\n",
    "def f(i):\n",
    "    f = w[i]/cs**2*pb \\\n",
    "        + w[i]/cs**2*rho*c[i,:].dot(u) \\\n",
    "        + w[i]/(2*cs**4)*rho*u.dot((c[i,:].T@c[i,:]-cs**2*sp.eye(3))@u) \\\n",
    "        - w[i]/cs**2*(kappa*rho*D2rho+kappa*phi*D2phi) \\\n",
    "        + sum([ ww[i][j][j]/cs**2*G[j,j] for j in range(3) ]) \\\n",
    "        + sum([ ww[i][j][(j+1)%3]/cs**2*G[j,(j+1)%3] for j in range(3) ])\n",
    "    return f\n",
    "\n",
    "feq = sp.Matrix([ f(i) for i in range(0,Q) ])\n",
    "feq[0] = rho - sum(feq[1:])\n",
    "\n",
    "def g(i):\n",
    "    g = w[i]/cs**2*Gamma*mu \\\n",
    "        + w[i]/cs**2*phi*c[i,:].dot(u) \\\n",
    "        + w[i]/(2*cs**4)*phi*u.dot((c[i,:].T@c[i,:]-cs**2*sp.eye(3))@u)\n",
    "    return g\n",
    "\n",
    "geq = sp.Matrix([ g(i) for i in range(0,Q) ])\n",
    "geq[0] = phi - sum(geq[1:])"
   ]
  },
  {
   "cell_type": "code",
   "execution_count": 71,
   "metadata": {},
   "outputs": [
    {
     "data": {
      "text/latex": [
       "$\\displaystyle \\left[\\begin{matrix}\\rho{\\left(x,y,z \\right)}\\\\u_{x} \\rho{\\left(x,y,z \\right)}\\\\u_{y} \\rho{\\left(x,y,z \\right)}\\\\u_{z} \\rho{\\left(x,y,z \\right)}\\\\- \\frac{G_{xx}}{2} - \\frac{G_{yy}}{2} - \\frac{G_{zz}}{2} - 3 \\kappa \\phi{\\left(x,y,z \\right)} \\frac{\\partial^{2}}{\\partial x^{2}} \\phi{\\left(x,y,z \\right)} - 3 \\kappa \\phi{\\left(x,y,z \\right)} \\frac{\\partial^{2}}{\\partial y^{2}} \\phi{\\left(x,y,z \\right)} - 3 \\kappa \\phi{\\left(x,y,z \\right)} \\frac{\\partial^{2}}{\\partial z^{2}} \\phi{\\left(x,y,z \\right)} - 3 \\kappa \\rho{\\left(x,y,z \\right)} \\frac{\\partial^{2}}{\\partial x^{2}} \\rho{\\left(x,y,z \\right)} - 3 \\kappa \\rho{\\left(x,y,z \\right)} \\frac{\\partial^{2}}{\\partial y^{2}} \\rho{\\left(x,y,z \\right)} - 3 \\kappa \\rho{\\left(x,y,z \\right)} \\frac{\\partial^{2}}{\\partial z^{2}} \\rho{\\left(x,y,z \\right)} + 3 p_{b} + u_{x}^{2} \\rho{\\left(x,y,z \\right)} + u_{y}^{2} \\rho{\\left(x,y,z \\right)} + u_{z}^{2} \\rho{\\left(x,y,z \\right)} - \\rho{\\left(x,y,z \\right)}\\\\2 G_{xx} - G_{yy} - G_{zz} + 2 u_{x}^{2} \\rho{\\left(x,y,z \\right)} - u_{y}^{2} \\rho{\\left(x,y,z \\right)} - u_{z}^{2} \\rho{\\left(x,y,z \\right)}\\\\G_{yy} - G_{zz} + u_{y}^{2} \\rho{\\left(x,y,z \\right)} - u_{z}^{2} \\rho{\\left(x,y,z \\right)}\\\\G_{xy} + u_{x} u_{y} \\rho{\\left(x,y,z \\right)}\\\\G_{yz} + u_{y} u_{z} \\rho{\\left(x,y,z \\right)}\\\\G_{zx} + u_{x} u_{z} \\rho{\\left(x,y,z \\right)}\\\\0\\\\0\\\\0\\\\0\\\\0\\\\0\\\\\\frac{3 G_{xx}}{2} + \\frac{3 G_{yy}}{2} + \\frac{3 G_{zz}}{2} + 3 \\kappa \\phi{\\left(x,y,z \\right)} \\frac{\\partial^{2}}{\\partial x^{2}} \\phi{\\left(x,y,z \\right)} + 3 \\kappa \\phi{\\left(x,y,z \\right)} \\frac{\\partial^{2}}{\\partial y^{2}} \\phi{\\left(x,y,z \\right)} + 3 \\kappa \\phi{\\left(x,y,z \\right)} \\frac{\\partial^{2}}{\\partial z^{2}} \\phi{\\left(x,y,z \\right)} + 3 \\kappa \\rho{\\left(x,y,z \\right)} \\frac{\\partial^{2}}{\\partial x^{2}} \\rho{\\left(x,y,z \\right)} + 3 \\kappa \\rho{\\left(x,y,z \\right)} \\frac{\\partial^{2}}{\\partial y^{2}} \\rho{\\left(x,y,z \\right)} + 3 \\kappa \\rho{\\left(x,y,z \\right)} \\frac{\\partial^{2}}{\\partial z^{2}} \\rho{\\left(x,y,z \\right)} - 3 p_{b} + \\rho{\\left(x,y,z \\right)}\\\\- 4 G_{xx} + 2 G_{yy} + 2 G_{zz}\\\\- 2 G_{yy} + 2 G_{zz}\\end{matrix}\\right]$"
      ],
      "text/plain": [
       "Matrix([\n",
       "[                                                                                                                                                                                                                                                                                                                                                                                                                                                      rho(x, y, z)],\n",
       "[                                                                                                                                                                                                                                                                                                                                                                                                                                                  u_x*rho(x, y, z)],\n",
       "[                                                                                                                                                                                                                                                                                                                                                                                                                                                  u_y*rho(x, y, z)],\n",
       "[                                                                                                                                                                                                                                                                                                                                                                                                                                                  u_z*rho(x, y, z)],\n",
       "[-G_xx/2 - G_yy/2 - G_zz/2 - 3*kappa*phi(x, y, z)*Derivative(phi(x, y, z), (x, 2)) - 3*kappa*phi(x, y, z)*Derivative(phi(x, y, z), (y, 2)) - 3*kappa*phi(x, y, z)*Derivative(phi(x, y, z), (z, 2)) - 3*kappa*rho(x, y, z)*Derivative(rho(x, y, z), (x, 2)) - 3*kappa*rho(x, y, z)*Derivative(rho(x, y, z), (y, 2)) - 3*kappa*rho(x, y, z)*Derivative(rho(x, y, z), (z, 2)) + 3*p_b + u_x**2*rho(x, y, z) + u_y**2*rho(x, y, z) + u_z**2*rho(x, y, z) - rho(x, y, z)],\n",
       "[                                                                                                                                                                                                                                                                                                                                                                          2*G_xx - G_yy - G_zz + 2*u_x**2*rho(x, y, z) - u_y**2*rho(x, y, z) - u_z**2*rho(x, y, z)],\n",
       "[                                                                                                                                                                                                                                                                                                                                                                                                           G_yy - G_zz + u_y**2*rho(x, y, z) - u_z**2*rho(x, y, z)],\n",
       "[                                                                                                                                                                                                                                                                                                                                                                                                                                       G_xy + u_x*u_y*rho(x, y, z)],\n",
       "[                                                                                                                                                                                                                                                                                                                                                                                                                                       G_yz + u_y*u_z*rho(x, y, z)],\n",
       "[                                                                                                                                                                                                                                                                                                                                                                                                                                       G_zx + u_x*u_z*rho(x, y, z)],\n",
       "[                                                                                                                                                                                                                                                                                                                                                                                                                                                                 0],\n",
       "[                                                                                                                                                                                                                                                                                                                                                                                                                                                                 0],\n",
       "[                                                                                                                                                                                                                                                                                                                                                                                                                                                                 0],\n",
       "[                                                                                                                                                                                                                                                                                                                                                                                                                                                                 0],\n",
       "[                                                                                                                                                                                                                                                                                                                                                                                                                                                                 0],\n",
       "[                                                                                                                                                                                                                                                                                                                                                                                                                                                                 0],\n",
       "[                                                             3*G_xx/2 + 3*G_yy/2 + 3*G_zz/2 + 3*kappa*phi(x, y, z)*Derivative(phi(x, y, z), (x, 2)) + 3*kappa*phi(x, y, z)*Derivative(phi(x, y, z), (y, 2)) + 3*kappa*phi(x, y, z)*Derivative(phi(x, y, z), (z, 2)) + 3*kappa*rho(x, y, z)*Derivative(rho(x, y, z), (x, 2)) + 3*kappa*rho(x, y, z)*Derivative(rho(x, y, z), (y, 2)) + 3*kappa*rho(x, y, z)*Derivative(rho(x, y, z), (z, 2)) - 3*p_b + rho(x, y, z)],\n",
       "[                                                                                                                                                                                                                                                                                                                                                                                                                                         -4*G_xx + 2*G_yy + 2*G_zz],\n",
       "[                                                                                                                                                                                                                                                                                                                                                                                                                                                  -2*G_yy + 2*G_zz]])"
      ]
     },
     "execution_count": 71,
     "metadata": {},
     "output_type": "execute_result"
    }
   ],
   "source": [
    "mf = sp.simplify(M@feq)\n",
    "mf"
   ]
  },
  {
   "cell_type": "code",
   "execution_count": 72,
   "metadata": {},
   "outputs": [
    {
     "data": {
      "text/latex": [
       "$\\displaystyle \\left[\\begin{matrix}\\phi{\\left(x,y,z \\right)}\\\\u_{x} \\phi{\\left(x,y,z \\right)}\\\\u_{y} \\phi{\\left(x,y,z \\right)}\\\\u_{z} \\phi{\\left(x,y,z \\right)}\\\\3 \\Gamma_{\\phi} \\mu_{\\phi} + u_{x}^{2} \\phi{\\left(x,y,z \\right)} + u_{y}^{2} \\phi{\\left(x,y,z \\right)} + u_{z}^{2} \\phi{\\left(x,y,z \\right)} - \\phi{\\left(x,y,z \\right)}\\\\\\left(2 u_{x}^{2} - u_{y}^{2} - u_{z}^{2}\\right) \\phi{\\left(x,y,z \\right)}\\\\\\left(u_{y}^{2} - u_{z}^{2}\\right) \\phi{\\left(x,y,z \\right)}\\\\u_{x} u_{y} \\phi{\\left(x,y,z \\right)}\\\\u_{y} u_{z} \\phi{\\left(x,y,z \\right)}\\\\u_{x} u_{z} \\phi{\\left(x,y,z \\right)}\\\\0\\\\0\\\\0\\\\0\\\\0\\\\0\\\\- 3 \\Gamma_{\\phi} \\mu_{\\phi} + \\phi{\\left(x,y,z \\right)}\\\\0\\\\0\\end{matrix}\\right]$"
      ],
      "text/plain": [
       "Matrix([\n",
       "[                                                                                       phi(x, y, z)],\n",
       "[                                                                                   u_x*phi(x, y, z)],\n",
       "[                                                                                   u_y*phi(x, y, z)],\n",
       "[                                                                                   u_z*phi(x, y, z)],\n",
       "[3*Gamma_phi*mu_phi + u_x**2*phi(x, y, z) + u_y**2*phi(x, y, z) + u_z**2*phi(x, y, z) - phi(x, y, z)],\n",
       "[                                                          (2*u_x**2 - u_y**2 - u_z**2)*phi(x, y, z)],\n",
       "[                                                                     (u_y**2 - u_z**2)*phi(x, y, z)],\n",
       "[                                                                               u_x*u_y*phi(x, y, z)],\n",
       "[                                                                               u_y*u_z*phi(x, y, z)],\n",
       "[                                                                               u_x*u_z*phi(x, y, z)],\n",
       "[                                                                                                  0],\n",
       "[                                                                                                  0],\n",
       "[                                                                                                  0],\n",
       "[                                                                                                  0],\n",
       "[                                                                                                  0],\n",
       "[                                                                                                  0],\n",
       "[                                                                 -3*Gamma_phi*mu_phi + phi(x, y, z)],\n",
       "[                                                                                                  0],\n",
       "[                                                                                                  0]])"
      ]
     },
     "execution_count": 72,
     "metadata": {},
     "output_type": "execute_result"
    }
   ],
   "source": [
    "mg = sp.simplify(M@geq)\n",
    "mg"
   ]
  },
  {
   "cell_type": "code",
   "execution_count": 73,
   "metadata": {},
   "outputs": [],
   "source": [
    "D2rho = -k**2*rho\n",
    "D2phi = -k**2*phi\n",
    "Drho2 = sp.Matrix([ [ 0 for b in [x,y,z] ] for a in [x,y,z] ])\n",
    "Dphi2 = sp.Matrix([ [ 0 for b in [x,y,z] ] for a in [x,y,z] ])\n",
    "G = kappa*Drho2+kappa*Dphi2\n",
    "\n",
    "feq = sp.Matrix([ f(i) for i in range(0,Q) ])\n",
    "feq[0] = rho - sum(feq[1:])\n",
    "\n",
    "geq = sp.Matrix([ g(i) for i in range(0,Q) ])\n",
    "geq[0] = phi - sum(geq[1:])"
   ]
  },
  {
   "cell_type": "code",
   "execution_count": 74,
   "metadata": {},
   "outputs": [],
   "source": [
    "chi = sp.symbols('chi')\n",
    "T = sp.symbols('T')\n",
    "k = sp.symbols('k')\n",
    "rho0 = sp.symbols('rho_0')\n",
    "phi0 = sp.symbols('phi_0')\n",
    "fb = chi/4*rho*(1-phi**2/rho**2)-T*rho+T/2*(rho+phi)*sp.ln((rho+phi)/2)+T/2*(rho-phi)*sp.ln((rho-phi)/2)\n",
    "mu = sp.simplify(sp.Derivative(fb,phi,1).doit())+kappa*k**2*phi\n",
    "mu_rho = sp.collect(sp.Derivative(mu,rho,1).doit(),[chi,T,kappa]).subs({rho:rho0,phi:phi0})\n",
    "mu_phi = sp.collect(sp.Derivative(mu,phi,1).doit(),[chi,T,kappa]).subs({rho:rho0,phi:phi0})"
   ]
  },
  {
   "cell_type": "markdown",
   "metadata": {},
   "source": [
    "### Collision matrix"
   ]
  },
  {
   "cell_type": "code",
   "execution_count": 75,
   "metadata": {},
   "outputs": [],
   "source": [
    "lb,ls,lo,le = sp.symbols('lambda_b, lambda_s, lambda_o, lambda_e')\n",
    "sigma_s = sp.symbols('sigma_s')\n",
    "dmf =  chi/2*phi0/rho0**2 - T*phi0/(rho0**2-phi0**2)\n",
    "dmg = -chi/2/rho0 + T*rho0/(rho0**2-phi0**2) + kappa*k**2\n",
    "df = 3*(sp.symbols('c_s')**2 + rho0*kappa*k**2 - sigma_s**2)\n",
    "dg = 3*(Gamma*dmg - sigma_s**2)\n",
    "Omega = sp.zeros(2*Q,2*Q)\n",
    "for q in [0,Q]:\n",
    "    Omega[q+4,q+4] = lb\n",
    "    for i in range(q+5,q+10): Omega[i,i] = ls\n",
    "    for i in range(q+10,q+16): Omega[i,i] = lo\n",
    "    for i in range(q+16,q+Q): Omega[i,i] = le\n",
    "Omega[4,0]    = -lb*df\n",
    "Omega[16,0]   =  le*df\n",
    "Omega[Q+4,Q]  = -lb*dg\n",
    "Omega[Q+16,Q] =  le*dg\n",
    "Omega[4,Q]    = -lb*3*phi0*kappa*k**2\n",
    "Omega[16,Q]   =  le*3*phi0*kappa*k**2\n",
    "Omega[Q+4,0]  = -lb*3*Gamma*dmf\n",
    "Omega[Q+16,0] =  le*3*Gamma*dmf\n",
    "assert(sp.simplify(Omega[Q+4,0]/lb-(-3*Gamma*mu_rho))==0)\n",
    "assert(sp.simplify(Omega[Q+4,Q]/lb-(-3*Gamma*(mu_phi-sigma_s**2/Gamma)))==0)"
   ]
  },
  {
   "cell_type": "markdown",
   "metadata": {},
   "source": [
    "### Correlations"
   ]
  },
  {
   "cell_type": "code",
   "execution_count": 76,
   "metadata": {},
   "outputs": [],
   "source": [
    "fbar = feq.subs({pb:rho*sp.symbols('c_s')**2}).subs({rho:rho0,phi:phi0,ux:0,uy:0,uz:0})\n",
    "gbar = geq.subs({pb:rho*sp.symbols('c_s')**2}).subs({rho:rho0,phi:phi0,ux:0,uy:0,uz:0})\n",
    "\n",
    "S_rr = sp.Function('S_rho_rho')(k)/rho0*sp.diag(*fbar)\n",
    "S_pp = sp.Function('S_phi_phi')(k)/phi0*sp.diag(*gbar)\n",
    "S_rp = sp.zeros(Q)\n",
    "\n",
    "S = sp.Matrix([[S_rr,S_rp],[S_rp,S_pp]])"
   ]
  },
  {
   "cell_type": "code",
   "execution_count": 77,
   "metadata": {},
   "outputs": [],
   "source": [
    "N = sp.Matrix([[M,sp.zeros(Q)],[sp.zeros(Q),M]])\n",
    "G = sp.simplify(N@S@N.T)"
   ]
  },
  {
   "cell_type": "raw",
   "metadata": {},
   "source": [
    "assert(sp.simplify(A@G[:Q,:Q]@Aconj.T) == G[:Q,:Q])\n",
    "assert(sp.simplify(A@G[Q:,Q:]@Aconj.T) == G[Q:,Q:])"
   ]
  },
  {
   "cell_type": "code",
   "execution_count": 78,
   "metadata": {
    "scrolled": false
   },
   "outputs": [],
   "source": [
    "Lambda = sp.eye(2*Q)+Omega\n",
    "Xi = sp.simplify(G-Lambda@G@Lambda.T)"
   ]
  },
  {
   "cell_type": "code",
   "execution_count": 18,
   "metadata": {},
   "outputs": [
    {
     "data": {
      "text/latex": [
       "$\\displaystyle \\left[\\begin{matrix}S_{\\rho \\rho}{\\left(k \\right)} & 0 & 0 & 0 & \\left(3 c_{s}^{2} + 3 k^{2} \\kappa \\rho_{0} - 1\\right) S_{\\rho \\rho}{\\left(k \\right)} & 0 & 0 & 0 & 0 & 0\\\\0 & \\left(c_{s}^{2} + k^{2} \\kappa \\rho_{0}\\right) S_{\\rho \\rho}{\\left(k \\right)} & 0 & 0 & 0 & 0 & 0 & 0 & 0 & 0\\\\0 & 0 & \\left(c_{s}^{2} + k^{2} \\kappa \\rho_{0}\\right) S_{\\rho \\rho}{\\left(k \\right)} & 0 & 0 & 0 & 0 & 0 & 0 & 0\\\\0 & 0 & 0 & \\left(c_{s}^{2} + k^{2} \\kappa \\rho_{0}\\right) S_{\\rho \\rho}{\\left(k \\right)} & 0 & 0 & 0 & 0 & 0 & 0\\\\\\left(3 c_{s}^{2} + 3 k^{2} \\kappa \\rho_{0} - 1\\right) S_{\\rho \\rho}{\\left(k \\right)} & 0 & 0 & 0 & \\left(- c_{s}^{2} - k^{2} \\kappa \\rho_{0} + 1\\right) S_{\\rho \\rho}{\\left(k \\right)} & 0 & 0 & 0 & 0 & 0\\\\0 & 0 & 0 & 0 & 0 & 4 \\left(c_{s}^{2} + k^{2} \\kappa \\rho_{0}\\right) S_{\\rho \\rho}{\\left(k \\right)} & 0 & 0 & 0 & 0\\\\0 & 0 & 0 & 0 & 0 & 0 & \\frac{4 \\left(c_{s}^{2} + k^{2} \\kappa \\rho_{0}\\right) S_{\\rho \\rho}{\\left(k \\right)}}{3} & 0 & 0 & 0\\\\0 & 0 & 0 & 0 & 0 & 0 & 0 & \\frac{\\left(c_{s}^{2} + k^{2} \\kappa \\rho_{0}\\right) S_{\\rho \\rho}{\\left(k \\right)}}{3} & 0 & 0\\\\0 & 0 & 0 & 0 & 0 & 0 & 0 & 0 & \\frac{\\left(c_{s}^{2} + k^{2} \\kappa \\rho_{0}\\right) S_{\\rho \\rho}{\\left(k \\right)}}{3} & 0\\\\0 & 0 & 0 & 0 & 0 & 0 & 0 & 0 & 0 & \\frac{\\left(c_{s}^{2} + k^{2} \\kappa \\rho_{0}\\right) S_{\\rho \\rho}{\\left(k \\right)}}{3}\\end{matrix}\\right]$"
      ],
      "text/plain": [
       "Matrix([\n",
       "[                                    S_rho_rho(k),                                        0,                                        0,                                        0, (3*c_s**2 + 3*k**2*kappa*rho_0 - 1)*S_rho_rho(k),                                          0,                                            0,                                          0,                                          0,                                          0],\n",
       "[                                               0, (c_s**2 + k**2*kappa*rho_0)*S_rho_rho(k),                                        0,                                        0,                                                0,                                          0,                                            0,                                          0,                                          0,                                          0],\n",
       "[                                               0,                                        0, (c_s**2 + k**2*kappa*rho_0)*S_rho_rho(k),                                        0,                                                0,                                          0,                                            0,                                          0,                                          0,                                          0],\n",
       "[                                               0,                                        0,                                        0, (c_s**2 + k**2*kappa*rho_0)*S_rho_rho(k),                                                0,                                          0,                                            0,                                          0,                                          0,                                          0],\n",
       "[(3*c_s**2 + 3*k**2*kappa*rho_0 - 1)*S_rho_rho(k),                                        0,                                        0,                                        0,    (-c_s**2 - k**2*kappa*rho_0 + 1)*S_rho_rho(k),                                          0,                                            0,                                          0,                                          0,                                          0],\n",
       "[                                               0,                                        0,                                        0,                                        0,                                                0, 4*(c_s**2 + k**2*kappa*rho_0)*S_rho_rho(k),                                            0,                                          0,                                          0,                                          0],\n",
       "[                                               0,                                        0,                                        0,                                        0,                                                0,                                          0, 4*(c_s**2 + k**2*kappa*rho_0)*S_rho_rho(k)/3,                                          0,                                          0,                                          0],\n",
       "[                                               0,                                        0,                                        0,                                        0,                                                0,                                          0,                                            0, (c_s**2 + k**2*kappa*rho_0)*S_rho_rho(k)/3,                                          0,                                          0],\n",
       "[                                               0,                                        0,                                        0,                                        0,                                                0,                                          0,                                            0,                                          0, (c_s**2 + k**2*kappa*rho_0)*S_rho_rho(k)/3,                                          0],\n",
       "[                                               0,                                        0,                                        0,                                        0,                                                0,                                          0,                                            0,                                          0,                                          0, (c_s**2 + k**2*kappa*rho_0)*S_rho_rho(k)/3]])"
      ]
     },
     "execution_count": 18,
     "metadata": {},
     "output_type": "execute_result"
    }
   ],
   "source": [
    "G[:10,:10]"
   ]
  },
  {
   "cell_type": "code",
   "execution_count": 19,
   "metadata": {},
   "outputs": [
    {
     "data": {
      "text/latex": [
       "$\\displaystyle \\left(- c_{s}^{2} - k^{2} \\kappa \\rho_{0} + 1\\right) S_{\\rho \\rho}{\\left(k \\right)}$"
      ],
      "text/plain": [
       "(-c_s**2 - k**2*kappa*rho_0 + 1)*S_rho_rho(k)"
      ]
     },
     "execution_count": 19,
     "metadata": {},
     "output_type": "execute_result"
    }
   ],
   "source": [
    "G[4,4]"
   ]
  }
 ],
 "metadata": {
  "kernelspec": {
   "display_name": "Python 3",
   "language": "python",
   "name": "python3"
  },
  "language_info": {
   "codemirror_mode": {
    "name": "ipython",
    "version": 3
   },
   "file_extension": ".py",
   "mimetype": "text/x-python",
   "name": "python",
   "nbconvert_exporter": "python",
   "pygments_lexer": "ipython3",
   "version": "3.8.10"
  }
 },
 "nbformat": 4,
 "nbformat_minor": 4
}
