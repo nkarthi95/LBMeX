{
 "cells": [
  {
   "cell_type": "code",
   "execution_count": 1,
   "metadata": {},
   "outputs": [],
   "source": [
    "import sympy as sp\n",
    "from lbmpy.stencils import LBStencil, Stencil\n",
    "from lbmpy.moments import MOMENT_SYMBOLS, moment_matrix"
   ]
  },
  {
   "cell_type": "code",
   "execution_count": 2,
   "metadata": {},
   "outputs": [],
   "source": [
    "d3q19 = LBStencil(Stencil.D3Q19)\n",
    "Q = len(d3q19)\n",
    "c = sp.Matrix(d3q19)\n",
    "\n",
    "w = [ sp.Rational(1,3) ] + [ sp.Rational(1,18) ]*6 + [ sp.Rational(1,36) ]*12\n",
    "\n",
    "x, y, z = MOMENT_SYMBOLS\n",
    "one = sp.core.sympify(1)\n",
    "c2 = x**2+y**2+z**2\n",
    "c4 = c2**2\n",
    "\n",
    "moments = [\n",
    "    one,\n",
    "    x,\n",
    "    y,\n",
    "    z,\n",
    "    c2-1,\n",
    "    3*x**2-c2,\n",
    "    y**2-z**2,\n",
    "    x*y,\n",
    "    y*z,\n",
    "    z*x,\n",
    "    (3*c2-5)*x,\n",
    "    (3*c2-5)*y,\n",
    "    (3*c2-5)*z,\n",
    "    (y**2-z**2)*x,\n",
    "    (z**2-x**2)*y,\n",
    "    (x**2-y**2)*z,\n",
    "    3*c4-6*c2+1,\n",
    "    (2*c2-3)*(3*x**2-c2),\n",
    "    (2*c2-3)*(y**2-z**2)\n",
    "]\n",
    "\n",
    "M = moment_matrix(moments, stencil=d3q19)\n",
    "\n",
    "N = [ sum([w[i]*M[a,i]**2 for i in range (Q)]) for a in range(Q) ]"
   ]
  },
  {
   "cell_type": "code",
   "execution_count": 3,
   "metadata": {},
   "outputs": [],
   "source": [
    "rho = sp.symbols('rho', real=True)\n",
    "ux, uy, uz = sp.symbols('u_x, u_y, u_z', real=True)\n",
    "u = sp.Matrix([ux,uy, uz])\n",
    "pb = sp.symbols('p_b', real=True)\n",
    "kappa = sp.symbols('kappa', real=True)\n",
    "\n",
    "Drho2 = sp.Matrix([ [ sp.Derivative(rho,a)*sp.Derivative(rho,b) for b in [x,y,z] ] for a in [x,y,z] ])\n",
    "D2rho = sum([ sp.Derivative(rho,a,2) for a in [x,y,z] ])\n",
    "G = kappa*Drho2\n",
    "\n",
    "five36 = sp.Rational(5,36)\n",
    "one9 = sp.Rational(1,9)\n",
    "one12 = sp.Rational(1,12)\n",
    "one36 = sp.Rational(1,36)\n",
    "one72 = sp.Rational(1,72)\n",
    "\n",
    "cs = sp.sqrt(sp.Rational(1,3))\n",
    "\n",
    "ww =  [ [[0]*3]*3 ] \\\n",
    "    + [ [ [ -one9, 0, 0], [0, five36, 0], [0, 0,  -one9] ] ]*2 \\\n",
    "    + [ [ [five36, 0, 0], [0,  -one9, 0], [0, 0,  -one9] ] ]*2 \\\n",
    "    + [ [ [ -one9, 0, 0], [0,  -one9, 0], [0, 0, five36] ] ]*2 \\\n",
    "    + [ [ [-one72, -one12, 0], [ -one12, -one72, 0], [ 0, 0, one36] ],\n",
    "        [ [-one72,  one12, 0], [  one12, -one72, 0], [ 0, 0, one36] ],\n",
    "        [ [-one72,  one12, 0], [  one12, -one72, 0], [ 0, 0, one36] ],\n",
    "        [ [-one72, -one12, 0], [ -one12, -one72, 0], [ 0, 0, one36] ],\n",
    "        [ [ one36, 0, 0], [ 0, -one72,  one12], [ 0,  one12, -one72] ],\n",
    "        [ [ one36, 0, 0], [ 0, -one72, -one12], [ 0, -one12, -one72] ],\n",
    "        [ [-one72, 0, -one12], [ 0, one36, 0], [ -one12, 0, -one72] ],\n",
    "        [ [-one72, 0,  one12], [ 0, one36, 0], [  one12, 0, -one72] ],\n",
    "        [ [ one36, 0, 0], [ 0, -one72, -one12], [ 0, -one12, -one72] ],\n",
    "        [ [ one36, 0, 0], [ 0, -one72,  one12], [ 0,  one12, -one72] ],\n",
    "        [ [-one72, 0,  one12], [ 0, one36, 0], [  one12, 0, -one72] ],\n",
    "        [ [-one72, 0, -one12], [ 0, one36, 0], [ -one12, 0, -one72] ] ]\n",
    "\n",
    "def f(i):\n",
    "    f = w[i]/cs**2*pb \\\n",
    "        + w[i]/cs**2*rho*c[i,:].dot(u) \\\n",
    "        + w[i]/(2*cs**4)*rho*u.dot((c[i,:].T@c[i,:]-cs**2*sp.eye(3))@u) \\\n",
    "        - w[i]/cs**2*(kappa*rho*D2rho) \\\n",
    "        + sum([ ww[i][j][j]/cs**2*G[j,j] for j in range(3) ]) \\\n",
    "        + sum([ ww[i][j][(j+1)%3]/cs**2*G[j,(j+1)%3] for j in range(3) ])\n",
    "    return f\n",
    "\n",
    "feq = sp.Matrix([ f(i) for i in range(0,Q) ])\n",
    "feq[0] = rho - sum(feq[1:])"
   ]
  },
  {
   "cell_type": "code",
   "execution_count": 4,
   "metadata": {},
   "outputs": [],
   "source": [
    "rho0 = sp.symbols('rho_0', real=True)\n",
    "k = sp.symbols('k', real=True)\n",
    "cs = sp.symbols('c_s', cls=sp.Function, real=True)(k)\n",
    "fbar = feq.subs({pb:rho*cs**2,kappa:0}).subs({rho:rho0,ux:0,uy:0,uz:0})\n",
    "S = sp.symbols('S', cls=sp.Function)(k)/rho0*sp.diag(*fbar)\n",
    "S = sp.symbols('k_{B}T', real=True)/cs**2*sp.diag(*fbar)\n",
    "G = sp.simplify(M@S@M.T)"
   ]
  },
  {
   "cell_type": "code",
   "execution_count": 5,
   "metadata": {},
   "outputs": [],
   "source": [
    "# collision operator\n",
    "lb, ls, lo, le = sp.symbols('lambda_b lambda_s lambda_o lambda_e', real=True)\n",
    "d = 3*(cs**2 - sp.Rational(1,3))\n",
    "\n",
    "lambdas = [0]*4 + [lb]*1 + [ls]*5 + [lo]*6 + [le]*3\n",
    "Lambda = sp.diag(*lambdas)\n",
    "Lambda[4,0] = -lambdas[4]*d\n",
    "Lambda[16,0] = lambdas[16]*d"
   ]
  },
  {
   "cell_type": "code",
   "execution_count": 6,
   "metadata": {},
   "outputs": [
    {
     "data": {
      "text/latex": [
       "$\\displaystyle \\left[\\begin{array}{ccccccccccccccccccc}0 & 0 & 0 & 0 & 0 & 0 & 0 & 0 & 0 & 0 & 0 & 0 & 0 & 0 & 0 & 0 & 0 & 0 & 0\\\\0 & 0 & 0 & 0 & 0 & 0 & 0 & 0 & 0 & 0 & 0 & 0 & 0 & 0 & 0 & 0 & 0 & 0 & 0\\\\0 & 0 & 0 & 0 & 0 & 0 & 0 & 0 & 0 & 0 & 0 & 0 & 0 & 0 & 0 & 0 & 0 & 0 & 0\\\\0 & 0 & 0 & 0 & 0 & 0 & 0 & 0 & 0 & 0 & 0 & 0 & 0 & 0 & 0 & 0 & 0 & 0 & 0\\\\0 & 0 & 0 & 0 & k_{B}T \\lambda_{b} \\rho_{0} \\cdot \\left(9 \\lambda_{b} c_{s}^{2}{\\left(k \\right)} - 5 \\lambda_{b} - 18 c_{s}^{2}{\\left(k \\right)} + 10\\right) & 0 & 0 & 0 & 0 & 0 & 0 & 0 & 0 & 0 & 0 & 0 & 3 k_{B}T \\rho_{0} \\left(- 3 \\lambda_{b} \\lambda_{e} c_{s}^{2}{\\left(k \\right)} + \\lambda_{b} \\lambda_{e} + 3 \\lambda_{b} c_{s}^{2}{\\left(k \\right)} - \\lambda_{b} + 3 \\lambda_{e} c_{s}^{2}{\\left(k \\right)} - \\lambda_{e}\\right) & 0 & 0\\\\0 & 0 & 0 & 0 & 0 & 4 k_{B}T \\lambda_{s} \\rho_{0} \\cdot \\left(2 - \\lambda_{s}\\right) & 0 & 0 & 0 & 0 & 0 & 0 & 0 & 0 & 0 & 0 & 0 & 0 & 0\\\\0 & 0 & 0 & 0 & 0 & 0 & \\frac{4 k_{B}T \\lambda_{s} \\rho_{0} \\cdot \\left(2 - \\lambda_{s}\\right)}{3} & 0 & 0 & 0 & 0 & 0 & 0 & 0 & 0 & 0 & 0 & 0 & 0\\\\0 & 0 & 0 & 0 & 0 & 0 & 0 & \\frac{k_{B}T \\lambda_{s} \\rho_{0} \\cdot \\left(2 - \\lambda_{s}\\right)}{3} & 0 & 0 & 0 & 0 & 0 & 0 & 0 & 0 & 0 & 0 & 0\\\\0 & 0 & 0 & 0 & 0 & 0 & 0 & 0 & \\frac{k_{B}T \\lambda_{s} \\rho_{0} \\cdot \\left(2 - \\lambda_{s}\\right)}{3} & 0 & 0 & 0 & 0 & 0 & 0 & 0 & 0 & 0 & 0\\\\0 & 0 & 0 & 0 & 0 & 0 & 0 & 0 & 0 & \\frac{k_{B}T \\lambda_{s} \\rho_{0} \\cdot \\left(2 - \\lambda_{s}\\right)}{3} & 0 & 0 & 0 & 0 & 0 & 0 & 0 & 0 & 0\\\\0 & 0 & 0 & 0 & 0 & 0 & 0 & 0 & 0 & 0 & 2 k_{B}T \\lambda_{o} \\rho_{0} \\cdot \\left(2 - \\lambda_{o}\\right) & 0 & 0 & 0 & 0 & 0 & 0 & 0 & 0\\\\0 & 0 & 0 & 0 & 0 & 0 & 0 & 0 & 0 & 0 & 0 & 2 k_{B}T \\lambda_{o} \\rho_{0} \\cdot \\left(2 - \\lambda_{o}\\right) & 0 & 0 & 0 & 0 & 0 & 0 & 0\\\\0 & 0 & 0 & 0 & 0 & 0 & 0 & 0 & 0 & 0 & 0 & 0 & 2 k_{B}T \\lambda_{o} \\rho_{0} \\cdot \\left(2 - \\lambda_{o}\\right) & 0 & 0 & 0 & 0 & 0 & 0\\\\0 & 0 & 0 & 0 & 0 & 0 & 0 & 0 & 0 & 0 & 0 & 0 & 0 & \\frac{2 k_{B}T \\lambda_{o} \\rho_{0} \\cdot \\left(2 - \\lambda_{o}\\right)}{3} & 0 & 0 & 0 & 0 & 0\\\\0 & 0 & 0 & 0 & 0 & 0 & 0 & 0 & 0 & 0 & 0 & 0 & 0 & 0 & \\frac{2 k_{B}T \\lambda_{o} \\rho_{0} \\cdot \\left(2 - \\lambda_{o}\\right)}{3} & 0 & 0 & 0 & 0\\\\0 & 0 & 0 & 0 & 0 & 0 & 0 & 0 & 0 & 0 & 0 & 0 & 0 & 0 & 0 & \\frac{2 k_{B}T \\lambda_{o} \\rho_{0} \\cdot \\left(2 - \\lambda_{o}\\right)}{3} & 0 & 0 & 0\\\\0 & 0 & 0 & 0 & 3 k_{B}T \\rho_{0} \\left(- 3 \\lambda_{b} \\lambda_{e} c_{s}^{2}{\\left(k \\right)} + \\lambda_{b} \\lambda_{e} + 3 \\lambda_{b} c_{s}^{2}{\\left(k \\right)} - \\lambda_{b} + 3 \\lambda_{e} c_{s}^{2}{\\left(k \\right)} - \\lambda_{e}\\right) & 0 & 0 & 0 & 0 & 0 & 0 & 0 & 0 & 0 & 0 & 0 & 9 k_{B}T \\lambda_{e} \\rho_{0} \\left(\\lambda_{e} c_{s}^{2}{\\left(k \\right)} - \\lambda_{e} - 2 c_{s}^{2}{\\left(k \\right)} + 2\\right) & 0 & 0\\\\0 & 0 & 0 & 0 & 0 & 0 & 0 & 0 & 0 & 0 & 0 & 0 & 0 & 0 & 0 & 0 & 0 & 4 k_{B}T \\lambda_{e} \\rho_{0} \\cdot \\left(2 - \\lambda_{e}\\right) & 0\\\\0 & 0 & 0 & 0 & 0 & 0 & 0 & 0 & 0 & 0 & 0 & 0 & 0 & 0 & 0 & 0 & 0 & 0 & \\frac{4 k_{B}T \\lambda_{e} \\rho_{0} \\cdot \\left(2 - \\lambda_{e}\\right)}{3}\\end{array}\\right]$"
      ],
      "text/plain": [
       "Matrix([\n",
       "[0, 0, 0, 0,                                                                                                                                       0,                                      0,                                        0,                                      0,                                      0,                                      0,                                      0,                                      0,                                      0,                                        0,                                        0,                                        0,                                                                                                                                       0,                                      0,                                        0],\n",
       "[0, 0, 0, 0,                                                                                                                                       0,                                      0,                                        0,                                      0,                                      0,                                      0,                                      0,                                      0,                                      0,                                        0,                                        0,                                        0,                                                                                                                                       0,                                      0,                                        0],\n",
       "[0, 0, 0, 0,                                                                                                                                       0,                                      0,                                        0,                                      0,                                      0,                                      0,                                      0,                                      0,                                      0,                                        0,                                        0,                                        0,                                                                                                                                       0,                                      0,                                        0],\n",
       "[0, 0, 0, 0,                                                                                                                                       0,                                      0,                                        0,                                      0,                                      0,                                      0,                                      0,                                      0,                                      0,                                        0,                                        0,                                        0,                                                                                                                                       0,                                      0,                                        0],\n",
       "[0, 0, 0, 0,                                                           k_{B}T*lambda_b*rho_0*(9*lambda_b*c_s(k)**2 - 5*lambda_b - 18*c_s(k)**2 + 10),                                      0,                                        0,                                      0,                                      0,                                      0,                                      0,                                      0,                                      0,                                        0,                                        0,                                        0, 3*k_{B}T*rho_0*(-3*lambda_b*lambda_e*c_s(k)**2 + lambda_b*lambda_e + 3*lambda_b*c_s(k)**2 - lambda_b + 3*lambda_e*c_s(k)**2 - lambda_e),                                      0,                                        0],\n",
       "[0, 0, 0, 0,                                                                                                                                       0, 4*k_{B}T*lambda_s*rho_0*(2 - lambda_s),                                        0,                                      0,                                      0,                                      0,                                      0,                                      0,                                      0,                                        0,                                        0,                                        0,                                                                                                                                       0,                                      0,                                        0],\n",
       "[0, 0, 0, 0,                                                                                                                                       0,                                      0, 4*k_{B}T*lambda_s*rho_0*(2 - lambda_s)/3,                                      0,                                      0,                                      0,                                      0,                                      0,                                      0,                                        0,                                        0,                                        0,                                                                                                                                       0,                                      0,                                        0],\n",
       "[0, 0, 0, 0,                                                                                                                                       0,                                      0,                                        0, k_{B}T*lambda_s*rho_0*(2 - lambda_s)/3,                                      0,                                      0,                                      0,                                      0,                                      0,                                        0,                                        0,                                        0,                                                                                                                                       0,                                      0,                                        0],\n",
       "[0, 0, 0, 0,                                                                                                                                       0,                                      0,                                        0,                                      0, k_{B}T*lambda_s*rho_0*(2 - lambda_s)/3,                                      0,                                      0,                                      0,                                      0,                                        0,                                        0,                                        0,                                                                                                                                       0,                                      0,                                        0],\n",
       "[0, 0, 0, 0,                                                                                                                                       0,                                      0,                                        0,                                      0,                                      0, k_{B}T*lambda_s*rho_0*(2 - lambda_s)/3,                                      0,                                      0,                                      0,                                        0,                                        0,                                        0,                                                                                                                                       0,                                      0,                                        0],\n",
       "[0, 0, 0, 0,                                                                                                                                       0,                                      0,                                        0,                                      0,                                      0,                                      0, 2*k_{B}T*lambda_o*rho_0*(2 - lambda_o),                                      0,                                      0,                                        0,                                        0,                                        0,                                                                                                                                       0,                                      0,                                        0],\n",
       "[0, 0, 0, 0,                                                                                                                                       0,                                      0,                                        0,                                      0,                                      0,                                      0,                                      0, 2*k_{B}T*lambda_o*rho_0*(2 - lambda_o),                                      0,                                        0,                                        0,                                        0,                                                                                                                                       0,                                      0,                                        0],\n",
       "[0, 0, 0, 0,                                                                                                                                       0,                                      0,                                        0,                                      0,                                      0,                                      0,                                      0,                                      0, 2*k_{B}T*lambda_o*rho_0*(2 - lambda_o),                                        0,                                        0,                                        0,                                                                                                                                       0,                                      0,                                        0],\n",
       "[0, 0, 0, 0,                                                                                                                                       0,                                      0,                                        0,                                      0,                                      0,                                      0,                                      0,                                      0,                                      0, 2*k_{B}T*lambda_o*rho_0*(2 - lambda_o)/3,                                        0,                                        0,                                                                                                                                       0,                                      0,                                        0],\n",
       "[0, 0, 0, 0,                                                                                                                                       0,                                      0,                                        0,                                      0,                                      0,                                      0,                                      0,                                      0,                                      0,                                        0, 2*k_{B}T*lambda_o*rho_0*(2 - lambda_o)/3,                                        0,                                                                                                                                       0,                                      0,                                        0],\n",
       "[0, 0, 0, 0,                                                                                                                                       0,                                      0,                                        0,                                      0,                                      0,                                      0,                                      0,                                      0,                                      0,                                        0,                                        0, 2*k_{B}T*lambda_o*rho_0*(2 - lambda_o)/3,                                                                                                                                       0,                                      0,                                        0],\n",
       "[0, 0, 0, 0, 3*k_{B}T*rho_0*(-3*lambda_b*lambda_e*c_s(k)**2 + lambda_b*lambda_e + 3*lambda_b*c_s(k)**2 - lambda_b + 3*lambda_e*c_s(k)**2 - lambda_e),                                      0,                                        0,                                      0,                                      0,                                      0,                                      0,                                      0,                                      0,                                        0,                                        0,                                        0,                                                               9*k_{B}T*lambda_e*rho_0*(lambda_e*c_s(k)**2 - lambda_e - 2*c_s(k)**2 + 2),                                      0,                                        0],\n",
       "[0, 0, 0, 0,                                                                                                                                       0,                                      0,                                        0,                                      0,                                      0,                                      0,                                      0,                                      0,                                      0,                                        0,                                        0,                                        0,                                                                                                                                       0, 4*k_{B}T*lambda_e*rho_0*(2 - lambda_e),                                        0],\n",
       "[0, 0, 0, 0,                                                                                                                                       0,                                      0,                                        0,                                      0,                                      0,                                      0,                                      0,                                      0,                                      0,                                        0,                                        0,                                        0,                                                                                                                                       0,                                      0, 4*k_{B}T*lambda_e*rho_0*(2 - lambda_e)/3]])"
      ]
     },
     "execution_count": 6,
     "metadata": {},
     "output_type": "execute_result"
    }
   ],
   "source": [
    "L = sp.eye(Q)-Lambda\n",
    "Xi = sp.simplify(G-L@G@L.T)\n",
    "Xi"
   ]
  },
  {
   "cell_type": "code",
   "execution_count": 7,
   "metadata": {},
   "outputs": [],
   "source": [
    "from sympy.printing.c import C99CodePrinter\n",
    "code = C99CodePrinter().doprint(Xi.subs({cs:sp.symbols('c_s')}), assign_to=sp.MatrixSymbol('Xi', Q, Q))"
   ]
  },
  {
   "cell_type": "code",
   "execution_count": 8,
   "metadata": {},
   "outputs": [],
   "source": [
    "beta, rho, rhov, rhol = sp.symbols(\"beta rho rho_v rho_l\")\n",
    "fb = beta*(rho-rhov)**2*(rho-rhol)**2\n",
    "pb = sp.simplify(rho*sp.Derivative(fb,rho).doit() - fb)\n",
    "cs = sp.simplify(rho*sp.Derivative(fb,rho,2).doit())"
   ]
  },
  {
   "cell_type": "code",
   "execution_count": 9,
   "metadata": {},
   "outputs": [
    {
     "data": {
      "text/latex": [
       "$\\displaystyle \\beta \\left(\\rho - \\rho_{l}\\right) \\left(\\rho - \\rho_{v}\\right) \\left(2 \\rho \\left(2 \\rho - \\rho_{l} - \\rho_{v}\\right) - \\left(\\rho - \\rho_{l}\\right) \\left(\\rho - \\rho_{v}\\right)\\right)$"
      ],
      "text/plain": [
       "beta*(rho - rho_l)*(rho - rho_v)*(2*rho*(2*rho - rho_l - rho_v) - (rho - rho_l)*(rho - rho_v))"
      ]
     },
     "execution_count": 9,
     "metadata": {},
     "output_type": "execute_result"
    }
   ],
   "source": [
    "pb"
   ]
  },
  {
   "cell_type": "code",
   "execution_count": 10,
   "metadata": {},
   "outputs": [
    {
     "data": {
      "text/latex": [
       "$\\displaystyle 2 \\beta \\rho \\left(\\left(\\rho - \\rho_{l}\\right)^{2} + 4 \\left(\\rho - \\rho_{l}\\right) \\left(\\rho - \\rho_{v}\\right) + \\left(\\rho - \\rho_{v}\\right)^{2}\\right)$"
      ],
      "text/plain": [
       "2*beta*rho*((rho - rho_l)**2 + 4*(rho - rho_l)*(rho - rho_v) + (rho - rho_v)**2)"
      ]
     },
     "execution_count": 10,
     "metadata": {},
     "output_type": "execute_result"
    }
   ],
   "source": [
    "cs"
   ]
  }
 ],
 "metadata": {
  "kernelspec": {
   "display_name": "Python 3",
   "language": "python",
   "name": "python3"
  },
  "language_info": {
   "codemirror_mode": {
    "name": "ipython",
    "version": 3
   },
   "file_extension": ".py",
   "mimetype": "text/x-python",
   "name": "python",
   "nbconvert_exporter": "python",
   "pygments_lexer": "ipython3",
   "version": "3.10.12"
  }
 },
 "nbformat": 4,
 "nbformat_minor": 2
}
