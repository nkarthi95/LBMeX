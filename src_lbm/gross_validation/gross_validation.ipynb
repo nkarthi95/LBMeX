{
 "cells": [
  {
   "cell_type": "code",
   "execution_count": 5,
   "metadata": {},
   "outputs": [],
   "source": [
    "import sympy as sp\n",
    "from lbmpy.stencils import LBStencil, Stencil\n",
    "from lbmpy.moments import MOMENT_SYMBOLS, moment_matrix\n",
    "import numpy as np"
   ]
  },
  {
   "cell_type": "markdown",
   "metadata": {},
   "source": [
    "# Direct application of what I think is happening in gross 2010 paper"
   ]
  },
  {
   "cell_type": "markdown",
   "metadata": {},
   "source": [
    "## Moment matrix"
   ]
  },
  {
   "cell_type": "code",
   "execution_count": 6,
   "metadata": {},
   "outputs": [],
   "source": [
    "d3q19 = LBStencil(Stencil.D3Q19)\n",
    "D = len(d3q19[0])\n",
    "Q = len(d3q19)\n",
    "c = sp.Matrix(d3q19)\n",
    "cs = sp.sqrt(sp.Rational(1,3))\n",
    "\n",
    "x, y, z = MOMENT_SYMBOLS\n",
    "one = sp.core.sympify(1)\n",
    "c2 = x**2+y**2+z**2\n",
    "c4 = c2**2\n",
    "\n",
    "moments = [ \n",
    "    one,\n",
    "    x,\n",
    "    y,\n",
    "    z,\n",
    "    c2-1,\n",
    "    3*x**2-c2,\n",
    "    y**2-z**2,\n",
    "    x*y,\n",
    "    y*z,\n",
    "    z*x,\n",
    "    (3*c2-5)*x,\n",
    "    (3*c2-5)*y,\n",
    "    (3*c2-5)*z,\n",
    "    (y**2-z**2)*x,\n",
    "    (z**2-x**2)*y,\n",
    "    (x**2-y**2)*z,\n",
    "    3*c4-6*c2+1,\n",
    "    (2*c2-3)*(3*x**2-c2),\n",
    "    (2*c2-3)*(y**2-z**2)\n",
    "]\n",
    "\n",
    "M = moment_matrix(moments, stencil=d3q19)"
   ]
  },
  {
   "cell_type": "markdown",
   "metadata": {},
   "source": [
    "## Moment and equilibrium distribution calculation"
   ]
  },
  {
   "cell_type": "code",
   "execution_count": 7,
   "metadata": {},
   "outputs": [
    {
     "data": {
      "text/latex": [
       "$\\displaystyle \\left[\\begin{matrix}\\rho{\\left(x,y,z \\right)}\\\\u_{x} \\rho{\\left(x,y,z \\right)}\\\\u_{y} \\rho{\\left(x,y,z \\right)}\\\\u_{z} \\rho{\\left(x,y,z \\right)}\\\\- 3 \\kappa \\rho{\\left(x,y,z \\right)} \\frac{\\partial^{2}}{\\partial x^{2}} \\rho{\\left(x,y,z \\right)} - 3 \\kappa \\rho{\\left(x,y,z \\right)} \\frac{\\partial^{2}}{\\partial y^{2}} \\rho{\\left(x,y,z \\right)} - 3 \\kappa \\rho{\\left(x,y,z \\right)} \\frac{\\partial^{2}}{\\partial z^{2}} \\rho{\\left(x,y,z \\right)} - \\frac{\\kappa \\left(\\frac{\\partial}{\\partial x} \\rho{\\left(x,y,z \\right)}\\right)^{2}}{2} - \\frac{\\kappa \\left(\\frac{\\partial}{\\partial y} \\rho{\\left(x,y,z \\right)}\\right)^{2}}{2} - \\frac{\\kappa \\left(\\frac{\\partial}{\\partial z} \\rho{\\left(x,y,z \\right)}\\right)^{2}}{2} + 3 p_{b} + u_{x}^{2} \\rho{\\left(x,y,z \\right)} + u_{y}^{2} \\rho{\\left(x,y,z \\right)} + u_{z}^{2} \\rho{\\left(x,y,z \\right)} - \\rho{\\left(x,y,z \\right)}\\\\2 \\kappa \\left(\\frac{\\partial}{\\partial x} \\rho{\\left(x,y,z \\right)}\\right)^{2} - \\kappa \\left(\\frac{\\partial}{\\partial y} \\rho{\\left(x,y,z \\right)}\\right)^{2} - \\kappa \\left(\\frac{\\partial}{\\partial z} \\rho{\\left(x,y,z \\right)}\\right)^{2} + 2 u_{x}^{2} \\rho{\\left(x,y,z \\right)} - u_{y}^{2} \\rho{\\left(x,y,z \\right)} - u_{z}^{2} \\rho{\\left(x,y,z \\right)}\\\\\\kappa \\left(\\frac{\\partial}{\\partial y} \\rho{\\left(x,y,z \\right)}\\right)^{2} - \\kappa \\left(\\frac{\\partial}{\\partial z} \\rho{\\left(x,y,z \\right)}\\right)^{2} + u_{y}^{2} \\rho{\\left(x,y,z \\right)} - u_{z}^{2} \\rho{\\left(x,y,z \\right)}\\\\\\kappa \\frac{\\partial}{\\partial x} \\rho{\\left(x,y,z \\right)} \\frac{\\partial}{\\partial y} \\rho{\\left(x,y,z \\right)} + u_{x} u_{y} \\rho{\\left(x,y,z \\right)}\\\\\\kappa \\frac{\\partial}{\\partial y} \\rho{\\left(x,y,z \\right)} \\frac{\\partial}{\\partial z} \\rho{\\left(x,y,z \\right)} + u_{y} u_{z} \\rho{\\left(x,y,z \\right)}\\\\\\kappa \\frac{\\partial}{\\partial x} \\rho{\\left(x,y,z \\right)} \\frac{\\partial}{\\partial z} \\rho{\\left(x,y,z \\right)} + u_{x} u_{z} \\rho{\\left(x,y,z \\right)}\\\\0\\\\0\\\\0\\\\0\\\\0\\\\0\\\\3 \\kappa \\rho{\\left(x,y,z \\right)} \\frac{\\partial^{2}}{\\partial x^{2}} \\rho{\\left(x,y,z \\right)} + 3 \\kappa \\rho{\\left(x,y,z \\right)} \\frac{\\partial^{2}}{\\partial y^{2}} \\rho{\\left(x,y,z \\right)} + 3 \\kappa \\rho{\\left(x,y,z \\right)} \\frac{\\partial^{2}}{\\partial z^{2}} \\rho{\\left(x,y,z \\right)} + \\frac{3 \\kappa \\left(\\frac{\\partial}{\\partial x} \\rho{\\left(x,y,z \\right)}\\right)^{2}}{2} + \\frac{3 \\kappa \\left(\\frac{\\partial}{\\partial y} \\rho{\\left(x,y,z \\right)}\\right)^{2}}{2} + \\frac{3 \\kappa \\left(\\frac{\\partial}{\\partial z} \\rho{\\left(x,y,z \\right)}\\right)^{2}}{2} - 3 p_{b} + \\rho{\\left(x,y,z \\right)}\\\\2 \\kappa \\left(- 2 \\left(\\frac{\\partial}{\\partial x} \\rho{\\left(x,y,z \\right)}\\right)^{2} + \\left(\\frac{\\partial}{\\partial y} \\rho{\\left(x,y,z \\right)}\\right)^{2} + \\left(\\frac{\\partial}{\\partial z} \\rho{\\left(x,y,z \\right)}\\right)^{2}\\right)\\\\2 \\kappa \\left(- \\left(\\frac{\\partial}{\\partial y} \\rho{\\left(x,y,z \\right)}\\right)^{2} + \\left(\\frac{\\partial}{\\partial z} \\rho{\\left(x,y,z \\right)}\\right)^{2}\\right)\\end{matrix}\\right]$"
      ],
      "text/plain": [
       "Matrix([\n",
       "[                                                                                                                                                                                                                                                                                                                                                                              rho(x, y, z)],\n",
       "[                                                                                                                                                                                                                                                                                                                                                                          u_x*rho(x, y, z)],\n",
       "[                                                                                                                                                                                                                                                                                                                                                                          u_y*rho(x, y, z)],\n",
       "[                                                                                                                                                                                                                                                                                                                                                                          u_z*rho(x, y, z)],\n",
       "[-3*kappa*rho(x, y, z)*Derivative(rho(x, y, z), (x, 2)) - 3*kappa*rho(x, y, z)*Derivative(rho(x, y, z), (y, 2)) - 3*kappa*rho(x, y, z)*Derivative(rho(x, y, z), (z, 2)) - kappa*Derivative(rho(x, y, z), x)**2/2 - kappa*Derivative(rho(x, y, z), y)**2/2 - kappa*Derivative(rho(x, y, z), z)**2/2 + 3*p_b + u_x**2*rho(x, y, z) + u_y**2*rho(x, y, z) + u_z**2*rho(x, y, z) - rho(x, y, z)],\n",
       "[                                                                                                                                                                                                  2*kappa*Derivative(rho(x, y, z), x)**2 - kappa*Derivative(rho(x, y, z), y)**2 - kappa*Derivative(rho(x, y, z), z)**2 + 2*u_x**2*rho(x, y, z) - u_y**2*rho(x, y, z) - u_z**2*rho(x, y, z)],\n",
       "[                                                                                                                                                                                                                                                                   kappa*Derivative(rho(x, y, z), y)**2 - kappa*Derivative(rho(x, y, z), z)**2 + u_y**2*rho(x, y, z) - u_z**2*rho(x, y, z)],\n",
       "[                                                                                                                                                                                                                                                                                                      kappa*Derivative(rho(x, y, z), x)*Derivative(rho(x, y, z), y) + u_x*u_y*rho(x, y, z)],\n",
       "[                                                                                                                                                                                                                                                                                                      kappa*Derivative(rho(x, y, z), y)*Derivative(rho(x, y, z), z) + u_y*u_z*rho(x, y, z)],\n",
       "[                                                                                                                                                                                                                                                                                                      kappa*Derivative(rho(x, y, z), x)*Derivative(rho(x, y, z), z) + u_x*u_z*rho(x, y, z)],\n",
       "[                                                                                                                                                                                                                                                                                                                                                                                         0],\n",
       "[                                                                                                                                                                                                                                                                                                                                                                                         0],\n",
       "[                                                                                                                                                                                                                                                                                                                                                                                         0],\n",
       "[                                                                                                                                                                                                                                                                                                                                                                                         0],\n",
       "[                                                                                                                                                                                                                                                                                                                                                                                         0],\n",
       "[                                                                                                                                                                                                                                                                                                                                                                                         0],\n",
       "[                                                             3*kappa*rho(x, y, z)*Derivative(rho(x, y, z), (x, 2)) + 3*kappa*rho(x, y, z)*Derivative(rho(x, y, z), (y, 2)) + 3*kappa*rho(x, y, z)*Derivative(rho(x, y, z), (z, 2)) + 3*kappa*Derivative(rho(x, y, z), x)**2/2 + 3*kappa*Derivative(rho(x, y, z), y)**2/2 + 3*kappa*Derivative(rho(x, y, z), z)**2/2 - 3*p_b + rho(x, y, z)],\n",
       "[                                                                                                                                                                                                                                                                             2*kappa*(-2*Derivative(rho(x, y, z), x)**2 + Derivative(rho(x, y, z), y)**2 + Derivative(rho(x, y, z), z)**2)],\n",
       "[                                                                                                                                                                                                                                                                                                                2*kappa*(-Derivative(rho(x, y, z), y)**2 + Derivative(rho(x, y, z), z)**2)]])"
      ]
     },
     "execution_count": 7,
     "metadata": {},
     "output_type": "execute_result"
    }
   ],
   "source": [
    "kappa = sp.symbols('kappa')\n",
    "pb = sp.symbols('p_b')\n",
    "rho = sp.symbols('rho',cls=sp.Function)(x,y,z)\n",
    "ux, uy, uz = sp.symbols('u_x, u_y, u_z')\n",
    "kx, ky, kz = sp.symbols('k_x, k_y, k_z')\n",
    "ks = {x:kx,y:ky,z:kz}\n",
    "u = sp.Matrix([ux,uy,uz])\n",
    "Drho2 = sp.Matrix([ [ sp.Derivative(rho,a)*sp.Derivative(rho,b) for b in [x,y,z] ] for a in [x,y,z] ])\n",
    "D2rho = sum([ sp.Derivative(rho,a,2) for a in [x,y,z] ])\n",
    "G = kappa*Drho2\n",
    "\n",
    "five36 = sp.Rational(5,36)\n",
    "one9 = sp.Rational(1,9)\n",
    "one12 = sp.Rational(1,12)\n",
    "one36 = sp.Rational(1,36)\n",
    "one72 = sp.Rational(1,72)\n",
    "\n",
    "w = [ sp.Rational(1,3) ] + [ sp.Rational(1,18) ]*6 + [ sp.Rational(1,36) ]*12\n",
    "\n",
    "ww =  [ [[0]*3]*3 ] \\\n",
    "    + [ [ [ -one9, 0, 0], [0, five36, 0], [0, 0,  -one9] ] ]*2 \\\n",
    "    + [ [ [five36, 0, 0], [0,  -one9, 0], [0, 0,  -one9] ] ]*2 \\\n",
    "    + [ [ [ -one9, 0, 0], [0,  -one9, 0], [0, 0, five36] ] ]*2 \\\n",
    "    + [ [ [-one72, -one12, 0], [ -one12, -one72, 0], [ 0, 0, one36] ],\n",
    "        [ [-one72,  one12, 0], [  one12, -one72, 0], [ 0, 0, one36] ],\n",
    "        [ [-one72,  one12, 0], [  one12, -one72, 0], [ 0, 0, one36] ],\n",
    "        [ [-one72, -one12, 0], [ -one12, -one72, 0], [ 0, 0, one36] ],\n",
    "        [ [ one36, 0, 0], [ 0, -one72,  one12], [ 0,  one12, -one72] ],\n",
    "        [ [ one36, 0, 0], [ 0, -one72, -one12], [ 0, -one12, -one72] ],\n",
    "        [ [-one72, 0, -one12], [ 0, one36, 0], [ -one12, 0, -one72] ],\n",
    "        [ [-one72, 0,  one12], [ 0, one36, 0], [  one12, 0, -one72] ],\n",
    "        [ [ one36, 0, 0], [ 0, -one72, -one12], [ 0, -one12, -one72] ],\n",
    "        [ [ one36, 0, 0], [ 0, -one72,  one12], [ 0,  one12, -one72] ],\n",
    "        [ [-one72, 0,  one12], [ 0, one36, 0], [  one12, 0, -one72] ],\n",
    "        [ [-one72, 0, -one12], [ 0, one36, 0], [ -one12, 0, -one72] ] ]\n",
    "\n",
    "def f(i):\n",
    "    f = w[i]/cs**2*pb \\\n",
    "        + w[i]/cs**2*rho*c[i,:].dot(u) \\\n",
    "        + w[i]/(2*cs**4)*rho*u.dot((c[i,:].T@c[i,:]-cs**2*sp.eye(D))@u) \\\n",
    "        - w[i]/cs**2*(kappa*rho*D2rho) \\\n",
    "        + sum([ ww[i][j][j]/cs**2*G[j,j] for j in range(D) ]) \\\n",
    "        + sum([ ww[i][j][(j+1)%D]/cs**2*G[j,(j+1)%D] for j in range(D) ])\n",
    "    return f\n",
    "\n",
    "feq = sp.Matrix([ f(i) for i in range(0,Q) ])\n",
    "feq[0] = rho - sum(feq[1:])\n",
    "feq.simplify()\n",
    "mf = sp.simplify(M*feq)\n",
    "mf"
   ]
  },
  {
   "cell_type": "code",
   "execution_count": null,
   "metadata": {},
   "outputs": [],
   "source": []
  },
  {
   "cell_type": "code",
   "execution_count": 8,
   "metadata": {},
   "outputs": [
    {
     "data": {
      "text/latex": [
       "$\\displaystyle 2 \\kappa \\left(- \\left(\\frac{\\partial}{\\partial y} \\rho{\\left(x,y,z \\right)}\\right)^{2} + \\left(\\frac{\\partial}{\\partial z} \\rho{\\left(x,y,z \\right)}\\right)^{2}\\right)$"
      ],
      "text/plain": [
       "2*kappa*(-Derivative(rho(x, y, z), y)**2 + Derivative(rho(x, y, z), z)**2)"
      ]
     },
     "execution_count": 8,
     "metadata": {},
     "output_type": "execute_result"
    }
   ],
   "source": [
    "mf[18]"
   ]
  },
  {
   "cell_type": "markdown",
   "metadata": {},
   "source": [
    "## Calculation of noise covariance matrix"
   ]
  },
  {
   "cell_type": "code",
   "execution_count": 44,
   "metadata": {},
   "outputs": [
    {
     "data": {
      "text/latex": [
       "$\\displaystyle \\left[\\begin{matrix}- 2 k^{2} \\kappa \\rho^{2}{\\left(x,y,z \\right)} - 2 p_{b} - \\frac{u_{x}^{2} \\rho{\\left(x,y,z \\right)}}{2} - \\frac{u_{y}^{2} \\rho{\\left(x,y,z \\right)}}{2} - \\frac{u_{z}^{2} \\rho{\\left(x,y,z \\right)}}{2} + \\rho{\\left(x,y,z \\right)}\\\\\\frac{k^{2} \\kappa \\rho^{2}{\\left(x,y,z \\right)}}{6} + \\frac{p_{b}}{6} + \\frac{u_{y} \\rho{\\left(x,y,z \\right)}}{6} - \\frac{\\left(u_{x}^{2} - 2 u_{y}^{2} + u_{z}^{2}\\right) \\rho{\\left(x,y,z \\right)}}{12}\\\\\\frac{k^{2} \\kappa \\rho^{2}{\\left(x,y,z \\right)}}{6} + \\frac{p_{b}}{6} - \\frac{u_{y} \\rho{\\left(x,y,z \\right)}}{6} - \\frac{\\left(u_{x}^{2} - 2 u_{y}^{2} + u_{z}^{2}\\right) \\rho{\\left(x,y,z \\right)}}{12}\\\\\\frac{k^{2} \\kappa \\rho^{2}{\\left(x,y,z \\right)}}{6} + \\frac{p_{b}}{6} - \\frac{u_{x} \\rho{\\left(x,y,z \\right)}}{6} - \\frac{\\left(- 2 u_{x}^{2} + u_{y}^{2} + u_{z}^{2}\\right) \\rho{\\left(x,y,z \\right)}}{12}\\\\\\frac{k^{2} \\kappa \\rho^{2}{\\left(x,y,z \\right)}}{6} + \\frac{p_{b}}{6} + \\frac{u_{x} \\rho{\\left(x,y,z \\right)}}{6} - \\frac{\\left(- 2 u_{x}^{2} + u_{y}^{2} + u_{z}^{2}\\right) \\rho{\\left(x,y,z \\right)}}{12}\\\\\\frac{k^{2} \\kappa \\rho^{2}{\\left(x,y,z \\right)}}{6} + \\frac{p_{b}}{6} + \\frac{u_{z} \\rho{\\left(x,y,z \\right)}}{6} - \\frac{\\left(u_{x}^{2} + u_{y}^{2} - 2 u_{z}^{2}\\right) \\rho{\\left(x,y,z \\right)}}{12}\\\\\\frac{k^{2} \\kappa \\rho^{2}{\\left(x,y,z \\right)}}{6} + \\frac{p_{b}}{6} - \\frac{u_{z} \\rho{\\left(x,y,z \\right)}}{6} - \\frac{\\left(u_{x}^{2} + u_{y}^{2} - 2 u_{z}^{2}\\right) \\rho{\\left(x,y,z \\right)}}{12}\\\\\\frac{k^{2} \\kappa \\rho^{2}{\\left(x,y,z \\right)}}{12} + \\frac{p_{b}}{12} - \\frac{\\left(u_{x} - u_{y}\\right) \\rho{\\left(x,y,z \\right)}}{12} - \\frac{\\left(- u_{x} \\left(2 u_{x} - 3 u_{y}\\right) + u_{y} \\left(3 u_{x} - 2 u_{y}\\right) + u_{z}^{2}\\right) \\rho{\\left(x,y,z \\right)}}{24}\\\\\\frac{k^{2} \\kappa \\rho^{2}{\\left(x,y,z \\right)}}{12} + \\frac{p_{b}}{12} + \\frac{\\left(u_{x} + u_{y}\\right) \\rho{\\left(x,y,z \\right)}}{12} + \\frac{\\left(u_{x} \\left(2 u_{x} + 3 u_{y}\\right) + u_{y} \\left(3 u_{x} + 2 u_{y}\\right) - u_{z}^{2}\\right) \\rho{\\left(x,y,z \\right)}}{24}\\\\\\frac{k^{2} \\kappa \\rho^{2}{\\left(x,y,z \\right)}}{12} + \\frac{p_{b}}{12} - \\frac{\\left(u_{x} + u_{y}\\right) \\rho{\\left(x,y,z \\right)}}{12} + \\frac{\\left(u_{x} \\left(2 u_{x} + 3 u_{y}\\right) + u_{y} \\left(3 u_{x} + 2 u_{y}\\right) - u_{z}^{2}\\right) \\rho{\\left(x,y,z \\right)}}{24}\\\\\\frac{k^{2} \\kappa \\rho^{2}{\\left(x,y,z \\right)}}{12} + \\frac{p_{b}}{12} + \\frac{\\left(u_{x} - u_{y}\\right) \\rho{\\left(x,y,z \\right)}}{12} - \\frac{\\left(- u_{x} \\left(2 u_{x} - 3 u_{y}\\right) + u_{y} \\left(3 u_{x} - 2 u_{y}\\right) + u_{z}^{2}\\right) \\rho{\\left(x,y,z \\right)}}{24}\\\\\\frac{k^{2} \\kappa \\rho^{2}{\\left(x,y,z \\right)}}{12} + \\frac{p_{b}}{12} + \\frac{\\left(u_{y} + u_{z}\\right) \\rho{\\left(x,y,z \\right)}}{12} + \\frac{\\left(- u_{x}^{2} + u_{y} \\left(2 u_{y} + 3 u_{z}\\right) + u_{z} \\left(3 u_{y} + 2 u_{z}\\right)\\right) \\rho{\\left(x,y,z \\right)}}{24}\\\\\\frac{k^{2} \\kappa \\rho^{2}{\\left(x,y,z \\right)}}{12} + \\frac{p_{b}}{12} - \\frac{\\left(u_{y} - u_{z}\\right) \\rho{\\left(x,y,z \\right)}}{12} - \\frac{\\left(u_{x}^{2} - u_{y} \\left(2 u_{y} - 3 u_{z}\\right) + u_{z} \\left(3 u_{y} - 2 u_{z}\\right)\\right) \\rho{\\left(x,y,z \\right)}}{24}\\\\\\frac{k^{2} \\kappa \\rho^{2}{\\left(x,y,z \\right)}}{12} + \\frac{p_{b}}{12} - \\frac{\\left(u_{x} - u_{z}\\right) \\rho{\\left(x,y,z \\right)}}{12} - \\frac{\\left(- u_{x} \\left(2 u_{x} - 3 u_{z}\\right) + u_{y}^{2} + u_{z} \\left(3 u_{x} - 2 u_{z}\\right)\\right) \\rho{\\left(x,y,z \\right)}}{24}\\\\\\frac{k^{2} \\kappa \\rho^{2}{\\left(x,y,z \\right)}}{12} + \\frac{p_{b}}{12} + \\frac{\\left(u_{x} + u_{z}\\right) \\rho{\\left(x,y,z \\right)}}{12} + \\frac{\\left(u_{x} \\left(2 u_{x} + 3 u_{z}\\right) - u_{y}^{2} + u_{z} \\left(3 u_{x} + 2 u_{z}\\right)\\right) \\rho{\\left(x,y,z \\right)}}{24}\\\\\\frac{k^{2} \\kappa \\rho^{2}{\\left(x,y,z \\right)}}{12} + \\frac{p_{b}}{12} + \\frac{\\left(u_{y} - u_{z}\\right) \\rho{\\left(x,y,z \\right)}}{12} - \\frac{\\left(u_{x}^{2} - u_{y} \\left(2 u_{y} - 3 u_{z}\\right) + u_{z} \\left(3 u_{y} - 2 u_{z}\\right)\\right) \\rho{\\left(x,y,z \\right)}}{24}\\\\\\frac{k^{2} \\kappa \\rho^{2}{\\left(x,y,z \\right)}}{12} + \\frac{p_{b}}{12} - \\frac{\\left(u_{y} + u_{z}\\right) \\rho{\\left(x,y,z \\right)}}{12} + \\frac{\\left(- u_{x}^{2} + u_{y} \\left(2 u_{y} + 3 u_{z}\\right) + u_{z} \\left(3 u_{y} + 2 u_{z}\\right)\\right) \\rho{\\left(x,y,z \\right)}}{24}\\\\\\frac{k^{2} \\kappa \\rho^{2}{\\left(x,y,z \\right)}}{12} + \\frac{p_{b}}{12} - \\frac{\\left(u_{x} + u_{z}\\right) \\rho{\\left(x,y,z \\right)}}{12} + \\frac{\\left(u_{x} \\left(2 u_{x} + 3 u_{z}\\right) - u_{y}^{2} + u_{z} \\left(3 u_{x} + 2 u_{z}\\right)\\right) \\rho{\\left(x,y,z \\right)}}{24}\\\\\\frac{k^{2} \\kappa \\rho^{2}{\\left(x,y,z \\right)}}{12} + \\frac{p_{b}}{12} + \\frac{\\left(u_{x} - u_{z}\\right) \\rho{\\left(x,y,z \\right)}}{12} - \\frac{\\left(- u_{x} \\left(2 u_{x} - 3 u_{z}\\right) + u_{y}^{2} + u_{z} \\left(3 u_{x} - 2 u_{z}\\right)\\right) \\rho{\\left(x,y,z \\right)}}{24}\\end{matrix}\\right]$"
      ],
      "text/plain": [
       "Matrix([\n",
       "[                -2*k**2*kappa*rho(x, y, z)**2 - 2*p_b - u_x**2*rho(x, y, z)/2 - u_y**2*rho(x, y, z)/2 - u_z**2*rho(x, y, z)/2 + rho(x, y, z)],\n",
       "[                                    k**2*kappa*rho(x, y, z)**2/6 + p_b/6 + u_y*rho(x, y, z)/6 - (u_x**2 - 2*u_y**2 + u_z**2)*rho(x, y, z)/12],\n",
       "[                                    k**2*kappa*rho(x, y, z)**2/6 + p_b/6 - u_y*rho(x, y, z)/6 - (u_x**2 - 2*u_y**2 + u_z**2)*rho(x, y, z)/12],\n",
       "[                                   k**2*kappa*rho(x, y, z)**2/6 + p_b/6 - u_x*rho(x, y, z)/6 - (-2*u_x**2 + u_y**2 + u_z**2)*rho(x, y, z)/12],\n",
       "[                                   k**2*kappa*rho(x, y, z)**2/6 + p_b/6 + u_x*rho(x, y, z)/6 - (-2*u_x**2 + u_y**2 + u_z**2)*rho(x, y, z)/12],\n",
       "[                                    k**2*kappa*rho(x, y, z)**2/6 + p_b/6 + u_z*rho(x, y, z)/6 - (u_x**2 + u_y**2 - 2*u_z**2)*rho(x, y, z)/12],\n",
       "[                                    k**2*kappa*rho(x, y, z)**2/6 + p_b/6 - u_z*rho(x, y, z)/6 - (u_x**2 + u_y**2 - 2*u_z**2)*rho(x, y, z)/12],\n",
       "[k**2*kappa*rho(x, y, z)**2/12 + p_b/12 - (u_x - u_y)*rho(x, y, z)/12 - (-u_x*(2*u_x - 3*u_y) + u_y*(3*u_x - 2*u_y) + u_z**2)*rho(x, y, z)/24],\n",
       "[ k**2*kappa*rho(x, y, z)**2/12 + p_b/12 + (u_x + u_y)*rho(x, y, z)/12 + (u_x*(2*u_x + 3*u_y) + u_y*(3*u_x + 2*u_y) - u_z**2)*rho(x, y, z)/24],\n",
       "[ k**2*kappa*rho(x, y, z)**2/12 + p_b/12 - (u_x + u_y)*rho(x, y, z)/12 + (u_x*(2*u_x + 3*u_y) + u_y*(3*u_x + 2*u_y) - u_z**2)*rho(x, y, z)/24],\n",
       "[k**2*kappa*rho(x, y, z)**2/12 + p_b/12 + (u_x - u_y)*rho(x, y, z)/12 - (-u_x*(2*u_x - 3*u_y) + u_y*(3*u_x - 2*u_y) + u_z**2)*rho(x, y, z)/24],\n",
       "[k**2*kappa*rho(x, y, z)**2/12 + p_b/12 + (u_y + u_z)*rho(x, y, z)/12 + (-u_x**2 + u_y*(2*u_y + 3*u_z) + u_z*(3*u_y + 2*u_z))*rho(x, y, z)/24],\n",
       "[ k**2*kappa*rho(x, y, z)**2/12 + p_b/12 - (u_y - u_z)*rho(x, y, z)/12 - (u_x**2 - u_y*(2*u_y - 3*u_z) + u_z*(3*u_y - 2*u_z))*rho(x, y, z)/24],\n",
       "[k**2*kappa*rho(x, y, z)**2/12 + p_b/12 - (u_x - u_z)*rho(x, y, z)/12 - (-u_x*(2*u_x - 3*u_z) + u_y**2 + u_z*(3*u_x - 2*u_z))*rho(x, y, z)/24],\n",
       "[ k**2*kappa*rho(x, y, z)**2/12 + p_b/12 + (u_x + u_z)*rho(x, y, z)/12 + (u_x*(2*u_x + 3*u_z) - u_y**2 + u_z*(3*u_x + 2*u_z))*rho(x, y, z)/24],\n",
       "[ k**2*kappa*rho(x, y, z)**2/12 + p_b/12 + (u_y - u_z)*rho(x, y, z)/12 - (u_x**2 - u_y*(2*u_y - 3*u_z) + u_z*(3*u_y - 2*u_z))*rho(x, y, z)/24],\n",
       "[k**2*kappa*rho(x, y, z)**2/12 + p_b/12 - (u_y + u_z)*rho(x, y, z)/12 + (-u_x**2 + u_y*(2*u_y + 3*u_z) + u_z*(3*u_y + 2*u_z))*rho(x, y, z)/24],\n",
       "[ k**2*kappa*rho(x, y, z)**2/12 + p_b/12 - (u_x + u_z)*rho(x, y, z)/12 + (u_x*(2*u_x + 3*u_z) - u_y**2 + u_z*(3*u_x + 2*u_z))*rho(x, y, z)/24],\n",
       "[k**2*kappa*rho(x, y, z)**2/12 + p_b/12 + (u_x - u_z)*rho(x, y, z)/12 - (-u_x*(2*u_x - 3*u_z) + u_y**2 + u_z*(3*u_x - 2*u_z))*rho(x, y, z)/24]])"
      ]
     },
     "execution_count": 44,
     "metadata": {},
     "output_type": "execute_result"
    }
   ],
   "source": [
    "kappa = sp.symbols('kappa')\n",
    "pb = sp.symbols('p_b')\n",
    "rho = sp.symbols('rho',cls=sp.Function)(x,y,z)\n",
    "ux, uy, uz = sp.symbols('u_x, u_y, u_z')\n",
    "k, kx, ky, kz = sp.symbols('k, k_x, k_y, k_z')\n",
    "# k = sp.symbols('k')\n",
    "ks = {x:kx,y:ky,z:kz}\n",
    "u = sp.Matrix([ux,uy,uz])\n",
    "Drho2 = sp.Matrix([ [ 0 for b in [x,y,z] ] for a in [x,y,z] ])\n",
    "D2rho = -k**2*rho\n",
    "G = kappa*Drho2\n",
    "cs = sp.sqrt(sp.Rational(1, 3))\n",
    "five36 = sp.Rational(5,36)\n",
    "one9 = sp.Rational(1,9)\n",
    "one12 = sp.Rational(1,12)\n",
    "one36 = sp.Rational(1,36)\n",
    "one72 = sp.Rational(1,72)\n",
    "\n",
    "w = [ sp.Rational(1,3) ] + [ sp.Rational(1,18) ]*6 + [ sp.Rational(1,36) ]*12\n",
    "\n",
    "ww =  [ [[0]*3]*3 ] \\\n",
    "    + [ [ [ -one9, 0, 0], [0, five36, 0], [0, 0,  -one9] ] ]*2 \\\n",
    "    + [ [ [five36, 0, 0], [0,  -one9, 0], [0, 0,  -one9] ] ]*2 \\\n",
    "    + [ [ [ -one9, 0, 0], [0,  -one9, 0], [0, 0, five36] ] ]*2 \\\n",
    "    + [ [ [-one72, -one12, 0], [ -one12, -one72, 0], [ 0, 0, one36] ],\n",
    "        [ [-one72,  one12, 0], [  one12, -one72, 0], [ 0, 0, one36] ],\n",
    "        [ [-one72,  one12, 0], [  one12, -one72, 0], [ 0, 0, one36] ],\n",
    "        [ [-one72, -one12, 0], [ -one12, -one72, 0], [ 0, 0, one36] ],\n",
    "        [ [ one36, 0, 0], [ 0, -one72,  one12], [ 0,  one12, -one72] ],\n",
    "        [ [ one36, 0, 0], [ 0, -one72, -one12], [ 0, -one12, -one72] ],\n",
    "        [ [-one72, 0, -one12], [ 0, one36, 0], [ -one12, 0, -one72] ],\n",
    "        [ [-one72, 0,  one12], [ 0, one36, 0], [  one12, 0, -one72] ],\n",
    "        [ [ one36, 0, 0], [ 0, -one72, -one12], [ 0, -one12, -one72] ],\n",
    "        [ [ one36, 0, 0], [ 0, -one72,  one12], [ 0,  one12, -one72] ],\n",
    "        [ [-one72, 0,  one12], [ 0, one36, 0], [  one12, 0, -one72] ],\n",
    "        [ [-one72, 0, -one12], [ 0, one36, 0], [ -one12, 0, -one72] ] ]\n",
    "\n",
    "def f(i):\n",
    "    f = w[i]/cs**2*pb \\\n",
    "        + w[i]/cs**2*rho*c[i,:].dot(u) \\\n",
    "        + w[i]/(2*cs**4)*rho*u.dot((c[i,:].T@c[i,:]-cs**2*sp.eye(D))@u) \\\n",
    "        - w[i]/cs**2*(kappa*rho*D2rho) \\\n",
    "        + sum([ ww[i][j][j]/cs**2*G[j,j] for j in range(D) ]) \\\n",
    "        + sum([ ww[i][j][(j+1)%D]/cs**2*G[j,(j+1)%D] for j in range(D) ])\n",
    "    return f\n",
    "\n",
    "feq = sp.Matrix([ f(i) for i in range(0,Q) ])\n",
    "feq[0] = rho - sum(feq[1:])\n",
    "feq.simplify()\n",
    "mf = sp.simplify(M*feq)"
   ]
  },
  {
   "cell_type": "code",
   "execution_count": 47,
   "metadata": {},
   "outputs": [
    {
     "data": {
      "text/latex": [
       "$\\displaystyle \\left[\\begin{array}{ccccccccccccccccccc}S{\\left(k \\right)} & 0 & 0 & 0 & \\left(3 c_{s}^{2}{\\left(k \\right)} - 1\\right) S{\\left(k \\right)} & 0 & 0 & 0 & 0 & 0 & 0 & 0 & 0 & 0 & 0 & 0 & \\left(1 - 3 c_{s}^{2}{\\left(k \\right)}\\right) S{\\left(k \\right)} & 0 & 0\\\\0 & S{\\left(k \\right)} c_{s}^{2}{\\left(k \\right)} & 0 & 0 & 0 & 0 & 0 & 0 & 0 & 0 & 0 & 0 & 0 & 0 & 0 & 0 & 0 & 0 & 0\\\\0 & 0 & S{\\left(k \\right)} c_{s}^{2}{\\left(k \\right)} & 0 & 0 & 0 & 0 & 0 & 0 & 0 & 0 & 0 & 0 & 0 & 0 & 0 & 0 & 0 & 0\\\\0 & 0 & 0 & S{\\left(k \\right)} c_{s}^{2}{\\left(k \\right)} & 0 & 0 & 0 & 0 & 0 & 0 & 0 & 0 & 0 & 0 & 0 & 0 & 0 & 0 & 0\\\\\\left(3 c_{s}^{2}{\\left(k \\right)} - 1\\right) S{\\left(k \\right)} & 0 & 0 & 0 & \\left(1 - c_{s}^{2}{\\left(k \\right)}\\right) S{\\left(k \\right)} & 0 & 0 & 0 & 0 & 0 & 0 & 0 & 0 & 0 & 0 & 0 & \\left(3 c_{s}^{2}{\\left(k \\right)} - 1\\right) S{\\left(k \\right)} & 0 & 0\\\\0 & 0 & 0 & 0 & 0 & 4 S{\\left(k \\right)} c_{s}^{2}{\\left(k \\right)} & 0 & 0 & 0 & 0 & 0 & 0 & 0 & 0 & 0 & 0 & 0 & 0 & 0\\\\0 & 0 & 0 & 0 & 0 & 0 & \\frac{4 S{\\left(k \\right)} c_{s}^{2}{\\left(k \\right)}}{3} & 0 & 0 & 0 & 0 & 0 & 0 & 0 & 0 & 0 & 0 & 0 & 0\\\\0 & 0 & 0 & 0 & 0 & 0 & 0 & \\frac{S{\\left(k \\right)} c_{s}^{2}{\\left(k \\right)}}{3} & 0 & 0 & 0 & 0 & 0 & 0 & 0 & 0 & 0 & 0 & 0\\\\0 & 0 & 0 & 0 & 0 & 0 & 0 & 0 & \\frac{S{\\left(k \\right)} c_{s}^{2}{\\left(k \\right)}}{3} & 0 & 0 & 0 & 0 & 0 & 0 & 0 & 0 & 0 & 0\\\\0 & 0 & 0 & 0 & 0 & 0 & 0 & 0 & 0 & \\frac{S{\\left(k \\right)} c_{s}^{2}{\\left(k \\right)}}{3} & 0 & 0 & 0 & 0 & 0 & 0 & 0 & 0 & 0\\\\0 & 0 & 0 & 0 & 0 & 0 & 0 & 0 & 0 & 0 & 2 S{\\left(k \\right)} c_{s}^{2}{\\left(k \\right)} & 0 & 0 & 0 & 0 & 0 & 0 & 0 & 0\\\\0 & 0 & 0 & 0 & 0 & 0 & 0 & 0 & 0 & 0 & 0 & 2 S{\\left(k \\right)} c_{s}^{2}{\\left(k \\right)} & 0 & 0 & 0 & 0 & 0 & 0 & 0\\\\0 & 0 & 0 & 0 & 0 & 0 & 0 & 0 & 0 & 0 & 0 & 0 & 2 S{\\left(k \\right)} c_{s}^{2}{\\left(k \\right)} & 0 & 0 & 0 & 0 & 0 & 0\\\\0 & 0 & 0 & 0 & 0 & 0 & 0 & 0 & 0 & 0 & 0 & 0 & 0 & \\frac{2 S{\\left(k \\right)} c_{s}^{2}{\\left(k \\right)}}{3} & 0 & 0 & 0 & 0 & 0\\\\0 & 0 & 0 & 0 & 0 & 0 & 0 & 0 & 0 & 0 & 0 & 0 & 0 & 0 & \\frac{2 S{\\left(k \\right)} c_{s}^{2}{\\left(k \\right)}}{3} & 0 & 0 & 0 & 0\\\\0 & 0 & 0 & 0 & 0 & 0 & 0 & 0 & 0 & 0 & 0 & 0 & 0 & 0 & 0 & \\frac{2 S{\\left(k \\right)} c_{s}^{2}{\\left(k \\right)}}{3} & 0 & 0 & 0\\\\\\left(1 - 3 c_{s}^{2}{\\left(k \\right)}\\right) S{\\left(k \\right)} & 0 & 0 & 0 & \\left(3 c_{s}^{2}{\\left(k \\right)} - 1\\right) S{\\left(k \\right)} & 0 & 0 & 0 & 0 & 0 & 0 & 0 & 0 & 0 & 0 & 0 & \\left(3 c_{s}^{2}{\\left(k \\right)} + 1\\right) S{\\left(k \\right)} & 0 & 0\\\\0 & 0 & 0 & 0 & 0 & 0 & 0 & 0 & 0 & 0 & 0 & 0 & 0 & 0 & 0 & 0 & 0 & 4 S{\\left(k \\right)} c_{s}^{2}{\\left(k \\right)} & 0\\\\0 & 0 & 0 & 0 & 0 & 0 & 0 & 0 & 0 & 0 & 0 & 0 & 0 & 0 & 0 & 0 & 0 & 0 & \\frac{4 S{\\left(k \\right)} c_{s}^{2}{\\left(k \\right)}}{3}\\end{array}\\right]$"
      ],
      "text/plain": [
       "Matrix([\n",
       "[                  S(k),              0,              0,              0, (3*c_s(k)**2 - 1)*S(k),                0,                  0,                0,                0,                0,                0,                0,                0,                  0,                  0,                  0, (1 - 3*c_s(k)**2)*S(k),                0,                  0],\n",
       "[                     0, S(k)*c_s(k)**2,              0,              0,                      0,                0,                  0,                0,                0,                0,                0,                0,                0,                  0,                  0,                  0,                      0,                0,                  0],\n",
       "[                     0,              0, S(k)*c_s(k)**2,              0,                      0,                0,                  0,                0,                0,                0,                0,                0,                0,                  0,                  0,                  0,                      0,                0,                  0],\n",
       "[                     0,              0,              0, S(k)*c_s(k)**2,                      0,                0,                  0,                0,                0,                0,                0,                0,                0,                  0,                  0,                  0,                      0,                0,                  0],\n",
       "[(3*c_s(k)**2 - 1)*S(k),              0,              0,              0,   (1 - c_s(k)**2)*S(k),                0,                  0,                0,                0,                0,                0,                0,                0,                  0,                  0,                  0, (3*c_s(k)**2 - 1)*S(k),                0,                  0],\n",
       "[                     0,              0,              0,              0,                      0, 4*S(k)*c_s(k)**2,                  0,                0,                0,                0,                0,                0,                0,                  0,                  0,                  0,                      0,                0,                  0],\n",
       "[                     0,              0,              0,              0,                      0,                0, 4*S(k)*c_s(k)**2/3,                0,                0,                0,                0,                0,                0,                  0,                  0,                  0,                      0,                0,                  0],\n",
       "[                     0,              0,              0,              0,                      0,                0,                  0, S(k)*c_s(k)**2/3,                0,                0,                0,                0,                0,                  0,                  0,                  0,                      0,                0,                  0],\n",
       "[                     0,              0,              0,              0,                      0,                0,                  0,                0, S(k)*c_s(k)**2/3,                0,                0,                0,                0,                  0,                  0,                  0,                      0,                0,                  0],\n",
       "[                     0,              0,              0,              0,                      0,                0,                  0,                0,                0, S(k)*c_s(k)**2/3,                0,                0,                0,                  0,                  0,                  0,                      0,                0,                  0],\n",
       "[                     0,              0,              0,              0,                      0,                0,                  0,                0,                0,                0, 2*S(k)*c_s(k)**2,                0,                0,                  0,                  0,                  0,                      0,                0,                  0],\n",
       "[                     0,              0,              0,              0,                      0,                0,                  0,                0,                0,                0,                0, 2*S(k)*c_s(k)**2,                0,                  0,                  0,                  0,                      0,                0,                  0],\n",
       "[                     0,              0,              0,              0,                      0,                0,                  0,                0,                0,                0,                0,                0, 2*S(k)*c_s(k)**2,                  0,                  0,                  0,                      0,                0,                  0],\n",
       "[                     0,              0,              0,              0,                      0,                0,                  0,                0,                0,                0,                0,                0,                0, 2*S(k)*c_s(k)**2/3,                  0,                  0,                      0,                0,                  0],\n",
       "[                     0,              0,              0,              0,                      0,                0,                  0,                0,                0,                0,                0,                0,                0,                  0, 2*S(k)*c_s(k)**2/3,                  0,                      0,                0,                  0],\n",
       "[                     0,              0,              0,              0,                      0,                0,                  0,                0,                0,                0,                0,                0,                0,                  0,                  0, 2*S(k)*c_s(k)**2/3,                      0,                0,                  0],\n",
       "[(1 - 3*c_s(k)**2)*S(k),              0,              0,              0, (3*c_s(k)**2 - 1)*S(k),                0,                  0,                0,                0,                0,                0,                0,                0,                  0,                  0,                  0, (3*c_s(k)**2 + 1)*S(k),                0,                  0],\n",
       "[                     0,              0,              0,              0,                      0,                0,                  0,                0,                0,                0,                0,                0,                0,                  0,                  0,                  0,                      0, 4*S(k)*c_s(k)**2,                  0],\n",
       "[                     0,              0,              0,              0,                      0,                0,                  0,                0,                0,                0,                0,                0,                0,                  0,                  0,                  0,                      0,                0, 4*S(k)*c_s(k)**2/3]])"
      ]
     },
     "execution_count": 47,
     "metadata": {},
     "output_type": "execute_result"
    }
   ],
   "source": [
    "rho0 = sp.symbols(\"rho0\")\n",
    "k = sp.symbols('k')\n",
    "cs = sp.symbols('c_s', real=True, cls=sp.Function)(k)\n",
    "\n",
    "fbar = feq.subs({pb:rho*cs**2}).subs({rho:rho0,ux:0,uy:0,uz:0,kappa:0})\n",
    "S = sp.symbols('S', cls=sp.Function)(k)/rho0*sp.diag(*fbar)\n",
    "G = sp.simplify(M@S@M.T)\n",
    "G"
   ]
  },
  {
   "cell_type": "code",
   "execution_count": 54,
   "metadata": {},
   "outputs": [
    {
     "data": {
      "text/latex": [
       "$\\displaystyle \\left[\\begin{array}{ccccccccccccccccccc}0 & 0 & 0 & 0 & 0 & 0 & 0 & 0 & 0 & 0 & 0 & 0 & 0 & 0 & 0 & 0 & 0 & 0 & 0\\\\0 & 0 & 0 & 0 & 0 & 0 & 0 & 0 & 0 & 0 & 0 & 0 & 0 & 0 & 0 & 0 & 0 & 0 & 0\\\\0 & 0 & 0 & 0 & 0 & 0 & 0 & 0 & 0 & 0 & 0 & 0 & 0 & 0 & 0 & 0 & 0 & 0 & 0\\\\0 & 0 & 0 & 0 & 0 & 0 & 0 & 0 & 0 & 0 & 0 & 0 & 0 & 0 & 0 & 0 & 0 & 0 & 0\\\\\\lambda_{b} \\left(1 - 3 c_{s}^{2}{\\left(k \\right)}\\right) & 0 & 0 & 0 & \\lambda_{b} & 0 & 0 & 0 & 0 & 0 & 0 & 0 & 0 & 0 & 0 & 0 & 0 & 0 & 0\\\\0 & 0 & 0 & 0 & 0 & \\lambda_{s} & 0 & 0 & 0 & 0 & 0 & 0 & 0 & 0 & 0 & 0 & 0 & 0 & 0\\\\0 & 0 & 0 & 0 & 0 & 0 & \\lambda_{s} & 0 & 0 & 0 & 0 & 0 & 0 & 0 & 0 & 0 & 0 & 0 & 0\\\\0 & 0 & 0 & 0 & 0 & 0 & 0 & \\lambda_{s} & 0 & 0 & 0 & 0 & 0 & 0 & 0 & 0 & 0 & 0 & 0\\\\0 & 0 & 0 & 0 & 0 & 0 & 0 & 0 & \\lambda_{s} & 0 & 0 & 0 & 0 & 0 & 0 & 0 & 0 & 0 & 0\\\\0 & 0 & 0 & 0 & 0 & 0 & 0 & 0 & 0 & \\lambda_{s} & 0 & 0 & 0 & 0 & 0 & 0 & 0 & 0 & 0\\\\0 & 0 & 0 & 0 & 0 & 0 & 0 & 0 & 0 & 0 & \\lambda_{q} & 0 & 0 & 0 & 0 & 0 & 0 & 0 & 0\\\\0 & 0 & 0 & 0 & 0 & 0 & 0 & 0 & 0 & 0 & 0 & \\lambda_{q} & 0 & 0 & 0 & 0 & 0 & 0 & 0\\\\0 & 0 & 0 & 0 & 0 & 0 & 0 & 0 & 0 & 0 & 0 & 0 & \\lambda_{q} & 0 & 0 & 0 & 0 & 0 & 0\\\\0 & 0 & 0 & 0 & 0 & 0 & 0 & 0 & 0 & 0 & 0 & 0 & 0 & \\lambda_{q} & 0 & 0 & 0 & 0 & 0\\\\0 & 0 & 0 & 0 & 0 & 0 & 0 & 0 & 0 & 0 & 0 & 0 & 0 & 0 & \\lambda_{q} & 0 & 0 & 0 & 0\\\\0 & 0 & 0 & 0 & 0 & 0 & 0 & 0 & 0 & 0 & 0 & 0 & 0 & 0 & 0 & \\lambda_{q} & 0 & 0 & 0\\\\\\lambda_{b} \\left(3 c_{s}^{2}{\\left(k \\right)} - 1\\right) & 0 & 0 & 0 & 0 & 0 & 0 & 0 & 0 & 0 & 0 & 0 & 0 & 0 & 0 & 0 & \\lambda_{b} & 0 & 0\\\\0 & 0 & 0 & 0 & 0 & 0 & 0 & 0 & 0 & 0 & 0 & 0 & 0 & 0 & 0 & 0 & 0 & \\lambda_{b} & 0\\\\0 & 0 & 0 & 0 & 0 & 0 & 0 & 0 & 0 & 0 & 0 & 0 & 0 & 0 & 0 & 0 & 0 & 0 & \\lambda_{b}\\end{array}\\right]$"
      ],
      "text/plain": [
       "Matrix([\n",
       "[                         0, 0, 0, 0,        0,        0,        0,        0,        0,        0,        0,        0,        0,        0,        0,        0,        0,        0,        0],\n",
       "[                         0, 0, 0, 0,        0,        0,        0,        0,        0,        0,        0,        0,        0,        0,        0,        0,        0,        0,        0],\n",
       "[                         0, 0, 0, 0,        0,        0,        0,        0,        0,        0,        0,        0,        0,        0,        0,        0,        0,        0,        0],\n",
       "[                         0, 0, 0, 0,        0,        0,        0,        0,        0,        0,        0,        0,        0,        0,        0,        0,        0,        0,        0],\n",
       "[lambda_b*(1 - 3*c_s(k)**2), 0, 0, 0, lambda_b,        0,        0,        0,        0,        0,        0,        0,        0,        0,        0,        0,        0,        0,        0],\n",
       "[                         0, 0, 0, 0,        0, lambda_s,        0,        0,        0,        0,        0,        0,        0,        0,        0,        0,        0,        0,        0],\n",
       "[                         0, 0, 0, 0,        0,        0, lambda_s,        0,        0,        0,        0,        0,        0,        0,        0,        0,        0,        0,        0],\n",
       "[                         0, 0, 0, 0,        0,        0,        0, lambda_s,        0,        0,        0,        0,        0,        0,        0,        0,        0,        0,        0],\n",
       "[                         0, 0, 0, 0,        0,        0,        0,        0, lambda_s,        0,        0,        0,        0,        0,        0,        0,        0,        0,        0],\n",
       "[                         0, 0, 0, 0,        0,        0,        0,        0,        0, lambda_s,        0,        0,        0,        0,        0,        0,        0,        0,        0],\n",
       "[                         0, 0, 0, 0,        0,        0,        0,        0,        0,        0, lambda_q,        0,        0,        0,        0,        0,        0,        0,        0],\n",
       "[                         0, 0, 0, 0,        0,        0,        0,        0,        0,        0,        0, lambda_q,        0,        0,        0,        0,        0,        0,        0],\n",
       "[                         0, 0, 0, 0,        0,        0,        0,        0,        0,        0,        0,        0, lambda_q,        0,        0,        0,        0,        0,        0],\n",
       "[                         0, 0, 0, 0,        0,        0,        0,        0,        0,        0,        0,        0,        0, lambda_q,        0,        0,        0,        0,        0],\n",
       "[                         0, 0, 0, 0,        0,        0,        0,        0,        0,        0,        0,        0,        0,        0, lambda_q,        0,        0,        0,        0],\n",
       "[                         0, 0, 0, 0,        0,        0,        0,        0,        0,        0,        0,        0,        0,        0,        0, lambda_q,        0,        0,        0],\n",
       "[lambda_b*(3*c_s(k)**2 - 1), 0, 0, 0,        0,        0,        0,        0,        0,        0,        0,        0,        0,        0,        0,        0, lambda_b,        0,        0],\n",
       "[                         0, 0, 0, 0,        0,        0,        0,        0,        0,        0,        0,        0,        0,        0,        0,        0,        0, lambda_b,        0],\n",
       "[                         0, 0, 0, 0,        0,        0,        0,        0,        0,        0,        0,        0,        0,        0,        0,        0,        0,        0, lambda_b]])"
      ]
     },
     "execution_count": 54,
     "metadata": {},
     "output_type": "execute_result"
    }
   ],
   "source": [
    "lb,ls,lq,le = sp.symbols('lambda_b, lambda_s, lambda_q, lambda_e', real = True)\n",
    "d = 3*(cs**2 - sp.Rational(1,3))\n",
    "lambdas = [0]*4 + [lb]*1 + [ls]*5 + [lq]*6 + [lb]*3\n",
    "Lambda = sp.diag(*lambdas)\n",
    "\n",
    "Lambda[4,0] = -d*lambdas[4]\n",
    "Lambda[16,0] = d*lambdas[16]\n",
    "\n",
    "Lambda"
   ]
  },
  {
   "cell_type": "code",
   "execution_count": 55,
   "metadata": {},
   "outputs": [
    {
     "data": {
      "text/latex": [
       "$\\displaystyle \\left[\\begin{array}{ccccccccccccccccccc}S{\\left(k \\right)} & 0 & 0 & 0 & \\left(3 c_{s}^{2}{\\left(k \\right)} - 1\\right) S{\\left(k \\right)} & 0 & 0 & 0 & 0 & 0 & 0 & 0 & 0 & 0 & 0 & 0 & \\left(1 - 3 c_{s}^{2}{\\left(k \\right)}\\right) S{\\left(k \\right)} & 0 & 0\\\\0 & S{\\left(k \\right)} c_{s}^{2}{\\left(k \\right)} & 0 & 0 & 0 & 0 & 0 & 0 & 0 & 0 & 0 & 0 & 0 & 0 & 0 & 0 & 0 & 0 & 0\\\\0 & 0 & S{\\left(k \\right)} c_{s}^{2}{\\left(k \\right)} & 0 & 0 & 0 & 0 & 0 & 0 & 0 & 0 & 0 & 0 & 0 & 0 & 0 & 0 & 0 & 0\\\\0 & 0 & 0 & S{\\left(k \\right)} c_{s}^{2}{\\left(k \\right)} & 0 & 0 & 0 & 0 & 0 & 0 & 0 & 0 & 0 & 0 & 0 & 0 & 0 & 0 & 0\\\\\\left(3 c_{s}^{2}{\\left(k \\right)} - 1\\right) S{\\left(k \\right)} & 0 & 0 & 0 & \\left(1 - c_{s}^{2}{\\left(k \\right)}\\right) S{\\left(k \\right)} & 0 & 0 & 0 & 0 & 0 & 0 & 0 & 0 & 0 & 0 & 0 & \\left(3 c_{s}^{2}{\\left(k \\right)} - 1\\right) S{\\left(k \\right)} & 0 & 0\\\\0 & 0 & 0 & 0 & 0 & 4 S{\\left(k \\right)} c_{s}^{2}{\\left(k \\right)} & 0 & 0 & 0 & 0 & 0 & 0 & 0 & 0 & 0 & 0 & 0 & 0 & 0\\\\0 & 0 & 0 & 0 & 0 & 0 & \\frac{4 S{\\left(k \\right)} c_{s}^{2}{\\left(k \\right)}}{3} & 0 & 0 & 0 & 0 & 0 & 0 & 0 & 0 & 0 & 0 & 0 & 0\\\\0 & 0 & 0 & 0 & 0 & 0 & 0 & \\frac{S{\\left(k \\right)} c_{s}^{2}{\\left(k \\right)}}{3} & 0 & 0 & 0 & 0 & 0 & 0 & 0 & 0 & 0 & 0 & 0\\\\0 & 0 & 0 & 0 & 0 & 0 & 0 & 0 & \\frac{S{\\left(k \\right)} c_{s}^{2}{\\left(k \\right)}}{3} & 0 & 0 & 0 & 0 & 0 & 0 & 0 & 0 & 0 & 0\\\\0 & 0 & 0 & 0 & 0 & 0 & 0 & 0 & 0 & \\frac{S{\\left(k \\right)} c_{s}^{2}{\\left(k \\right)}}{3} & 0 & 0 & 0 & 0 & 0 & 0 & 0 & 0 & 0\\\\0 & 0 & 0 & 0 & 0 & 0 & 0 & 0 & 0 & 0 & 2 S{\\left(k \\right)} c_{s}^{2}{\\left(k \\right)} & 0 & 0 & 0 & 0 & 0 & 0 & 0 & 0\\\\0 & 0 & 0 & 0 & 0 & 0 & 0 & 0 & 0 & 0 & 0 & 2 S{\\left(k \\right)} c_{s}^{2}{\\left(k \\right)} & 0 & 0 & 0 & 0 & 0 & 0 & 0\\\\0 & 0 & 0 & 0 & 0 & 0 & 0 & 0 & 0 & 0 & 0 & 0 & 2 S{\\left(k \\right)} c_{s}^{2}{\\left(k \\right)} & 0 & 0 & 0 & 0 & 0 & 0\\\\0 & 0 & 0 & 0 & 0 & 0 & 0 & 0 & 0 & 0 & 0 & 0 & 0 & \\frac{2 S{\\left(k \\right)} c_{s}^{2}{\\left(k \\right)}}{3} & 0 & 0 & 0 & 0 & 0\\\\0 & 0 & 0 & 0 & 0 & 0 & 0 & 0 & 0 & 0 & 0 & 0 & 0 & 0 & \\frac{2 S{\\left(k \\right)} c_{s}^{2}{\\left(k \\right)}}{3} & 0 & 0 & 0 & 0\\\\0 & 0 & 0 & 0 & 0 & 0 & 0 & 0 & 0 & 0 & 0 & 0 & 0 & 0 & 0 & \\frac{2 S{\\left(k \\right)} c_{s}^{2}{\\left(k \\right)}}{3} & 0 & 0 & 0\\\\\\left(1 - 3 c_{s}^{2}{\\left(k \\right)}\\right) S{\\left(k \\right)} & 0 & 0 & 0 & \\left(3 c_{s}^{2}{\\left(k \\right)} - 1\\right) S{\\left(k \\right)} & 0 & 0 & 0 & 0 & 0 & 0 & 0 & 0 & 0 & 0 & 0 & \\left(3 c_{s}^{2}{\\left(k \\right)} + 1\\right) S{\\left(k \\right)} & 0 & 0\\\\0 & 0 & 0 & 0 & 0 & 0 & 0 & 0 & 0 & 0 & 0 & 0 & 0 & 0 & 0 & 0 & 0 & 4 S{\\left(k \\right)} c_{s}^{2}{\\left(k \\right)} & 0\\\\0 & 0 & 0 & 0 & 0 & 0 & 0 & 0 & 0 & 0 & 0 & 0 & 0 & 0 & 0 & 0 & 0 & 0 & \\frac{4 S{\\left(k \\right)} c_{s}^{2}{\\left(k \\right)}}{3}\\end{array}\\right]$"
      ],
      "text/plain": [
       "Matrix([\n",
       "[                  S(k),              0,              0,              0, (3*c_s(k)**2 - 1)*S(k),                0,                  0,                0,                0,                0,                0,                0,                0,                  0,                  0,                  0, (1 - 3*c_s(k)**2)*S(k),                0,                  0],\n",
       "[                     0, S(k)*c_s(k)**2,              0,              0,                      0,                0,                  0,                0,                0,                0,                0,                0,                0,                  0,                  0,                  0,                      0,                0,                  0],\n",
       "[                     0,              0, S(k)*c_s(k)**2,              0,                      0,                0,                  0,                0,                0,                0,                0,                0,                0,                  0,                  0,                  0,                      0,                0,                  0],\n",
       "[                     0,              0,              0, S(k)*c_s(k)**2,                      0,                0,                  0,                0,                0,                0,                0,                0,                0,                  0,                  0,                  0,                      0,                0,                  0],\n",
       "[(3*c_s(k)**2 - 1)*S(k),              0,              0,              0,   (1 - c_s(k)**2)*S(k),                0,                  0,                0,                0,                0,                0,                0,                0,                  0,                  0,                  0, (3*c_s(k)**2 - 1)*S(k),                0,                  0],\n",
       "[                     0,              0,              0,              0,                      0, 4*S(k)*c_s(k)**2,                  0,                0,                0,                0,                0,                0,                0,                  0,                  0,                  0,                      0,                0,                  0],\n",
       "[                     0,              0,              0,              0,                      0,                0, 4*S(k)*c_s(k)**2/3,                0,                0,                0,                0,                0,                0,                  0,                  0,                  0,                      0,                0,                  0],\n",
       "[                     0,              0,              0,              0,                      0,                0,                  0, S(k)*c_s(k)**2/3,                0,                0,                0,                0,                0,                  0,                  0,                  0,                      0,                0,                  0],\n",
       "[                     0,              0,              0,              0,                      0,                0,                  0,                0, S(k)*c_s(k)**2/3,                0,                0,                0,                0,                  0,                  0,                  0,                      0,                0,                  0],\n",
       "[                     0,              0,              0,              0,                      0,                0,                  0,                0,                0, S(k)*c_s(k)**2/3,                0,                0,                0,                  0,                  0,                  0,                      0,                0,                  0],\n",
       "[                     0,              0,              0,              0,                      0,                0,                  0,                0,                0,                0, 2*S(k)*c_s(k)**2,                0,                0,                  0,                  0,                  0,                      0,                0,                  0],\n",
       "[                     0,              0,              0,              0,                      0,                0,                  0,                0,                0,                0,                0, 2*S(k)*c_s(k)**2,                0,                  0,                  0,                  0,                      0,                0,                  0],\n",
       "[                     0,              0,              0,              0,                      0,                0,                  0,                0,                0,                0,                0,                0, 2*S(k)*c_s(k)**2,                  0,                  0,                  0,                      0,                0,                  0],\n",
       "[                     0,              0,              0,              0,                      0,                0,                  0,                0,                0,                0,                0,                0,                0, 2*S(k)*c_s(k)**2/3,                  0,                  0,                      0,                0,                  0],\n",
       "[                     0,              0,              0,              0,                      0,                0,                  0,                0,                0,                0,                0,                0,                0,                  0, 2*S(k)*c_s(k)**2/3,                  0,                      0,                0,                  0],\n",
       "[                     0,              0,              0,              0,                      0,                0,                  0,                0,                0,                0,                0,                0,                0,                  0,                  0, 2*S(k)*c_s(k)**2/3,                      0,                0,                  0],\n",
       "[(1 - 3*c_s(k)**2)*S(k),              0,              0,              0, (3*c_s(k)**2 - 1)*S(k),                0,                  0,                0,                0,                0,                0,                0,                0,                  0,                  0,                  0, (3*c_s(k)**2 + 1)*S(k),                0,                  0],\n",
       "[                     0,              0,              0,              0,                      0,                0,                  0,                0,                0,                0,                0,                0,                0,                  0,                  0,                  0,                      0, 4*S(k)*c_s(k)**2,                  0],\n",
       "[                     0,              0,              0,              0,                      0,                0,                  0,                0,                0,                0,                0,                0,                0,                  0,                  0,                  0,                      0,                0, 4*S(k)*c_s(k)**2/3]])"
      ]
     },
     "execution_count": 55,
     "metadata": {},
     "output_type": "execute_result"
    }
   ],
   "source": [
    "G"
   ]
  },
  {
   "cell_type": "code",
   "execution_count": 56,
   "metadata": {},
   "outputs": [
    {
     "data": {
      "text/latex": [
       "$\\displaystyle \\left[\\begin{array}{ccccccccccccccccccc}0 & 0 & 0 & 0 & 0 & 0 & 0 & 0 & 0 & 0 & 0 & 0 & 0 & 0 & 0 & 0 & 0 & 0 & 0\\\\0 & 0 & 0 & 0 & 0 & 0 & 0 & 0 & 0 & 0 & 0 & 0 & 0 & 0 & 0 & 0 & 0 & 0 & 0\\\\0 & 0 & 0 & 0 & 0 & 0 & 0 & 0 & 0 & 0 & 0 & 0 & 0 & 0 & 0 & 0 & 0 & 0 & 0\\\\0 & 0 & 0 & 0 & 0 & 0 & 0 & 0 & 0 & 0 & 0 & 0 & 0 & 0 & 0 & 0 & 0 & 0 & 0\\\\0 & 0 & 0 & 0 & 2 \\lambda_{b} \\left(5 - 9 c_{s}^{2}{\\left(k \\right)}\\right) S{\\left(k \\right)} c_{s}^{2}{\\left(k \\right)} & 0 & 0 & 0 & 0 & 0 & 0 & 0 & 0 & 0 & 0 & 0 & 6 \\lambda_{b} \\left(3 c_{s}^{2}{\\left(k \\right)} - 1\\right) S{\\left(k \\right)} c_{s}^{2}{\\left(k \\right)} & 0 & 0\\\\0 & 0 & 0 & 0 & 0 & 8 \\lambda_{s} S{\\left(k \\right)} c_{s}^{2}{\\left(k \\right)} & 0 & 0 & 0 & 0 & 0 & 0 & 0 & 0 & 0 & 0 & 0 & 0 & 0\\\\0 & 0 & 0 & 0 & 0 & 0 & \\frac{8 \\lambda_{s} S{\\left(k \\right)} c_{s}^{2}{\\left(k \\right)}}{3} & 0 & 0 & 0 & 0 & 0 & 0 & 0 & 0 & 0 & 0 & 0 & 0\\\\0 & 0 & 0 & 0 & 0 & 0 & 0 & \\frac{2 \\lambda_{s} S{\\left(k \\right)} c_{s}^{2}{\\left(k \\right)}}{3} & 0 & 0 & 0 & 0 & 0 & 0 & 0 & 0 & 0 & 0 & 0\\\\0 & 0 & 0 & 0 & 0 & 0 & 0 & 0 & \\frac{2 \\lambda_{s} S{\\left(k \\right)} c_{s}^{2}{\\left(k \\right)}}{3} & 0 & 0 & 0 & 0 & 0 & 0 & 0 & 0 & 0 & 0\\\\0 & 0 & 0 & 0 & 0 & 0 & 0 & 0 & 0 & \\frac{2 \\lambda_{s} S{\\left(k \\right)} c_{s}^{2}{\\left(k \\right)}}{3} & 0 & 0 & 0 & 0 & 0 & 0 & 0 & 0 & 0\\\\0 & 0 & 0 & 0 & 0 & 0 & 0 & 0 & 0 & 0 & 4 \\lambda_{q} S{\\left(k \\right)} c_{s}^{2}{\\left(k \\right)} & 0 & 0 & 0 & 0 & 0 & 0 & 0 & 0\\\\0 & 0 & 0 & 0 & 0 & 0 & 0 & 0 & 0 & 0 & 0 & 4 \\lambda_{q} S{\\left(k \\right)} c_{s}^{2}{\\left(k \\right)} & 0 & 0 & 0 & 0 & 0 & 0 & 0\\\\0 & 0 & 0 & 0 & 0 & 0 & 0 & 0 & 0 & 0 & 0 & 0 & 4 \\lambda_{q} S{\\left(k \\right)} c_{s}^{2}{\\left(k \\right)} & 0 & 0 & 0 & 0 & 0 & 0\\\\0 & 0 & 0 & 0 & 0 & 0 & 0 & 0 & 0 & 0 & 0 & 0 & 0 & \\frac{4 \\lambda_{q} S{\\left(k \\right)} c_{s}^{2}{\\left(k \\right)}}{3} & 0 & 0 & 0 & 0 & 0\\\\0 & 0 & 0 & 0 & 0 & 0 & 0 & 0 & 0 & 0 & 0 & 0 & 0 & 0 & \\frac{4 \\lambda_{q} S{\\left(k \\right)} c_{s}^{2}{\\left(k \\right)}}{3} & 0 & 0 & 0 & 0\\\\0 & 0 & 0 & 0 & 0 & 0 & 0 & 0 & 0 & 0 & 0 & 0 & 0 & 0 & 0 & \\frac{4 \\lambda_{q} S{\\left(k \\right)} c_{s}^{2}{\\left(k \\right)}}{3} & 0 & 0 & 0\\\\0 & 0 & 0 & 0 & 6 \\lambda_{b} \\left(3 c_{s}^{2}{\\left(k \\right)} - 1\\right) S{\\left(k \\right)} c_{s}^{2}{\\left(k \\right)} & 0 & 0 & 0 & 0 & 0 & 0 & 0 & 0 & 0 & 0 & 0 & 18 \\lambda_{b} \\left(1 - c_{s}^{2}{\\left(k \\right)}\\right) S{\\left(k \\right)} c_{s}^{2}{\\left(k \\right)} & 0 & 0\\\\0 & 0 & 0 & 0 & 0 & 0 & 0 & 0 & 0 & 0 & 0 & 0 & 0 & 0 & 0 & 0 & 0 & 8 \\lambda_{b} S{\\left(k \\right)} c_{s}^{2}{\\left(k \\right)} & 0\\\\0 & 0 & 0 & 0 & 0 & 0 & 0 & 0 & 0 & 0 & 0 & 0 & 0 & 0 & 0 & 0 & 0 & 0 & \\frac{8 \\lambda_{b} S{\\left(k \\right)} c_{s}^{2}{\\left(k \\right)}}{3}\\end{array}\\right]$"
      ],
      "text/plain": [
       "Matrix([\n",
       "[0, 0, 0, 0,                                           0,                         0,                           0,                           0,                           0,                           0,                         0,                         0,                         0,                           0,                           0,                           0,                                           0,                         0,                           0],\n",
       "[0, 0, 0, 0,                                           0,                         0,                           0,                           0,                           0,                           0,                         0,                         0,                         0,                           0,                           0,                           0,                                           0,                         0,                           0],\n",
       "[0, 0, 0, 0,                                           0,                         0,                           0,                           0,                           0,                           0,                         0,                         0,                         0,                           0,                           0,                           0,                                           0,                         0,                           0],\n",
       "[0, 0, 0, 0,                                           0,                         0,                           0,                           0,                           0,                           0,                         0,                         0,                         0,                           0,                           0,                           0,                                           0,                         0,                           0],\n",
       "[0, 0, 0, 0, 2*lambda_b*(5 - 9*c_s(k)**2)*S(k)*c_s(k)**2,                         0,                           0,                           0,                           0,                           0,                         0,                         0,                         0,                           0,                           0,                           0, 6*lambda_b*(3*c_s(k)**2 - 1)*S(k)*c_s(k)**2,                         0,                           0],\n",
       "[0, 0, 0, 0,                                           0, 8*lambda_s*S(k)*c_s(k)**2,                           0,                           0,                           0,                           0,                         0,                         0,                         0,                           0,                           0,                           0,                                           0,                         0,                           0],\n",
       "[0, 0, 0, 0,                                           0,                         0, 8*lambda_s*S(k)*c_s(k)**2/3,                           0,                           0,                           0,                         0,                         0,                         0,                           0,                           0,                           0,                                           0,                         0,                           0],\n",
       "[0, 0, 0, 0,                                           0,                         0,                           0, 2*lambda_s*S(k)*c_s(k)**2/3,                           0,                           0,                         0,                         0,                         0,                           0,                           0,                           0,                                           0,                         0,                           0],\n",
       "[0, 0, 0, 0,                                           0,                         0,                           0,                           0, 2*lambda_s*S(k)*c_s(k)**2/3,                           0,                         0,                         0,                         0,                           0,                           0,                           0,                                           0,                         0,                           0],\n",
       "[0, 0, 0, 0,                                           0,                         0,                           0,                           0,                           0, 2*lambda_s*S(k)*c_s(k)**2/3,                         0,                         0,                         0,                           0,                           0,                           0,                                           0,                         0,                           0],\n",
       "[0, 0, 0, 0,                                           0,                         0,                           0,                           0,                           0,                           0, 4*lambda_q*S(k)*c_s(k)**2,                         0,                         0,                           0,                           0,                           0,                                           0,                         0,                           0],\n",
       "[0, 0, 0, 0,                                           0,                         0,                           0,                           0,                           0,                           0,                         0, 4*lambda_q*S(k)*c_s(k)**2,                         0,                           0,                           0,                           0,                                           0,                         0,                           0],\n",
       "[0, 0, 0, 0,                                           0,                         0,                           0,                           0,                           0,                           0,                         0,                         0, 4*lambda_q*S(k)*c_s(k)**2,                           0,                           0,                           0,                                           0,                         0,                           0],\n",
       "[0, 0, 0, 0,                                           0,                         0,                           0,                           0,                           0,                           0,                         0,                         0,                         0, 4*lambda_q*S(k)*c_s(k)**2/3,                           0,                           0,                                           0,                         0,                           0],\n",
       "[0, 0, 0, 0,                                           0,                         0,                           0,                           0,                           0,                           0,                         0,                         0,                         0,                           0, 4*lambda_q*S(k)*c_s(k)**2/3,                           0,                                           0,                         0,                           0],\n",
       "[0, 0, 0, 0,                                           0,                         0,                           0,                           0,                           0,                           0,                         0,                         0,                         0,                           0,                           0, 4*lambda_q*S(k)*c_s(k)**2/3,                                           0,                         0,                           0],\n",
       "[0, 0, 0, 0, 6*lambda_b*(3*c_s(k)**2 - 1)*S(k)*c_s(k)**2,                         0,                           0,                           0,                           0,                           0,                         0,                         0,                         0,                           0,                           0,                           0,  18*lambda_b*(1 - c_s(k)**2)*S(k)*c_s(k)**2,                         0,                           0],\n",
       "[0, 0, 0, 0,                                           0,                         0,                           0,                           0,                           0,                           0,                         0,                         0,                         0,                           0,                           0,                           0,                                           0, 8*lambda_b*S(k)*c_s(k)**2,                           0],\n",
       "[0, 0, 0, 0,                                           0,                         0,                           0,                           0,                           0,                           0,                         0,                         0,                         0,                           0,                           0,                           0,                                           0,                         0, 8*lambda_b*S(k)*c_s(k)**2/3]])"
      ]
     },
     "execution_count": 56,
     "metadata": {},
     "output_type": "execute_result"
    }
   ],
   "source": [
    "A = Lambda # Advection matrix A\n",
    "\n",
    "Xi = sp.simplify(A@G + G@A.T)\n",
    "Xi"
   ]
  },
  {
   "cell_type": "code",
   "execution_count": 59,
   "metadata": {},
   "outputs": [
    {
     "data": {
      "text/latex": [
       "$\\displaystyle \\left[\\begin{array}{ccccccccccccccccccc}0 & 0 & 0 & 0 & 0 & 0 & 0 & 0 & 0 & 0 & 0 & 0 & 0 & 0 & 0 & 0 & 0 & 0 & 0\\\\0 & 0 & 0 & 0 & 0 & 0 & 0 & 0 & 0 & 0 & 0 & 0 & 0 & 0 & 0 & 0 & 0 & 0 & 0\\\\0 & 0 & 0 & 0 & 0 & 0 & 0 & 0 & 0 & 0 & 0 & 0 & 0 & 0 & 0 & 0 & 0 & 0 & 0\\\\0 & 0 & 0 & 0 & 0 & 0 & 0 & 0 & 0 & 0 & 0 & 0 & 0 & 0 & 0 & 0 & 0 & 0 & 0\\\\0 & 0 & 0 & 0 & 2 \\lambda_{b} \\left(5 - 9 c_{s}^{2}{\\left(k \\right)}\\right) S{\\left(k \\right)} c_{s}^{2}{\\left(k \\right)} & 0 & 0 & 0 & 0 & 0 & 0 & 0 & 0 & 0 & 0 & 0 & 6 \\lambda_{b} \\left(3 c_{s}^{2}{\\left(k \\right)} - 1\\right) S{\\left(k \\right)} c_{s}^{2}{\\left(k \\right)} & 0 & 0\\\\0 & 0 & 0 & 0 & 0 & 8 \\lambda_{s} S{\\left(k \\right)} c_{s}^{2}{\\left(k \\right)} & 0 & 0 & 0 & 0 & 0 & 0 & 0 & 0 & 0 & 0 & 0 & 0 & 0\\\\0 & 0 & 0 & 0 & 0 & 0 & \\frac{8 \\lambda_{s} S{\\left(k \\right)} c_{s}^{2}{\\left(k \\right)}}{3} & 0 & 0 & 0 & 0 & 0 & 0 & 0 & 0 & 0 & 0 & 0 & 0\\\\0 & 0 & 0 & 0 & 0 & 0 & 0 & \\frac{2 \\lambda_{s} S{\\left(k \\right)} c_{s}^{2}{\\left(k \\right)}}{3} & 0 & 0 & 0 & 0 & 0 & 0 & 0 & 0 & 0 & 0 & 0\\\\0 & 0 & 0 & 0 & 0 & 0 & 0 & 0 & \\frac{2 \\lambda_{s} S{\\left(k \\right)} c_{s}^{2}{\\left(k \\right)}}{3} & 0 & 0 & 0 & 0 & 0 & 0 & 0 & 0 & 0 & 0\\\\0 & 0 & 0 & 0 & 0 & 0 & 0 & 0 & 0 & \\frac{2 \\lambda_{s} S{\\left(k \\right)} c_{s}^{2}{\\left(k \\right)}}{3} & 0 & 0 & 0 & 0 & 0 & 0 & 0 & 0 & 0\\\\0 & 0 & 0 & 0 & 0 & 0 & 0 & 0 & 0 & 0 & 4 \\lambda_{q} S{\\left(k \\right)} c_{s}^{2}{\\left(k \\right)} & 0 & 0 & 0 & 0 & 0 & 0 & 0 & 0\\\\0 & 0 & 0 & 0 & 0 & 0 & 0 & 0 & 0 & 0 & 0 & 4 \\lambda_{q} S{\\left(k \\right)} c_{s}^{2}{\\left(k \\right)} & 0 & 0 & 0 & 0 & 0 & 0 & 0\\\\0 & 0 & 0 & 0 & 0 & 0 & 0 & 0 & 0 & 0 & 0 & 0 & 4 \\lambda_{q} S{\\left(k \\right)} c_{s}^{2}{\\left(k \\right)} & 0 & 0 & 0 & 0 & 0 & 0\\\\0 & 0 & 0 & 0 & 0 & 0 & 0 & 0 & 0 & 0 & 0 & 0 & 0 & \\frac{4 \\lambda_{q} S{\\left(k \\right)} c_{s}^{2}{\\left(k \\right)}}{3} & 0 & 0 & 0 & 0 & 0\\\\0 & 0 & 0 & 0 & 0 & 0 & 0 & 0 & 0 & 0 & 0 & 0 & 0 & 0 & \\frac{4 \\lambda_{q} S{\\left(k \\right)} c_{s}^{2}{\\left(k \\right)}}{3} & 0 & 0 & 0 & 0\\\\0 & 0 & 0 & 0 & 0 & 0 & 0 & 0 & 0 & 0 & 0 & 0 & 0 & 0 & 0 & \\frac{4 \\lambda_{q} S{\\left(k \\right)} c_{s}^{2}{\\left(k \\right)}}{3} & 0 & 0 & 0\\\\0 & 0 & 0 & 0 & 6 \\lambda_{b} \\left(3 c_{s}^{2}{\\left(k \\right)} - 1\\right) S{\\left(k \\right)} c_{s}^{2}{\\left(k \\right)} & 0 & 0 & 0 & 0 & 0 & 0 & 0 & 0 & 0 & 0 & 0 & 18 \\lambda_{b} \\left(1 - c_{s}^{2}{\\left(k \\right)}\\right) S{\\left(k \\right)} c_{s}^{2}{\\left(k \\right)} & 0 & 0\\\\0 & 0 & 0 & 0 & 0 & 0 & 0 & 0 & 0 & 0 & 0 & 0 & 0 & 0 & 0 & 0 & 0 & 8 \\lambda_{b} S{\\left(k \\right)} c_{s}^{2}{\\left(k \\right)} & 0\\\\0 & 0 & 0 & 0 & 0 & 0 & 0 & 0 & 0 & 0 & 0 & 0 & 0 & 0 & 0 & 0 & 0 & 0 & \\frac{8 \\lambda_{b} S{\\left(k \\right)} c_{s}^{2}{\\left(k \\right)}}{3}\\end{array}\\right]$"
      ],
      "text/plain": [
       "Matrix([\n",
       "[0, 0, 0, 0,                                           0,                         0,                           0,                           0,                           0,                           0,                         0,                         0,                         0,                           0,                           0,                           0,                                           0,                         0,                           0],\n",
       "[0, 0, 0, 0,                                           0,                         0,                           0,                           0,                           0,                           0,                         0,                         0,                         0,                           0,                           0,                           0,                                           0,                         0,                           0],\n",
       "[0, 0, 0, 0,                                           0,                         0,                           0,                           0,                           0,                           0,                         0,                         0,                         0,                           0,                           0,                           0,                                           0,                         0,                           0],\n",
       "[0, 0, 0, 0,                                           0,                         0,                           0,                           0,                           0,                           0,                         0,                         0,                         0,                           0,                           0,                           0,                                           0,                         0,                           0],\n",
       "[0, 0, 0, 0, 2*lambda_b*(5 - 9*c_s(k)**2)*S(k)*c_s(k)**2,                         0,                           0,                           0,                           0,                           0,                         0,                         0,                         0,                           0,                           0,                           0, 6*lambda_b*(3*c_s(k)**2 - 1)*S(k)*c_s(k)**2,                         0,                           0],\n",
       "[0, 0, 0, 0,                                           0, 8*lambda_s*S(k)*c_s(k)**2,                           0,                           0,                           0,                           0,                         0,                         0,                         0,                           0,                           0,                           0,                                           0,                         0,                           0],\n",
       "[0, 0, 0, 0,                                           0,                         0, 8*lambda_s*S(k)*c_s(k)**2/3,                           0,                           0,                           0,                         0,                         0,                         0,                           0,                           0,                           0,                                           0,                         0,                           0],\n",
       "[0, 0, 0, 0,                                           0,                         0,                           0, 2*lambda_s*S(k)*c_s(k)**2/3,                           0,                           0,                         0,                         0,                         0,                           0,                           0,                           0,                                           0,                         0,                           0],\n",
       "[0, 0, 0, 0,                                           0,                         0,                           0,                           0, 2*lambda_s*S(k)*c_s(k)**2/3,                           0,                         0,                         0,                         0,                           0,                           0,                           0,                                           0,                         0,                           0],\n",
       "[0, 0, 0, 0,                                           0,                         0,                           0,                           0,                           0, 2*lambda_s*S(k)*c_s(k)**2/3,                         0,                         0,                         0,                           0,                           0,                           0,                                           0,                         0,                           0],\n",
       "[0, 0, 0, 0,                                           0,                         0,                           0,                           0,                           0,                           0, 4*lambda_q*S(k)*c_s(k)**2,                         0,                         0,                           0,                           0,                           0,                                           0,                         0,                           0],\n",
       "[0, 0, 0, 0,                                           0,                         0,                           0,                           0,                           0,                           0,                         0, 4*lambda_q*S(k)*c_s(k)**2,                         0,                           0,                           0,                           0,                                           0,                         0,                           0],\n",
       "[0, 0, 0, 0,                                           0,                         0,                           0,                           0,                           0,                           0,                         0,                         0, 4*lambda_q*S(k)*c_s(k)**2,                           0,                           0,                           0,                                           0,                         0,                           0],\n",
       "[0, 0, 0, 0,                                           0,                         0,                           0,                           0,                           0,                           0,                         0,                         0,                         0, 4*lambda_q*S(k)*c_s(k)**2/3,                           0,                           0,                                           0,                         0,                           0],\n",
       "[0, 0, 0, 0,                                           0,                         0,                           0,                           0,                           0,                           0,                         0,                         0,                         0,                           0, 4*lambda_q*S(k)*c_s(k)**2/3,                           0,                                           0,                         0,                           0],\n",
       "[0, 0, 0, 0,                                           0,                         0,                           0,                           0,                           0,                           0,                         0,                         0,                         0,                           0,                           0, 4*lambda_q*S(k)*c_s(k)**2/3,                                           0,                         0,                           0],\n",
       "[0, 0, 0, 0, 6*lambda_b*(3*c_s(k)**2 - 1)*S(k)*c_s(k)**2,                         0,                           0,                           0,                           0,                           0,                         0,                         0,                         0,                           0,                           0,                           0,  18*lambda_b*(1 - c_s(k)**2)*S(k)*c_s(k)**2,                         0,                           0],\n",
       "[0, 0, 0, 0,                                           0,                         0,                           0,                           0,                           0,                           0,                         0,                         0,                         0,                           0,                           0,                           0,                                           0, 8*lambda_b*S(k)*c_s(k)**2,                           0],\n",
       "[0, 0, 0, 0,                                           0,                         0,                           0,                           0,                           0,                           0,                         0,                         0,                         0,                           0,                           0,                           0,                                           0,                         0, 8*lambda_b*S(k)*c_s(k)**2/3]])"
      ]
     },
     "execution_count": 59,
     "metadata": {},
     "output_type": "execute_result"
    }
   ],
   "source": [
    "sp.simplify(A@G + G@A.T)"
   ]
  },
  {
   "cell_type": "code",
   "execution_count": 57,
   "metadata": {},
   "outputs": [
    {
     "ename": "AssertionError",
     "evalue": "",
     "output_type": "error",
     "traceback": [
      "\u001b[0;31m---------------------------------------------------------------------------\u001b[0m",
      "\u001b[0;31mAssertionError\u001b[0m                            Traceback (most recent call last)",
      "Cell \u001b[0;32mIn[57], line 1\u001b[0m\n\u001b[0;32m----> 1\u001b[0m \u001b[38;5;28;01massert\u001b[39;00m(sp\u001b[38;5;241m.\u001b[39msimplify(A\u001b[38;5;129m@G\u001b[39m \u001b[38;5;241m+\u001b[39m G\u001b[38;5;129m@A\u001b[39m\u001b[38;5;241m.\u001b[39madjoint()) \u001b[38;5;241m==\u001b[39m sp\u001b[38;5;241m.\u001b[39mzeros(Q,Q))\n",
      "\u001b[0;31mAssertionError\u001b[0m: "
     ]
    }
   ],
   "source": [
    "assert(sp.simplify(A@G + G@A.adjoint()) == sp.zeros(Q,Q))"
   ]
  },
  {
   "cell_type": "markdown",
   "metadata": {},
   "source": [
    "# Adding the pieces from the 2011 gross paper"
   ]
  },
  {
   "cell_type": "markdown",
   "metadata": {},
   "source": [
    "## Moment matrix"
   ]
  },
  {
   "cell_type": "code",
   "execution_count": 8,
   "metadata": {},
   "outputs": [],
   "source": [
    "d3q19 = LBStencil(Stencil.D3Q19)\n",
    "Q = len(d3q19)\n",
    "c = sp.Matrix(d3q19)\n",
    "D = len(c)//Q\n",
    "cs = sp.sqrt(sp.Rational(1,3))\n",
    "\n",
    "w = [ sp.Rational(1,3) ] + [ sp.Rational(1,18) ]*6 + [ sp.Rational(1,36) ]*12\n",
    "\n",
    "x, y, z = MOMENT_SYMBOLS\n",
    "one = sp.core.sympify(1)\n",
    "c2 = x**2+y**2+z**2\n",
    "c4 = c2**2\n",
    "\n",
    "moments = [ \n",
    "    one,\n",
    "    x,\n",
    "    y,\n",
    "    z,\n",
    "    c2-1,\n",
    "    x**2-y**2,\n",
    "    c2-3*z**2,\n",
    "    x*y,\n",
    "    x*z,\n",
    "    y*z,\n",
    "    (3*c2-5)*x,\n",
    "    (3*c2-5)*y,\n",
    "    (3*c2-5)*z,\n",
    "    (y**2-z**2)*x,\n",
    "    (x**2-z**2)*y,\n",
    "    (x**2-y**2)*z,\n",
    "    3*c4-6*c2+1,\n",
    "    (2*c2-3)*(x**2-y**2),\n",
    "    (2*c2-3)*(c2-3*z**2)\n",
    "]\n",
    "\n",
    "M = moment_matrix(moments, stencil=d3q19)\n",
    "\n",
    "N = [ sum([w[i]*M[a,i]**2 for i in range (Q)]) for a in range(Q) ]"
   ]
  },
  {
   "cell_type": "markdown",
   "metadata": {},
   "source": [
    "## Momentum and equilibrium calculation"
   ]
  },
  {
   "cell_type": "code",
   "execution_count": 9,
   "metadata": {},
   "outputs": [],
   "source": [
    "rho = sp.symbols('rho', cls=sp.Function, real=True)(x,y,z)\n",
    "ux, uy, uz = sp.symbols('u_x, u_y, u_z', real=True)\n",
    "pb = sp.symbols('p_b', real=True)\n",
    "# mu = sp.symbols('mu_phi', real=True, cls=sp.Function)(rho)\n",
    "kappa = sp.symbols('kappa', real=True)\n",
    "Gamma = sp.symbols('Gamma_phi', real=True)\n",
    "k = sp.symbols('k', real=True)\n",
    "kB, T = sp.symbols('k_B T', real=True)\n",
    "kT = sp.symbols('kT', real=True)\n",
    "\n",
    "rho0 = sp.symbols('\\\\hat{\\\\rho}_0', real=True, constant=True)\n",
    "drho = sp.symbols('\\\\delta\\\\hat{\\\\rho}', real=True)"
   ]
  },
  {
   "cell_type": "code",
   "execution_count": 10,
   "metadata": {},
   "outputs": [
    {
     "data": {
      "text/latex": [
       "$\\displaystyle \\left[\\begin{matrix}\\rho{\\left(x,y,z \\right)}\\\\u_{x} \\rho{\\left(x,y,z \\right)}\\\\u_{y} \\rho{\\left(x,y,z \\right)}\\\\u_{z} \\rho{\\left(x,y,z \\right)}\\\\- 3 \\kappa \\rho{\\left(x,y,z \\right)} \\frac{\\partial^{2}}{\\partial x^{2}} \\rho{\\left(x,y,z \\right)} - 3 \\kappa \\rho{\\left(x,y,z \\right)} \\frac{\\partial^{2}}{\\partial y^{2}} \\rho{\\left(x,y,z \\right)} - 3 \\kappa \\rho{\\left(x,y,z \\right)} \\frac{\\partial^{2}}{\\partial z^{2}} \\rho{\\left(x,y,z \\right)} - \\frac{\\kappa \\left(\\frac{\\partial}{\\partial x} \\rho{\\left(x,y,z \\right)}\\right)^{2}}{2} - \\frac{\\kappa \\left(\\frac{\\partial}{\\partial y} \\rho{\\left(x,y,z \\right)}\\right)^{2}}{2} - \\frac{\\kappa \\left(\\frac{\\partial}{\\partial z} \\rho{\\left(x,y,z \\right)}\\right)^{2}}{2} + 3 p_{b} + u_{x}^{2} \\rho{\\left(x,y,z \\right)} + u_{y}^{2} \\rho{\\left(x,y,z \\right)} + u_{z}^{2} \\rho{\\left(x,y,z \\right)} - \\rho{\\left(x,y,z \\right)}\\\\\\kappa \\left(\\frac{\\partial}{\\partial x} \\rho{\\left(x,y,z \\right)}\\right)^{2} - \\kappa \\left(\\frac{\\partial}{\\partial y} \\rho{\\left(x,y,z \\right)}\\right)^{2} + u_{x}^{2} \\rho{\\left(x,y,z \\right)} - u_{y}^{2} \\rho{\\left(x,y,z \\right)}\\\\\\kappa \\left(\\frac{\\partial}{\\partial x} \\rho{\\left(x,y,z \\right)}\\right)^{2} + \\kappa \\left(\\frac{\\partial}{\\partial y} \\rho{\\left(x,y,z \\right)}\\right)^{2} - 2 \\kappa \\left(\\frac{\\partial}{\\partial z} \\rho{\\left(x,y,z \\right)}\\right)^{2} + u_{x}^{2} \\rho{\\left(x,y,z \\right)} + u_{y}^{2} \\rho{\\left(x,y,z \\right)} - 2 u_{z}^{2} \\rho{\\left(x,y,z \\right)}\\\\\\kappa \\frac{\\partial}{\\partial x} \\rho{\\left(x,y,z \\right)} \\frac{\\partial}{\\partial y} \\rho{\\left(x,y,z \\right)} + u_{x} u_{y} \\rho{\\left(x,y,z \\right)}\\\\\\kappa \\frac{\\partial}{\\partial x} \\rho{\\left(x,y,z \\right)} \\frac{\\partial}{\\partial z} \\rho{\\left(x,y,z \\right)} + u_{x} u_{z} \\rho{\\left(x,y,z \\right)}\\\\\\kappa \\frac{\\partial}{\\partial y} \\rho{\\left(x,y,z \\right)} \\frac{\\partial}{\\partial z} \\rho{\\left(x,y,z \\right)} + u_{y} u_{z} \\rho{\\left(x,y,z \\right)}\\\\0\\\\0\\\\0\\\\0\\\\0\\\\0\\\\3 \\kappa \\rho{\\left(x,y,z \\right)} \\frac{\\partial^{2}}{\\partial x^{2}} \\rho{\\left(x,y,z \\right)} + 3 \\kappa \\rho{\\left(x,y,z \\right)} \\frac{\\partial^{2}}{\\partial y^{2}} \\rho{\\left(x,y,z \\right)} + 3 \\kappa \\rho{\\left(x,y,z \\right)} \\frac{\\partial^{2}}{\\partial z^{2}} \\rho{\\left(x,y,z \\right)} + \\frac{3 \\kappa \\left(\\frac{\\partial}{\\partial x} \\rho{\\left(x,y,z \\right)}\\right)^{2}}{2} + \\frac{3 \\kappa \\left(\\frac{\\partial}{\\partial y} \\rho{\\left(x,y,z \\right)}\\right)^{2}}{2} + \\frac{3 \\kappa \\left(\\frac{\\partial}{\\partial z} \\rho{\\left(x,y,z \\right)}\\right)^{2}}{2} - 3 p_{b} + \\rho{\\left(x,y,z \\right)}\\\\2 \\kappa \\left(- \\left(\\frac{\\partial}{\\partial x} \\rho{\\left(x,y,z \\right)}\\right)^{2} + \\left(\\frac{\\partial}{\\partial y} \\rho{\\left(x,y,z \\right)}\\right)^{2}\\right)\\\\2 \\kappa \\left(- \\left(\\frac{\\partial}{\\partial x} \\rho{\\left(x,y,z \\right)}\\right)^{2} - \\left(\\frac{\\partial}{\\partial y} \\rho{\\left(x,y,z \\right)}\\right)^{2} + 2 \\left(\\frac{\\partial}{\\partial z} \\rho{\\left(x,y,z \\right)}\\right)^{2}\\right)\\end{matrix}\\right]$"
      ],
      "text/plain": [
       "Matrix([\n",
       "[                                                                                                                                                                                                                                                                                                                                                                              rho(x, y, z)],\n",
       "[                                                                                                                                                                                                                                                                                                                                                                          u_x*rho(x, y, z)],\n",
       "[                                                                                                                                                                                                                                                                                                                                                                          u_y*rho(x, y, z)],\n",
       "[                                                                                                                                                                                                                                                                                                                                                                          u_z*rho(x, y, z)],\n",
       "[-3*kappa*rho(x, y, z)*Derivative(rho(x, y, z), (x, 2)) - 3*kappa*rho(x, y, z)*Derivative(rho(x, y, z), (y, 2)) - 3*kappa*rho(x, y, z)*Derivative(rho(x, y, z), (z, 2)) - kappa*Derivative(rho(x, y, z), x)**2/2 - kappa*Derivative(rho(x, y, z), y)**2/2 - kappa*Derivative(rho(x, y, z), z)**2/2 + 3*p_b + u_x**2*rho(x, y, z) + u_y**2*rho(x, y, z) + u_z**2*rho(x, y, z) - rho(x, y, z)],\n",
       "[                                                                                                                                                                                                                                                                   kappa*Derivative(rho(x, y, z), x)**2 - kappa*Derivative(rho(x, y, z), y)**2 + u_x**2*rho(x, y, z) - u_y**2*rho(x, y, z)],\n",
       "[                                                                                                                                                                                                  kappa*Derivative(rho(x, y, z), x)**2 + kappa*Derivative(rho(x, y, z), y)**2 - 2*kappa*Derivative(rho(x, y, z), z)**2 + u_x**2*rho(x, y, z) + u_y**2*rho(x, y, z) - 2*u_z**2*rho(x, y, z)],\n",
       "[                                                                                                                                                                                                                                                                                                      kappa*Derivative(rho(x, y, z), x)*Derivative(rho(x, y, z), y) + u_x*u_y*rho(x, y, z)],\n",
       "[                                                                                                                                                                                                                                                                                                      kappa*Derivative(rho(x, y, z), x)*Derivative(rho(x, y, z), z) + u_x*u_z*rho(x, y, z)],\n",
       "[                                                                                                                                                                                                                                                                                                      kappa*Derivative(rho(x, y, z), y)*Derivative(rho(x, y, z), z) + u_y*u_z*rho(x, y, z)],\n",
       "[                                                                                                                                                                                                                                                                                                                                                                                         0],\n",
       "[                                                                                                                                                                                                                                                                                                                                                                                         0],\n",
       "[                                                                                                                                                                                                                                                                                                                                                                                         0],\n",
       "[                                                                                                                                                                                                                                                                                                                                                                                         0],\n",
       "[                                                                                                                                                                                                                                                                                                                                                                                         0],\n",
       "[                                                                                                                                                                                                                                                                                                                                                                                         0],\n",
       "[                                                             3*kappa*rho(x, y, z)*Derivative(rho(x, y, z), (x, 2)) + 3*kappa*rho(x, y, z)*Derivative(rho(x, y, z), (y, 2)) + 3*kappa*rho(x, y, z)*Derivative(rho(x, y, z), (z, 2)) + 3*kappa*Derivative(rho(x, y, z), x)**2/2 + 3*kappa*Derivative(rho(x, y, z), y)**2/2 + 3*kappa*Derivative(rho(x, y, z), z)**2/2 - 3*p_b + rho(x, y, z)],\n",
       "[                                                                                                                                                                                                                                                                                                                2*kappa*(-Derivative(rho(x, y, z), x)**2 + Derivative(rho(x, y, z), y)**2)],\n",
       "[                                                                                                                                                                                                                                                                             2*kappa*(-Derivative(rho(x, y, z), x)**2 - Derivative(rho(x, y, z), y)**2 + 2*Derivative(rho(x, y, z), z)**2)]])"
      ]
     },
     "execution_count": 10,
     "metadata": {},
     "output_type": "execute_result"
    }
   ],
   "source": [
    "u = sp.Matrix([ux,uy,uz])\n",
    "D2rho = sum([ sp.Derivative(rho,a,2) for a in [x,y,z] ])\n",
    "Drho2 = sp.Matrix([ [ sp.Derivative(rho,a)*sp.Derivative(rho,b) for b in [x,y,z] ] for a in [x,y,z] ])\n",
    "G = kappa*Drho2\n",
    "\n",
    "five36 = sp.Rational(5,36)\n",
    "one9 = sp.Rational(1,9)\n",
    "one12 = sp.Rational(1,12)\n",
    "one36 = sp.Rational(1,36)\n",
    "one72 = sp.Rational(1,72)\n",
    "\n",
    "ww =  [ [[0]*3]*3 ] \\\n",
    "    + [ [ [ -one9, 0, 0], [0, five36, 0], [0, 0,  -one9] ] ]*2 \\\n",
    "    + [ [ [five36, 0, 0], [0,  -one9, 0], [0, 0,  -one9] ] ]*2 \\\n",
    "    + [ [ [ -one9, 0, 0], [0,  -one9, 0], [0, 0, five36] ] ]*2 \\\n",
    "    + [ [ [-one72, -one12, 0], [ -one12, -one72, 0], [ 0, 0, one36] ],\n",
    "        [ [-one72,  one12, 0], [  one12, -one72, 0], [ 0, 0, one36] ],\n",
    "        [ [-one72,  one12, 0], [  one12, -one72, 0], [ 0, 0, one36] ],\n",
    "        [ [-one72, -one12, 0], [ -one12, -one72, 0], [ 0, 0, one36] ],\n",
    "        [ [ one36, 0, 0], [ 0, -one72,  one12], [ 0,  one12, -one72] ],\n",
    "        [ [ one36, 0, 0], [ 0, -one72, -one12], [ 0, -one12, -one72] ],\n",
    "        [ [-one72, 0, -one12], [ 0, one36, 0], [ -one12, 0, -one72] ],\n",
    "        [ [-one72, 0,  one12], [ 0, one36, 0], [  one12, 0, -one72] ],\n",
    "        [ [ one36, 0, 0], [ 0, -one72, -one12], [ 0, -one12, -one72] ],\n",
    "        [ [ one36, 0, 0], [ 0, -one72,  one12], [ 0,  one12, -one72] ],\n",
    "        [ [-one72, 0,  one12], [ 0, one36, 0], [  one12, 0, -one72] ],\n",
    "        [ [-one72, 0, -one12], [ 0, one36, 0], [ -one12, 0, -one72] ] ]\n",
    "\n",
    "def f(i):\n",
    "    f = w[i]/cs**2*pb \\\n",
    "        + w[i]/cs**2*rho*c[i,:].dot(u) \\\n",
    "        + w[i]/(2*cs**4)*rho*u.dot((c[i,:].T@c[i,:]-cs**2*sp.eye(D))@u) \\\n",
    "        - w[i]/cs**2*(kappa*rho*D2rho) \\\n",
    "        + sum([ ww[i][j][j]/cs**2*G[j,j] for j in range(D) ]) \\\n",
    "        + sum([ ww[i][j][(j+1)%D]/cs**2*G[j,(j+1)%D] for j in range(D) ])\n",
    "    return f\n",
    "\n",
    "feq = sp.Matrix([ f(i) for i in range(0,Q) ])\n",
    "feq[0] = rho - sum(feq[1:])\n",
    "mf = sp.simplify(M*feq)\n",
    "mf"
   ]
  },
  {
   "cell_type": "markdown",
   "metadata": {},
   "source": [
    "## Calculation of noise covarianc ematrix"
   ]
  },
  {
   "cell_type": "code",
   "execution_count": 11,
   "metadata": {},
   "outputs": [
    {
     "data": {
      "text/latex": [
       "$\\displaystyle \\left[\\begin{array}{ccccccccccccccccccc}0 & i k_{x} & i k_{y} & i k_{z} & 0 & 0 & 0 & 0 & 0 & 0 & 0 & 0 & 0 & 0 & 0 & 0 & 0 & 0 & 0\\\\\\frac{i k_{x}}{3} & 0 & 0 & 0 & \\frac{i k_{x}}{3} & \\frac{i k_{x}}{2} & \\frac{i k_{x}}{6} & i k_{y} & i k_{z} & 0 & 0 & 0 & 0 & 0 & 0 & 0 & 0 & 0 & 0\\\\\\frac{i k_{y}}{3} & 0 & 0 & 0 & \\frac{i k_{y}}{3} & - \\frac{i k_{y}}{2} & \\frac{i k_{y}}{6} & i k_{x} & 0 & i k_{z} & 0 & 0 & 0 & 0 & 0 & 0 & 0 & 0 & 0\\\\\\frac{i k_{z}}{3} & 0 & 0 & 0 & \\frac{i k_{z}}{3} & 0 & - \\frac{i k_{z}}{3} & 0 & i k_{x} & i k_{y} & 0 & 0 & 0 & 0 & 0 & 0 & 0 & 0 & 0\\\\\\lambda_{b} \\left(3 c_{s}^{2}{\\left(k \\right)} - 1\\right) & \\frac{2 i k_{x}}{3} & \\frac{2 i k_{y}}{3} & \\frac{2 i k_{z}}{3} & \\lambda_{b} & 0 & 0 & 0 & 0 & 0 & \\frac{i k_{x}}{3} & \\frac{i k_{y}}{3} & \\frac{i k_{z}}{3} & 0 & 0 & 0 & 0 & 0 & 0\\\\0 & \\frac{2 i k_{x}}{3} & - \\frac{2 i k_{y}}{3} & 0 & 0 & \\lambda_{b} & 0 & 0 & 0 & 0 & - \\frac{i k_{x}}{6} & \\frac{i k_{y}}{6} & 0 & - \\frac{i k_{x}}{2} & \\frac{i k_{y}}{2} & i k_{z} & 0 & 0 & 0\\\\0 & \\frac{2 i k_{x}}{3} & \\frac{2 i k_{y}}{3} & - \\frac{4 i k_{z}}{3} & 0 & 0 & \\lambda_{b} & 0 & 0 & 0 & - \\frac{i k_{x}}{6} & - \\frac{i k_{y}}{6} & \\frac{i k_{z}}{3} & \\frac{3 i k_{x}}{2} & \\frac{3 i k_{y}}{2} & 0 & 0 & 0 & 0\\\\0 & \\frac{i k_{y}}{3} & \\frac{i k_{x}}{3} & 0 & 0 & 0 & 0 & \\lambda_{s} & 0 & 0 & \\frac{i k_{y}}{6} & \\frac{i k_{x}}{6} & 0 & \\frac{i k_{y}}{2} & \\frac{i k_{x}}{2} & 0 & 0 & 0 & 0\\\\0 & \\frac{i k_{z}}{3} & 0 & \\frac{i k_{x}}{3} & 0 & 0 & 0 & 0 & \\lambda_{s} & 0 & \\frac{i k_{z}}{6} & 0 & \\frac{i k_{x}}{6} & - \\frac{i k_{z}}{2} & 0 & \\frac{i k_{x}}{2} & 0 & 0 & 0\\\\0 & 0 & \\frac{i k_{z}}{3} & \\frac{i k_{y}}{3} & 0 & 0 & 0 & 0 & 0 & \\lambda_{s} & 0 & \\frac{i k_{z}}{6} & \\frac{i k_{y}}{6} & 0 & - \\frac{i k_{z}}{2} & - \\frac{i k_{y}}{2} & 0 & 0 & 0\\\\0 & 0 & 0 & 0 & \\frac{i k_{x}}{3} & - \\frac{i k_{x}}{4} & - \\frac{i k_{x}}{12} & i k_{y} & i k_{z} & 0 & \\lambda_{q} & 0 & 0 & 0 & 0 & 0 & \\frac{i k_{x}}{3} & \\frac{3 i k_{x}}{4} & \\frac{i k_{x}}{4}\\\\0 & 0 & 0 & 0 & \\frac{i k_{y}}{3} & \\frac{i k_{y}}{4} & - \\frac{i k_{y}}{12} & i k_{x} & 0 & i k_{z} & 0 & \\lambda_{q} & 0 & 0 & 0 & 0 & \\frac{i k_{y}}{3} & - \\frac{3 i k_{y}}{4} & \\frac{i k_{y}}{4}\\\\0 & 0 & 0 & 0 & \\frac{i k_{z}}{3} & 0 & \\frac{i k_{z}}{6} & 0 & i k_{x} & i k_{y} & 0 & 0 & \\lambda_{q} & 0 & 0 & 0 & \\frac{i k_{z}}{3} & 0 & - \\frac{i k_{z}}{2}\\\\0 & 0 & 0 & 0 & 0 & - \\frac{i k_{x}}{4} & \\frac{i k_{x}}{4} & i k_{y} & - i k_{z} & 0 & 0 & 0 & 0 & \\lambda_{q} & 0 & 0 & 0 & - \\frac{i k_{x}}{4} & \\frac{i k_{x}}{4}\\\\0 & 0 & 0 & 0 & 0 & \\frac{i k_{y}}{4} & \\frac{i k_{y}}{4} & i k_{x} & 0 & - i k_{z} & 0 & 0 & 0 & 0 & \\lambda_{q} & 0 & 0 & \\frac{i k_{y}}{4} & \\frac{i k_{y}}{4}\\\\0 & 0 & 0 & 0 & 0 & \\frac{i k_{z}}{2} & 0 & 0 & i k_{x} & - i k_{y} & 0 & 0 & 0 & 0 & 0 & \\lambda_{q} & 0 & \\frac{i k_{z}}{2} & 0\\\\\\lambda_{b} \\left(1 - 3 c_{s}^{2}{\\left(k \\right)}\\right) & 0 & 0 & 0 & 0 & 0 & 0 & 0 & 0 & 0 & i k_{x} & i k_{y} & i k_{z} & 0 & 0 & 0 & \\lambda_{b} & 0 & 0\\\\0 & 0 & 0 & 0 & 0 & 0 & 0 & 0 & 0 & 0 & \\frac{i k_{x}}{2} & - \\frac{i k_{y}}{2} & 0 & - \\frac{i k_{x}}{2} & \\frac{i k_{y}}{2} & i k_{z} & 0 & \\lambda_{q} & 0\\\\0 & 0 & 0 & 0 & 0 & 0 & 0 & 0 & 0 & 0 & \\frac{i k_{x}}{2} & \\frac{i k_{y}}{2} & - i k_{z} & \\frac{3 i k_{x}}{2} & \\frac{3 i k_{y}}{2} & 0 & 0 & 0 & \\lambda_{q}\\end{array}\\right]$"
      ],
      "text/plain": [
       "Matrix([\n",
       "[                         0,     I*k_x,      I*k_y,      I*k_z,        0,        0,         0,        0,        0,        0,        0,        0,        0,         0,         0,        0,        0,          0,        0],\n",
       "[                   I*k_x/3,         0,          0,          0,  I*k_x/3,  I*k_x/2,   I*k_x/6,    I*k_y,    I*k_z,        0,        0,        0,        0,         0,         0,        0,        0,          0,        0],\n",
       "[                   I*k_y/3,         0,          0,          0,  I*k_y/3, -I*k_y/2,   I*k_y/6,    I*k_x,        0,    I*k_z,        0,        0,        0,         0,         0,        0,        0,          0,        0],\n",
       "[                   I*k_z/3,         0,          0,          0,  I*k_z/3,        0,  -I*k_z/3,        0,    I*k_x,    I*k_y,        0,        0,        0,         0,         0,        0,        0,          0,        0],\n",
       "[lambda_b*(3*c_s(k)**2 - 1), 2*I*k_x/3,  2*I*k_y/3,  2*I*k_z/3, lambda_b,        0,         0,        0,        0,        0,  I*k_x/3,  I*k_y/3,  I*k_z/3,         0,         0,        0,        0,          0,        0],\n",
       "[                         0, 2*I*k_x/3, -2*I*k_y/3,          0,        0, lambda_b,         0,        0,        0,        0, -I*k_x/6,  I*k_y/6,        0,  -I*k_x/2,   I*k_y/2,    I*k_z,        0,          0,        0],\n",
       "[                         0, 2*I*k_x/3,  2*I*k_y/3, -4*I*k_z/3,        0,        0,  lambda_b,        0,        0,        0, -I*k_x/6, -I*k_y/6,  I*k_z/3, 3*I*k_x/2, 3*I*k_y/2,        0,        0,          0,        0],\n",
       "[                         0,   I*k_y/3,    I*k_x/3,          0,        0,        0,         0, lambda_s,        0,        0,  I*k_y/6,  I*k_x/6,        0,   I*k_y/2,   I*k_x/2,        0,        0,          0,        0],\n",
       "[                         0,   I*k_z/3,          0,    I*k_x/3,        0,        0,         0,        0, lambda_s,        0,  I*k_z/6,        0,  I*k_x/6,  -I*k_z/2,         0,  I*k_x/2,        0,          0,        0],\n",
       "[                         0,         0,    I*k_z/3,    I*k_y/3,        0,        0,         0,        0,        0, lambda_s,        0,  I*k_z/6,  I*k_y/6,         0,  -I*k_z/2, -I*k_y/2,        0,          0,        0],\n",
       "[                         0,         0,          0,          0,  I*k_x/3, -I*k_x/4, -I*k_x/12,    I*k_y,    I*k_z,        0, lambda_q,        0,        0,         0,         0,        0,  I*k_x/3,  3*I*k_x/4,  I*k_x/4],\n",
       "[                         0,         0,          0,          0,  I*k_y/3,  I*k_y/4, -I*k_y/12,    I*k_x,        0,    I*k_z,        0, lambda_q,        0,         0,         0,        0,  I*k_y/3, -3*I*k_y/4,  I*k_y/4],\n",
       "[                         0,         0,          0,          0,  I*k_z/3,        0,   I*k_z/6,        0,    I*k_x,    I*k_y,        0,        0, lambda_q,         0,         0,        0,  I*k_z/3,          0, -I*k_z/2],\n",
       "[                         0,         0,          0,          0,        0, -I*k_x/4,   I*k_x/4,    I*k_y,   -I*k_z,        0,        0,        0,        0,  lambda_q,         0,        0,        0,   -I*k_x/4,  I*k_x/4],\n",
       "[                         0,         0,          0,          0,        0,  I*k_y/4,   I*k_y/4,    I*k_x,        0,   -I*k_z,        0,        0,        0,         0,  lambda_q,        0,        0,    I*k_y/4,  I*k_y/4],\n",
       "[                         0,         0,          0,          0,        0,  I*k_z/2,         0,        0,    I*k_x,   -I*k_y,        0,        0,        0,         0,         0, lambda_q,        0,    I*k_z/2,        0],\n",
       "[lambda_b*(1 - 3*c_s(k)**2),         0,          0,          0,        0,        0,         0,        0,        0,        0,    I*k_x,    I*k_y,    I*k_z,         0,         0,        0, lambda_b,          0,        0],\n",
       "[                         0,         0,          0,          0,        0,        0,         0,        0,        0,        0,  I*k_x/2, -I*k_y/2,        0,  -I*k_x/2,   I*k_y/2,    I*k_z,        0,   lambda_q,        0],\n",
       "[                         0,         0,          0,          0,        0,        0,         0,        0,        0,        0,  I*k_x/2,  I*k_y/2,   -I*k_z, 3*I*k_x/2, 3*I*k_y/2,        0,        0,          0, lambda_q]])"
      ]
     },
     "execution_count": 11,
     "metadata": {},
     "output_type": "execute_result"
    }
   ],
   "source": [
    "cs = sp.symbols('c_s', cls=sp.Function, real=True)(k)\n",
    "\n",
    "# advection operator\n",
    "A = sp.diag(*[ sp.I*c[i,:]@sp.Matrix(sp.symbols('k_x, k_y, k_z', real=True)) for i in range(Q) ])\n",
    "A = M@A@M.inv()\n",
    "\n",
    "# # collision operator\n",
    "lb,ls,lq,le = sp.symbols('lambda_b, lambda_s, lambda_q, lambda_epsilon')\n",
    "cs = sp.symbols('c_s', cls=sp.Function, real=True)(k)\n",
    "d = -6*(cs**2 - sp.Rational(1,3))\n",
    "\n",
    "lambdas = [0]*4 + [lb]*3 + [ls]*3 + [lq]*6 + [lb] + 2*[lq]\n",
    "Lambda = sp.diag(*lambdas)\n",
    "Lambda[4,0] = -d/2*lb\n",
    "Lambda[16,0] = d/2*lb\n",
    "# Lambda[16,4] = -d/2*lb\n",
    "\n",
    "# time evolution operator\n",
    "L = A + Lambda\n",
    "\n",
    "L"
   ]
  },
  {
   "cell_type": "code",
   "execution_count": 12,
   "metadata": {},
   "outputs": [
    {
     "data": {
      "text/latex": [
       "$\\displaystyle \\left[\\begin{array}{ccccccccccccccccccc}S{\\left(k \\right)} & 0 & 0 & 0 & \\frac{\\left(6 \\hat{\\rho}_0 c_{s}^{2}{\\left(k \\right)} - 2 \\hat{\\rho}_0\\right) S{\\left(k \\right)}}{2 \\hat{\\rho}_0} & 0 & 0 & 0 & 0 & 0 & 0 & 0 & 0 & 0 & 0 & 0 & \\frac{\\left(- 6 \\hat{\\rho}_0 c_{s}^{2}{\\left(k \\right)} + 2 \\hat{\\rho}_0\\right) S{\\left(k \\right)}}{2 \\hat{\\rho}_0} & 0 & 0\\\\0 & S{\\left(k \\right)} c_{s}^{2}{\\left(k \\right)} & 0 & 0 & 0 & 0 & 0 & 0 & 0 & 0 & 0 & 0 & 0 & 0 & 0 & 0 & 0 & 0 & 0\\\\0 & 0 & S{\\left(k \\right)} c_{s}^{2}{\\left(k \\right)} & 0 & 0 & 0 & 0 & 0 & 0 & 0 & 0 & 0 & 0 & 0 & 0 & 0 & 0 & 0 & 0\\\\0 & 0 & 0 & S{\\left(k \\right)} c_{s}^{2}{\\left(k \\right)} & 0 & 0 & 0 & 0 & 0 & 0 & 0 & 0 & 0 & 0 & 0 & 0 & 0 & 0 & 0\\\\\\frac{\\left(6 \\hat{\\rho}_0 c_{s}^{2}{\\left(k \\right)} - 2 \\hat{\\rho}_0\\right) S{\\left(k \\right)}}{2 \\hat{\\rho}_0} & 0 & 0 & 0 & \\frac{\\left(- 2 \\hat{\\rho}_0 c_{s}^{2}{\\left(k \\right)} + 2 \\hat{\\rho}_0\\right) S{\\left(k \\right)}}{2 \\hat{\\rho}_0} & 0 & 0 & 0 & 0 & 0 & 0 & 0 & 0 & 0 & 0 & 0 & \\frac{\\left(6 \\hat{\\rho}_0 c_{s}^{2}{\\left(k \\right)} - 2 \\hat{\\rho}_0\\right) S{\\left(k \\right)}}{2 \\hat{\\rho}_0} & 0 & 0\\\\0 & 0 & 0 & 0 & 0 & \\frac{4 S{\\left(k \\right)} c_{s}^{2}{\\left(k \\right)}}{3} & 0 & 0 & 0 & 0 & 0 & 0 & 0 & 0 & 0 & 0 & 0 & 0 & 0\\\\0 & 0 & 0 & 0 & 0 & 0 & 4 S{\\left(k \\right)} c_{s}^{2}{\\left(k \\right)} & 0 & 0 & 0 & 0 & 0 & 0 & 0 & 0 & 0 & 0 & 0 & 0\\\\0 & 0 & 0 & 0 & 0 & 0 & 0 & \\frac{S{\\left(k \\right)} c_{s}^{2}{\\left(k \\right)}}{3} & 0 & 0 & 0 & 0 & 0 & 0 & 0 & 0 & 0 & 0 & 0\\\\0 & 0 & 0 & 0 & 0 & 0 & 0 & 0 & \\frac{S{\\left(k \\right)} c_{s}^{2}{\\left(k \\right)}}{3} & 0 & 0 & 0 & 0 & 0 & 0 & 0 & 0 & 0 & 0\\\\0 & 0 & 0 & 0 & 0 & 0 & 0 & 0 & 0 & \\frac{S{\\left(k \\right)} c_{s}^{2}{\\left(k \\right)}}{3} & 0 & 0 & 0 & 0 & 0 & 0 & 0 & 0 & 0\\\\0 & 0 & 0 & 0 & 0 & 0 & 0 & 0 & 0 & 0 & 2 S{\\left(k \\right)} c_{s}^{2}{\\left(k \\right)} & 0 & 0 & 0 & 0 & 0 & 0 & 0 & 0\\\\0 & 0 & 0 & 0 & 0 & 0 & 0 & 0 & 0 & 0 & 0 & 2 S{\\left(k \\right)} c_{s}^{2}{\\left(k \\right)} & 0 & 0 & 0 & 0 & 0 & 0 & 0\\\\0 & 0 & 0 & 0 & 0 & 0 & 0 & 0 & 0 & 0 & 0 & 0 & 2 S{\\left(k \\right)} c_{s}^{2}{\\left(k \\right)} & 0 & 0 & 0 & 0 & 0 & 0\\\\0 & 0 & 0 & 0 & 0 & 0 & 0 & 0 & 0 & 0 & 0 & 0 & 0 & \\frac{2 S{\\left(k \\right)} c_{s}^{2}{\\left(k \\right)}}{3} & 0 & 0 & 0 & 0 & 0\\\\0 & 0 & 0 & 0 & 0 & 0 & 0 & 0 & 0 & 0 & 0 & 0 & 0 & 0 & \\frac{2 S{\\left(k \\right)} c_{s}^{2}{\\left(k \\right)}}{3} & 0 & 0 & 0 & 0\\\\0 & 0 & 0 & 0 & 0 & 0 & 0 & 0 & 0 & 0 & 0 & 0 & 0 & 0 & 0 & \\frac{2 S{\\left(k \\right)} c_{s}^{2}{\\left(k \\right)}}{3} & 0 & 0 & 0\\\\\\frac{\\left(- 6 \\hat{\\rho}_0 c_{s}^{2}{\\left(k \\right)} + 2 \\hat{\\rho}_0\\right) S{\\left(k \\right)}}{2 \\hat{\\rho}_0} & 0 & 0 & 0 & \\frac{\\left(6 \\hat{\\rho}_0 c_{s}^{2}{\\left(k \\right)} - 2 \\hat{\\rho}_0\\right) S{\\left(k \\right)}}{2 \\hat{\\rho}_0} & 0 & 0 & 0 & 0 & 0 & 0 & 0 & 0 & 0 & 0 & 0 & \\frac{\\left(6 \\hat{\\rho}_0 c_{s}^{2}{\\left(k \\right)} + 2 \\hat{\\rho}_0\\right) S{\\left(k \\right)}}{2 \\hat{\\rho}_0} & 0 & 0\\\\0 & 0 & 0 & 0 & 0 & 0 & 0 & 0 & 0 & 0 & 0 & 0 & 0 & 0 & 0 & 0 & 0 & \\frac{4 S{\\left(k \\right)} c_{s}^{2}{\\left(k \\right)}}{3} & 0\\\\0 & 0 & 0 & 0 & 0 & 0 & 0 & 0 & 0 & 0 & 0 & 0 & 0 & 0 & 0 & 0 & 0 & 0 & 4 S{\\left(k \\right)} c_{s}^{2}{\\left(k \\right)}\\end{array}\\right]$"
      ],
      "text/plain": [
       "Matrix([\n",
       "[                                                              S(k),              0,              0,              0,  (6*\\hat{\\rho}_0*c_s(k)**2 - 2*\\hat{\\rho}_0)*S(k)/(2*\\hat{\\rho}_0),                  0,                0,                0,                0,                0,                0,                0,                0,                  0,                  0,                  0, (-6*\\hat{\\rho}_0*c_s(k)**2 + 2*\\hat{\\rho}_0)*S(k)/(2*\\hat{\\rho}_0),                  0,                0],\n",
       "[                                                                 0, S(k)*c_s(k)**2,              0,              0,                                                                  0,                  0,                0,                0,                0,                0,                0,                0,                0,                  0,                  0,                  0,                                                                  0,                  0,                0],\n",
       "[                                                                 0,              0, S(k)*c_s(k)**2,              0,                                                                  0,                  0,                0,                0,                0,                0,                0,                0,                0,                  0,                  0,                  0,                                                                  0,                  0,                0],\n",
       "[                                                                 0,              0,              0, S(k)*c_s(k)**2,                                                                  0,                  0,                0,                0,                0,                0,                0,                0,                0,                  0,                  0,                  0,                                                                  0,                  0,                0],\n",
       "[ (6*\\hat{\\rho}_0*c_s(k)**2 - 2*\\hat{\\rho}_0)*S(k)/(2*\\hat{\\rho}_0),              0,              0,              0, (-2*\\hat{\\rho}_0*c_s(k)**2 + 2*\\hat{\\rho}_0)*S(k)/(2*\\hat{\\rho}_0),                  0,                0,                0,                0,                0,                0,                0,                0,                  0,                  0,                  0,  (6*\\hat{\\rho}_0*c_s(k)**2 - 2*\\hat{\\rho}_0)*S(k)/(2*\\hat{\\rho}_0),                  0,                0],\n",
       "[                                                                 0,              0,              0,              0,                                                                  0, 4*S(k)*c_s(k)**2/3,                0,                0,                0,                0,                0,                0,                0,                  0,                  0,                  0,                                                                  0,                  0,                0],\n",
       "[                                                                 0,              0,              0,              0,                                                                  0,                  0, 4*S(k)*c_s(k)**2,                0,                0,                0,                0,                0,                0,                  0,                  0,                  0,                                                                  0,                  0,                0],\n",
       "[                                                                 0,              0,              0,              0,                                                                  0,                  0,                0, S(k)*c_s(k)**2/3,                0,                0,                0,                0,                0,                  0,                  0,                  0,                                                                  0,                  0,                0],\n",
       "[                                                                 0,              0,              0,              0,                                                                  0,                  0,                0,                0, S(k)*c_s(k)**2/3,                0,                0,                0,                0,                  0,                  0,                  0,                                                                  0,                  0,                0],\n",
       "[                                                                 0,              0,              0,              0,                                                                  0,                  0,                0,                0,                0, S(k)*c_s(k)**2/3,                0,                0,                0,                  0,                  0,                  0,                                                                  0,                  0,                0],\n",
       "[                                                                 0,              0,              0,              0,                                                                  0,                  0,                0,                0,                0,                0, 2*S(k)*c_s(k)**2,                0,                0,                  0,                  0,                  0,                                                                  0,                  0,                0],\n",
       "[                                                                 0,              0,              0,              0,                                                                  0,                  0,                0,                0,                0,                0,                0, 2*S(k)*c_s(k)**2,                0,                  0,                  0,                  0,                                                                  0,                  0,                0],\n",
       "[                                                                 0,              0,              0,              0,                                                                  0,                  0,                0,                0,                0,                0,                0,                0, 2*S(k)*c_s(k)**2,                  0,                  0,                  0,                                                                  0,                  0,                0],\n",
       "[                                                                 0,              0,              0,              0,                                                                  0,                  0,                0,                0,                0,                0,                0,                0,                0, 2*S(k)*c_s(k)**2/3,                  0,                  0,                                                                  0,                  0,                0],\n",
       "[                                                                 0,              0,              0,              0,                                                                  0,                  0,                0,                0,                0,                0,                0,                0,                0,                  0, 2*S(k)*c_s(k)**2/3,                  0,                                                                  0,                  0,                0],\n",
       "[                                                                 0,              0,              0,              0,                                                                  0,                  0,                0,                0,                0,                0,                0,                0,                0,                  0,                  0, 2*S(k)*c_s(k)**2/3,                                                                  0,                  0,                0],\n",
       "[(-6*\\hat{\\rho}_0*c_s(k)**2 + 2*\\hat{\\rho}_0)*S(k)/(2*\\hat{\\rho}_0),              0,              0,              0,  (6*\\hat{\\rho}_0*c_s(k)**2 - 2*\\hat{\\rho}_0)*S(k)/(2*\\hat{\\rho}_0),                  0,                0,                0,                0,                0,                0,                0,                0,                  0,                  0,                  0,  (6*\\hat{\\rho}_0*c_s(k)**2 + 2*\\hat{\\rho}_0)*S(k)/(2*\\hat{\\rho}_0),                  0,                0],\n",
       "[                                                                 0,              0,              0,              0,                                                                  0,                  0,                0,                0,                0,                0,                0,                0,                0,                  0,                  0,                  0,                                                                  0, 4*S(k)*c_s(k)**2/3,                0],\n",
       "[                                                                 0,              0,              0,              0,                                                                  0,                  0,                0,                0,                0,                0,                0,                0,                0,                  0,                  0,                  0,                                                                  0,                  0, 4*S(k)*c_s(k)**2]])"
      ]
     },
     "execution_count": 12,
     "metadata": {},
     "output_type": "execute_result"
    }
   ],
   "source": [
    "fbar = feq.subs({pb:rho0*cs**2,rho:rho0,ux:0,uy:0,uz:0})\n",
    "G = sp.symbols('S', cls=sp.Function)(k)/rho0*sp.diag(*fbar)\n",
    "G = sp.simplify(M@G@M.T)\n",
    "G"
   ]
  },
  {
   "cell_type": "code",
   "execution_count": 13,
   "metadata": {},
   "outputs": [
    {
     "data": {
      "text/latex": [
       "$\\displaystyle \\left[\\begin{array}{ccccccccccccccccccc}0 & 0 & 0 & 0 & 2 \\cdot \\left(3 c_{s}^{2}{\\left(k \\right)} - 1\\right) S{\\left(k \\right)} \\overline{\\lambda_{b}} & 0 & 0 & 0 & 0 & 0 & 0 & 0 & 0 & 0 & 0 & 0 & 2 \\cdot \\left(1 - 3 c_{s}^{2}{\\left(k \\right)}\\right) S{\\left(k \\right)} \\overline{\\lambda_{b}} & 0 & 0\\\\0 & 0 & 0 & 0 & 0 & 0 & 0 & 0 & 0 & 0 & 0 & 0 & 0 & 0 & 0 & 0 & 0 & 0 & 0\\\\0 & 0 & 0 & 0 & 0 & 0 & 0 & 0 & 0 & 0 & 0 & 0 & 0 & 0 & 0 & 0 & 0 & 0 & 0\\\\0 & 0 & 0 & 0 & 0 & 0 & 0 & 0 & 0 & 0 & 0 & 0 & 0 & 0 & 0 & 0 & 0 & 0 & 0\\\\2 \\lambda_{b} \\left(3 c_{s}^{2}{\\left(k \\right)} - 1\\right) S{\\left(k \\right)} & 0 & 0 & 0 & \\left(9 \\lambda_{b} c_{s}^{4}{\\left(k \\right)} - 7 \\lambda_{b} c_{s}^{2}{\\left(k \\right)} + 2 \\lambda_{b} + 9 c_{s}^{4}{\\left(k \\right)} \\overline{\\lambda_{b}} - 7 c_{s}^{2}{\\left(k \\right)} \\overline{\\lambda_{b}} + 2 \\overline{\\lambda_{b}}\\right) S{\\left(k \\right)} & 0 & 0 & 0 & 0 & 0 & 0 & 0 & 0 & 0 & 0 & 0 & \\left(- 9 \\lambda_{b} c_{s}^{4}{\\left(k \\right)} + 9 \\lambda_{b} c_{s}^{2}{\\left(k \\right)} - 2 \\lambda_{b} - 9 c_{s}^{4}{\\left(k \\right)} \\overline{\\lambda_{b}} + 9 c_{s}^{2}{\\left(k \\right)} \\overline{\\lambda_{b}} - 2 \\overline{\\lambda_{b}}\\right) S{\\left(k \\right)} & 0 & 0\\\\0 & 0 & 0 & 0 & 0 & \\frac{4 \\left(\\lambda_{b} + \\overline{\\lambda_{b}}\\right) S{\\left(k \\right)} c_{s}^{2}{\\left(k \\right)}}{3} & 0 & 0 & 0 & 0 & 0 & 0 & 0 & 0 & 0 & 0 & 0 & 0 & 0\\\\0 & 0 & 0 & 0 & 0 & 0 & 4 \\left(\\lambda_{b} + \\overline{\\lambda_{b}}\\right) S{\\left(k \\right)} c_{s}^{2}{\\left(k \\right)} & 0 & 0 & 0 & 0 & 0 & 0 & 0 & 0 & 0 & 0 & 0 & 0\\\\0 & 0 & 0 & 0 & 0 & 0 & 0 & \\frac{\\left(\\lambda_{s} + \\overline{\\lambda_{s}}\\right) S{\\left(k \\right)} c_{s}^{2}{\\left(k \\right)}}{3} & 0 & 0 & 0 & 0 & 0 & 0 & 0 & 0 & 0 & 0 & 0\\\\0 & 0 & 0 & 0 & 0 & 0 & 0 & 0 & \\frac{\\left(\\lambda_{s} + \\overline{\\lambda_{s}}\\right) S{\\left(k \\right)} c_{s}^{2}{\\left(k \\right)}}{3} & 0 & 0 & 0 & 0 & 0 & 0 & 0 & 0 & 0 & 0\\\\0 & 0 & 0 & 0 & 0 & 0 & 0 & 0 & 0 & \\frac{\\left(\\lambda_{s} + \\overline{\\lambda_{s}}\\right) S{\\left(k \\right)} c_{s}^{2}{\\left(k \\right)}}{3} & 0 & 0 & 0 & 0 & 0 & 0 & 0 & 0 & 0\\\\0 & 0 & 0 & 0 & 0 & 0 & 0 & 0 & 0 & 0 & 2 \\left(\\lambda_{q} + \\overline{\\lambda_{q}}\\right) S{\\left(k \\right)} c_{s}^{2}{\\left(k \\right)} & 0 & 0 & 0 & 0 & 0 & 0 & 0 & 0\\\\0 & 0 & 0 & 0 & 0 & 0 & 0 & 0 & 0 & 0 & 0 & 2 \\left(\\lambda_{q} + \\overline{\\lambda_{q}}\\right) S{\\left(k \\right)} c_{s}^{2}{\\left(k \\right)} & 0 & 0 & 0 & 0 & 0 & 0 & 0\\\\0 & 0 & 0 & 0 & 0 & 0 & 0 & 0 & 0 & 0 & 0 & 0 & 2 \\left(\\lambda_{q} + \\overline{\\lambda_{q}}\\right) S{\\left(k \\right)} c_{s}^{2}{\\left(k \\right)} & 0 & 0 & 0 & 0 & 0 & 0\\\\0 & 0 & 0 & 0 & 0 & 0 & 0 & 0 & 0 & 0 & 0 & 0 & 0 & \\frac{2 \\left(\\lambda_{q} + \\overline{\\lambda_{q}}\\right) S{\\left(k \\right)} c_{s}^{2}{\\left(k \\right)}}{3} & 0 & 0 & 0 & 0 & 0\\\\0 & 0 & 0 & 0 & 0 & 0 & 0 & 0 & 0 & 0 & 0 & 0 & 0 & 0 & \\frac{2 \\left(\\lambda_{q} + \\overline{\\lambda_{q}}\\right) S{\\left(k \\right)} c_{s}^{2}{\\left(k \\right)}}{3} & 0 & 0 & 0 & 0\\\\0 & 0 & 0 & 0 & 0 & 0 & 0 & 0 & 0 & 0 & 0 & 0 & 0 & 0 & 0 & \\frac{2 \\left(\\lambda_{q} + \\overline{\\lambda_{q}}\\right) S{\\left(k \\right)} c_{s}^{2}{\\left(k \\right)}}{3} & 0 & 0 & 0\\\\2 \\lambda_{b} \\left(1 - 3 c_{s}^{2}{\\left(k \\right)}\\right) S{\\left(k \\right)} & 0 & 0 & 0 & \\left(- 9 \\lambda_{b} c_{s}^{4}{\\left(k \\right)} + 9 \\lambda_{b} c_{s}^{2}{\\left(k \\right)} - 2 \\lambda_{b} - 9 c_{s}^{4}{\\left(k \\right)} \\overline{\\lambda_{b}} + 9 c_{s}^{2}{\\left(k \\right)} \\overline{\\lambda_{b}} - 2 \\overline{\\lambda_{b}}\\right) S{\\left(k \\right)} & 0 & 0 & 0 & 0 & 0 & 0 & 0 & 0 & 0 & 0 & 0 & \\left(9 \\lambda_{b} c_{s}^{4}{\\left(k \\right)} - 3 \\lambda_{b} c_{s}^{2}{\\left(k \\right)} + 2 \\lambda_{b} + 9 c_{s}^{4}{\\left(k \\right)} \\overline{\\lambda_{b}} - 3 c_{s}^{2}{\\left(k \\right)} \\overline{\\lambda_{b}} + 2 \\overline{\\lambda_{b}}\\right) S{\\left(k \\right)} & 0 & 0\\\\0 & 0 & 0 & 0 & 0 & 0 & 0 & 0 & 0 & 0 & 0 & 0 & 0 & 0 & 0 & 0 & 0 & \\frac{4 \\left(\\lambda_{q} + \\overline{\\lambda_{q}}\\right) S{\\left(k \\right)} c_{s}^{2}{\\left(k \\right)}}{3} & 0\\\\0 & 0 & 0 & 0 & 0 & 0 & 0 & 0 & 0 & 0 & 0 & 0 & 0 & 0 & 0 & 0 & 0 & 0 & 4 \\left(\\lambda_{q} + \\overline{\\lambda_{q}}\\right) S{\\left(k \\right)} c_{s}^{2}{\\left(k \\right)}\\end{array}\\right]$"
      ],
      "text/plain": [
       "Matrix([\n",
       "[                                0, 0, 0, 0,                                                                                                                 2*(3*c_s(k)**2 - 1)*S(k)*conjugate(lambda_b),                                                   0,                                                 0,                                                 0,                                                 0,                                                 0,                                                 0,                                                 0,                                                 0,                                                   0,                                                   0,                                                   0,                                                                                                                 2*(1 - 3*c_s(k)**2)*S(k)*conjugate(lambda_b),                                                   0,                                                 0],\n",
       "[                                0, 0, 0, 0,                                                                                                                                                            0,                                                   0,                                                 0,                                                 0,                                                 0,                                                 0,                                                 0,                                                 0,                                                 0,                                                   0,                                                   0,                                                   0,                                                                                                                                                            0,                                                   0,                                                 0],\n",
       "[                                0, 0, 0, 0,                                                                                                                                                            0,                                                   0,                                                 0,                                                 0,                                                 0,                                                 0,                                                 0,                                                 0,                                                 0,                                                   0,                                                   0,                                                   0,                                                                                                                                                            0,                                                   0,                                                 0],\n",
       "[                                0, 0, 0, 0,                                                                                                                                                            0,                                                   0,                                                 0,                                                 0,                                                 0,                                                 0,                                                 0,                                                 0,                                                 0,                                                   0,                                                   0,                                                   0,                                                                                                                                                            0,                                                   0,                                                 0],\n",
       "[2*lambda_b*(3*c_s(k)**2 - 1)*S(k), 0, 0, 0,  (9*lambda_b*c_s(k)**4 - 7*lambda_b*c_s(k)**2 + 2*lambda_b + 9*c_s(k)**4*conjugate(lambda_b) - 7*c_s(k)**2*conjugate(lambda_b) + 2*conjugate(lambda_b))*S(k),                                                   0,                                                 0,                                                 0,                                                 0,                                                 0,                                                 0,                                                 0,                                                 0,                                                   0,                                                   0,                                                   0, (-9*lambda_b*c_s(k)**4 + 9*lambda_b*c_s(k)**2 - 2*lambda_b - 9*c_s(k)**4*conjugate(lambda_b) + 9*c_s(k)**2*conjugate(lambda_b) - 2*conjugate(lambda_b))*S(k),                                                   0,                                                 0],\n",
       "[                                0, 0, 0, 0,                                                                                                                                                            0, 4*(lambda_b + conjugate(lambda_b))*S(k)*c_s(k)**2/3,                                                 0,                                                 0,                                                 0,                                                 0,                                                 0,                                                 0,                                                 0,                                                   0,                                                   0,                                                   0,                                                                                                                                                            0,                                                   0,                                                 0],\n",
       "[                                0, 0, 0, 0,                                                                                                                                                            0,                                                   0, 4*(lambda_b + conjugate(lambda_b))*S(k)*c_s(k)**2,                                                 0,                                                 0,                                                 0,                                                 0,                                                 0,                                                 0,                                                   0,                                                   0,                                                   0,                                                                                                                                                            0,                                                   0,                                                 0],\n",
       "[                                0, 0, 0, 0,                                                                                                                                                            0,                                                   0,                                                 0, (lambda_s + conjugate(lambda_s))*S(k)*c_s(k)**2/3,                                                 0,                                                 0,                                                 0,                                                 0,                                                 0,                                                   0,                                                   0,                                                   0,                                                                                                                                                            0,                                                   0,                                                 0],\n",
       "[                                0, 0, 0, 0,                                                                                                                                                            0,                                                   0,                                                 0,                                                 0, (lambda_s + conjugate(lambda_s))*S(k)*c_s(k)**2/3,                                                 0,                                                 0,                                                 0,                                                 0,                                                   0,                                                   0,                                                   0,                                                                                                                                                            0,                                                   0,                                                 0],\n",
       "[                                0, 0, 0, 0,                                                                                                                                                            0,                                                   0,                                                 0,                                                 0,                                                 0, (lambda_s + conjugate(lambda_s))*S(k)*c_s(k)**2/3,                                                 0,                                                 0,                                                 0,                                                   0,                                                   0,                                                   0,                                                                                                                                                            0,                                                   0,                                                 0],\n",
       "[                                0, 0, 0, 0,                                                                                                                                                            0,                                                   0,                                                 0,                                                 0,                                                 0,                                                 0, 2*(lambda_q + conjugate(lambda_q))*S(k)*c_s(k)**2,                                                 0,                                                 0,                                                   0,                                                   0,                                                   0,                                                                                                                                                            0,                                                   0,                                                 0],\n",
       "[                                0, 0, 0, 0,                                                                                                                                                            0,                                                   0,                                                 0,                                                 0,                                                 0,                                                 0,                                                 0, 2*(lambda_q + conjugate(lambda_q))*S(k)*c_s(k)**2,                                                 0,                                                   0,                                                   0,                                                   0,                                                                                                                                                            0,                                                   0,                                                 0],\n",
       "[                                0, 0, 0, 0,                                                                                                                                                            0,                                                   0,                                                 0,                                                 0,                                                 0,                                                 0,                                                 0,                                                 0, 2*(lambda_q + conjugate(lambda_q))*S(k)*c_s(k)**2,                                                   0,                                                   0,                                                   0,                                                                                                                                                            0,                                                   0,                                                 0],\n",
       "[                                0, 0, 0, 0,                                                                                                                                                            0,                                                   0,                                                 0,                                                 0,                                                 0,                                                 0,                                                 0,                                                 0,                                                 0, 2*(lambda_q + conjugate(lambda_q))*S(k)*c_s(k)**2/3,                                                   0,                                                   0,                                                                                                                                                            0,                                                   0,                                                 0],\n",
       "[                                0, 0, 0, 0,                                                                                                                                                            0,                                                   0,                                                 0,                                                 0,                                                 0,                                                 0,                                                 0,                                                 0,                                                 0,                                                   0, 2*(lambda_q + conjugate(lambda_q))*S(k)*c_s(k)**2/3,                                                   0,                                                                                                                                                            0,                                                   0,                                                 0],\n",
       "[                                0, 0, 0, 0,                                                                                                                                                            0,                                                   0,                                                 0,                                                 0,                                                 0,                                                 0,                                                 0,                                                 0,                                                 0,                                                   0,                                                   0, 2*(lambda_q + conjugate(lambda_q))*S(k)*c_s(k)**2/3,                                                                                                                                                            0,                                                   0,                                                 0],\n",
       "[2*lambda_b*(1 - 3*c_s(k)**2)*S(k), 0, 0, 0, (-9*lambda_b*c_s(k)**4 + 9*lambda_b*c_s(k)**2 - 2*lambda_b - 9*c_s(k)**4*conjugate(lambda_b) + 9*c_s(k)**2*conjugate(lambda_b) - 2*conjugate(lambda_b))*S(k),                                                   0,                                                 0,                                                 0,                                                 0,                                                 0,                                                 0,                                                 0,                                                 0,                                                   0,                                                   0,                                                   0,  (9*lambda_b*c_s(k)**4 - 3*lambda_b*c_s(k)**2 + 2*lambda_b + 9*c_s(k)**4*conjugate(lambda_b) - 3*c_s(k)**2*conjugate(lambda_b) + 2*conjugate(lambda_b))*S(k),                                                   0,                                                 0],\n",
       "[                                0, 0, 0, 0,                                                                                                                                                            0,                                                   0,                                                 0,                                                 0,                                                 0,                                                 0,                                                 0,                                                 0,                                                 0,                                                   0,                                                   0,                                                   0,                                                                                                                                                            0, 4*(lambda_q + conjugate(lambda_q))*S(k)*c_s(k)**2/3,                                                 0],\n",
       "[                                0, 0, 0, 0,                                                                                                                                                            0,                                                   0,                                                 0,                                                 0,                                                 0,                                                 0,                                                 0,                                                 0,                                                 0,                                                   0,                                                   0,                                                   0,                                                                                                                                                            0,                                                   0, 4*(lambda_q + conjugate(lambda_q))*S(k)*c_s(k)**2]])"
      ]
     },
     "execution_count": 13,
     "metadata": {},
     "output_type": "execute_result"
    }
   ],
   "source": [
    "Xi = sp.expand(L@G + G@L.adjoint())\n",
    "# assert(Xi==Xi.T)\n",
    "sp.simplify(Xi)"
   ]
  }
 ],
 "metadata": {
  "kernelspec": {
   "display_name": ".venv",
   "language": "python",
   "name": "python3"
  },
  "language_info": {
   "codemirror_mode": {
    "name": "ipython",
    "version": 3
   },
   "file_extension": ".py",
   "mimetype": "text/x-python",
   "name": "python",
   "nbconvert_exporter": "python",
   "pygments_lexer": "ipython3",
   "version": "3.10.12"
  }
 },
 "nbformat": 4,
 "nbformat_minor": 2
}
