{
 "cells": [
  {
   "cell_type": "code",
   "execution_count": 30,
   "metadata": {},
   "outputs": [],
   "source": [
    "import numpy as np\n",
    "import matplotlib.pyplot as plt"
   ]
  },
  {
   "cell_type": "markdown",
   "metadata": {},
   "source": [
    "# Cholesky decomposition"
   ]
  },
  {
   "cell_type": "code",
   "execution_count": null,
   "metadata": {},
   "outputs": [],
   "source": [
    "from numpy.linalg import cholesky\n",
    "from numpy.testing import assert_allclose"
   ]
  },
  {
   "cell_type": "code",
   "execution_count": 2,
   "metadata": {},
   "outputs": [],
   "source": [
    "nvel = 19\n",
    "ndof = nvel*2\n",
    "ncons = 5\n",
    "\n",
    "slice_zero = np.s_[:ncons, :ncons]\n",
    "slice_non_zero = np.s_[ncons:, ncons:]\n",
    "\n",
    "A = np.zeros((ndof, ndof))\n",
    "L = np.zeros((ndof, ndof))\n",
    "\n",
    "for i in range(ncons, ndof, 1):\n",
    "    A[i, i] = 2\n",
    "\n",
    "L[slice_non_zero] = cholesky(A[slice_non_zero])"
   ]
  },
  {
   "cell_type": "code",
   "execution_count": 3,
   "metadata": {},
   "outputs": [
    {
     "data": {
      "text/plain": [
       "2.0"
      ]
     },
     "execution_count": 3,
     "metadata": {},
     "output_type": "execute_result"
    }
   ],
   "source": [
    "A[5, 5]"
   ]
  },
  {
   "cell_type": "markdown",
   "metadata": {},
   "source": [
    "## Test case 1\n",
    "\n",
    "Looking at identical values in the diagonal, not including those in the ncons values"
   ]
  },
  {
   "cell_type": "code",
   "execution_count": 4,
   "metadata": {},
   "outputs": [],
   "source": [
    "nvel = 19\n",
    "ndof = nvel*2\n",
    "ncons = 5\n",
    "\n",
    "A = np.zeros(ndof*ndof)\n",
    "L_test = np.zeros(ndof*ndof)\n",
    "\n",
    "for i in range(0, ndof, 1):\n",
    "    A[i*ndof + i] = 2\n",
    "    L_test[i*ndof + i] = np.sqrt(2)\n",
    "\n",
    "A = A.reshape((ndof, ndof))\n",
    "L = cholesky(A)\n",
    "\n",
    "assert_allclose(L.flatten(), L_test)"
   ]
  },
  {
   "cell_type": "markdown",
   "metadata": {},
   "source": [
    "## Test case 2\n",
    "\n",
    "Looking at variable values in the diagonal, but ensuring the matrix is still positive definite"
   ]
  },
  {
   "cell_type": "code",
   "execution_count": 5,
   "metadata": {},
   "outputs": [],
   "source": [
    "nvel = 19\n",
    "ndof = nvel*2\n",
    "ncons = 5\n",
    "\n",
    "A = np.zeros(((ndof - ncons), (ndof - ncons)))\n",
    "L_test = np.zeros_like(A)\n",
    "A.shape\n",
    "\n",
    "for i in range(0, ndof - ncons):\n",
    "    A[i, i] = i + 1\n",
    "    L_test[i, i] = np.sqrt(i + 1)\n",
    "\n",
    "L = cholesky(A)\n",
    "assert_allclose(L, L_test)"
   ]
  },
  {
   "cell_type": "markdown",
   "metadata": {},
   "source": [
    "## Test case 3\n",
    "\n",
    "Looking at assigning positive random variables to the diagonal"
   ]
  },
  {
   "cell_type": "code",
   "execution_count": 6,
   "metadata": {},
   "outputs": [],
   "source": [
    "nvel = 19\n",
    "ndof = nvel*2\n",
    "ncons = 5\n",
    "\n",
    "A = np.zeros(((ndof - ncons), (ndof - ncons)))\n",
    "L_test = np.zeros_like(A)\n",
    "A.shape\n",
    "\n",
    "for i in range(0, ndof - ncons):\n",
    "    val = np.random.randint(0, 100)\n",
    "    A[i, i] = val\n",
    "    L_test[i, i] = np.sqrt(val)\n",
    "\n",
    "L = cholesky(A)\n",
    "assert_allclose(L, L_test)"
   ]
  },
  {
   "cell_type": "markdown",
   "metadata": {},
   "source": [
    "## Test case 4\n",
    "\n",
    "Looking at assigning positive random variables to the diagonal along with values at the same locations as those in the Xi matrix"
   ]
  },
  {
   "cell_type": "code",
   "execution_count": 7,
   "metadata": {},
   "outputs": [
    {
     "data": {
      "text/plain": [
       "array([17967.62630236,  7068.1941064 ,  6586.59405152,  -941.14041533,\n",
       "        -792.32868132,  6185.23389325,  -492.12931482,  6010.39590608,\n",
       "        5800.11831146,  -132.06321272,   -21.81796392,  5591.22616863,\n",
       "        5295.05804777,  5239.48291565,  5076.74989672,  4852.38668252,\n",
       "        4524.34243144,  4570.73963164,  4216.6488032 ,  4013.55150909,\n",
       "        3842.19603737,  3599.47595708,  3489.9277691 ,  3263.75643814,\n",
       "         264.66333035,  2822.20596291,  2662.04737272,  2454.79791826,\n",
       "         621.95784162,  2143.59557391,  2040.92650461,   805.16093548,\n",
       "        1102.94389966,   979.00377344,  1328.52607106,  1481.09109633,\n",
       "        1699.47912291,  1695.37532542])"
      ]
     },
     "execution_count": 7,
     "metadata": {},
     "output_type": "execute_result"
    }
   ],
   "source": [
    "sz = 38\n",
    "L = np.random.randint(1, sz, size = (sz, sz))\n",
    "L = L + sz*np.eye(sz)\n",
    "\n",
    "np.linalg.eigvals(L * L.T)"
   ]
  },
  {
   "cell_type": "code",
   "execution_count": 26,
   "metadata": {},
   "outputs": [
    {
     "data": {
      "text/plain": [
       "(array([[3.16227766, 0.        , 0.        , 0.        , 0.        ],\n",
       "        [0.9486833 , 3.17804972, 0.        , 0.        , 0.        ],\n",
       "        [0.63245553, 0.75518013, 3.60966799, 0.        , 0.        ],\n",
       "        [0.79056942, 0.23599379, 0.50469522, 3.17247375, 0.        ],\n",
       "        [0.47434165, 0.33039131, 0.67886993, 1.01006582, 2.8608992 ]]),\n",
       " array([[10. ,  0. ,  0. ,  0. ,  0. ],\n",
       "        [ 3. , 11. ,  0. ,  0. ,  0. ],\n",
       "        [ 2. ,  3. , 14. ,  0. ,  0. ],\n",
       "        [ 2.5,  1.5,  2.5, 11. ,  0. ],\n",
       "        [ 1.5,  1.5,  3. ,  4. , 10. ]]))"
      ]
     },
     "execution_count": 26,
     "metadata": {},
     "output_type": "execute_result"
    }
   ],
   "source": [
    "sz = 10\n",
    "A = np.random.randint(low = 0, high = 5, size = (sz, sz))\n",
    "A = 0.5 * (A + A.T)\n",
    "A = A + (sz*np.eye(sz))\n",
    "A[0:5, 0:5] = 0\n",
    "\n",
    "L_C = cholesky(A[5:, 5:])"
   ]
  },
  {
   "cell_type": "code",
   "execution_count": 9,
   "metadata": {},
   "outputs": [
    {
     "ename": "LinAlgError",
     "evalue": "Matrix is not positive definite",
     "output_type": "error",
     "traceback": [
      "\u001b[0;31m---------------------------------------------------------------------------\u001b[0m",
      "\u001b[0;31mLinAlgError\u001b[0m                               Traceback (most recent call last)",
      "Cell \u001b[0;32mIn[9], line 16\u001b[0m\n\u001b[1;32m     13\u001b[0m     A[i, ndof \u001b[38;5;241m-\u001b[39m i \u001b[38;5;241m-\u001b[39m \u001b[38;5;241m1\u001b[39m] \u001b[38;5;241m=\u001b[39m set_val\n\u001b[1;32m     15\u001b[0m \u001b[38;5;66;03m# np.linalg.eigvals(A)\u001b[39;00m\n\u001b[0;32m---> 16\u001b[0m L \u001b[38;5;241m=\u001b[39m \u001b[43mcholesky\u001b[49m\u001b[43m(\u001b[49m\u001b[43mA\u001b[49m\u001b[43m)\u001b[49m\n\u001b[1;32m     17\u001b[0m L\n",
      "File \u001b[0;32m<__array_function__ internals>:200\u001b[0m, in \u001b[0;36mcholesky\u001b[0;34m(*args, **kwargs)\u001b[0m\n",
      "File \u001b[0;32m~/Documents/FLBM/LBMeX/src_lbm/binary/.venv/lib/python3.8/site-packages/numpy/linalg/linalg.py:756\u001b[0m, in \u001b[0;36mcholesky\u001b[0;34m(a)\u001b[0m\n\u001b[1;32m    754\u001b[0m t, result_t \u001b[38;5;241m=\u001b[39m _commonType(a)\n\u001b[1;32m    755\u001b[0m signature \u001b[38;5;241m=\u001b[39m \u001b[38;5;124m'\u001b[39m\u001b[38;5;124mD->D\u001b[39m\u001b[38;5;124m'\u001b[39m \u001b[38;5;28;01mif\u001b[39;00m isComplexType(t) \u001b[38;5;28;01melse\u001b[39;00m \u001b[38;5;124m'\u001b[39m\u001b[38;5;124md->d\u001b[39m\u001b[38;5;124m'\u001b[39m\n\u001b[0;32m--> 756\u001b[0m r \u001b[38;5;241m=\u001b[39m \u001b[43mgufunc\u001b[49m\u001b[43m(\u001b[49m\u001b[43ma\u001b[49m\u001b[43m,\u001b[49m\u001b[43m \u001b[49m\u001b[43msignature\u001b[49m\u001b[38;5;241;43m=\u001b[39;49m\u001b[43msignature\u001b[49m\u001b[43m,\u001b[49m\u001b[43m \u001b[49m\u001b[43mextobj\u001b[49m\u001b[38;5;241;43m=\u001b[39;49m\u001b[43mextobj\u001b[49m\u001b[43m)\u001b[49m\n\u001b[1;32m    757\u001b[0m \u001b[38;5;28;01mreturn\u001b[39;00m wrap(r\u001b[38;5;241m.\u001b[39mastype(result_t, copy\u001b[38;5;241m=\u001b[39m\u001b[38;5;28;01mFalse\u001b[39;00m))\n",
      "File \u001b[0;32m~/Documents/FLBM/LBMeX/src_lbm/binary/.venv/lib/python3.8/site-packages/numpy/linalg/linalg.py:92\u001b[0m, in \u001b[0;36m_raise_linalgerror_nonposdef\u001b[0;34m(err, flag)\u001b[0m\n\u001b[1;32m     91\u001b[0m \u001b[38;5;28;01mdef\u001b[39;00m \u001b[38;5;21m_raise_linalgerror_nonposdef\u001b[39m(err, flag):\n\u001b[0;32m---> 92\u001b[0m     \u001b[38;5;28;01mraise\u001b[39;00m LinAlgError(\u001b[38;5;124m\"\u001b[39m\u001b[38;5;124mMatrix is not positive definite\u001b[39m\u001b[38;5;124m\"\u001b[39m)\n",
      "\u001b[0;31mLinAlgError\u001b[0m: Matrix is not positive definite"
     ]
    }
   ],
   "source": [
    "nvel = 19\n",
    "ndof = nvel*2\n",
    "ncons = 5\n",
    "\n",
    "A = np.zeros((ndof, ndof))\n",
    "L_test = np.zeros_like(A)\n",
    "# A.shape\n",
    "\n",
    "set_val = 1\n",
    "\n",
    "for i in range(ncons, ndof):\n",
    "    A[i, i] = 5\n",
    "    A[i, ndof - i - 1] = set_val\n",
    "\n",
    "# np.linalg.eigvals(A)\n",
    "L = cholesky(A)\n",
    "L"
   ]
  },
  {
   "cell_type": "markdown",
   "metadata": {},
   "source": [
    "## Test case 5\n",
    "\n",
    "Looking at a version of the xi matrix"
   ]
  },
  {
   "cell_type": "code",
   "execution_count": null,
   "metadata": {},
   "outputs": [
    {
     "data": {
      "text/plain": [
       "array([ 4.11837589e+01,  3.80173426e+01,  1.47792862e+00, -6.26615611e-01,\n",
       "       -5.24144683e-02, -2.56241898e-02,  3.80000000e+01,  3.90256242e+01,\n",
       "        3.90256242e+01,  3.90256242e+01, -2.56241898e-02, -2.56241898e-02,\n",
       "        3.90000000e+01,  3.90000000e+01,  3.90000000e+01,  3.90000000e+01,\n",
       "        3.90000000e+01,  3.90000000e+01,  3.90000000e+01,  3.90000000e+01,\n",
       "        3.90000000e+01,  3.90000000e+01,  3.90000000e+01,  3.90000000e+01,\n",
       "        3.90000000e+01,  3.90000000e+01,  3.90000000e+01,  3.90000000e+01,\n",
       "        3.90000000e+01,  3.90000000e+01,  3.90000000e+01,  3.90000000e+01,\n",
       "        3.90000000e+01,  3.90000000e+01,  3.90000000e+01,  3.90000000e+01,\n",
       "        3.90000000e+01,  3.90000000e+01])"
      ]
     },
     "execution_count": 31,
     "metadata": {},
     "output_type": "execute_result"
    }
   ],
   "source": [
    "nvel = 19\n",
    "ndof = nvel*2\n",
    "ncons = 5\n",
    "\n",
    "A = np.zeros((ndof, ndof))\n",
    "L_test = np.zeros_like(A)\n",
    "A.shape\n",
    "\n",
    "for i in range(ncons, ndof):\n",
    "    A[i, i] = 39\n",
    "\n",
    "set_val = 1\n",
    "\n",
    "A[1, 8] = set_val\n",
    "A[1, nvel + 1] = set_val\n",
    "A[2, 5] = set_val\n",
    "A[3, 6] = set_val\n",
    "A[4, 7] = set_val\n",
    "A[8, nvel + 1] = set_val\n",
    "A[8, 1] = set_val\n",
    "A[nvel + 1, 1] = set_val\n",
    "A[5, 2] = set_val\n",
    "A[6, 3] = set_val\n",
    "A[7, 4] = set_val\n",
    "A[nvel + 1, 8] = set_val\n",
    "A[nvel + 1, 8] = set_val\n",
    "\n",
    "A[0, nvel + 4] = set_val\n",
    "A[0, nvel + 16] = set_val\n",
    "A[1, nvel + 4] = set_val\n",
    "A[1, nvel + 16] = set_val\n",
    "A[8, 1] = set_val\n",
    "A[8, nvel + 4] = set_val\n",
    "A[8, nvel + 16] = set_val\n",
    "A[20, nvel + 1] = set_val\n",
    "A[20, nvel + 4] = set_val\n",
    "A[20, nvel + 16] = set_val\n",
    "A[nvel + 4, 0] = set_val\n",
    "A[nvel + 16, 0] = set_val\n",
    "A[nvel + 4, 1] = set_val\n",
    "A[nvel + 16, 1] = set_val\n",
    "A[1, 8] = set_val\n",
    "A[nvel + 4, 8] = set_val\n",
    "A[nvel + 16, 8] = set_val\n",
    "A[1, 20] = set_val\n",
    "A[nvel + 4, 20] = set_val\n",
    "A[nvel + 16, 20] = set_val\n",
    "\n",
    "A[1, nvel + 4] = set_val\n",
    "A[1, nvel + 16] = set_val\n",
    "A[nvel + 1, nvel + 4] = set_val\n",
    "A[nvel + 1, nvel + 16] = set_val\n",
    "A[nvel + 4, nvel + 16] = set_val\n",
    "A[nvel + 4, 1] = set_val\n",
    "A[nvel + 16, 1] = set_val\n",
    "A[nvel + 4, nvel + 1] = set_val\n",
    "A[nvel + 16, nvel + 1] = set_val\n",
    "A[nvel + 16, nvel + 4] = set_val\n",
    "\n",
    "np.linalg.eigvals(A)"
   ]
  },
  {
   "cell_type": "markdown",
   "metadata": {},
   "source": [
    "# Inverse Fourier Transform"
   ]
  },
  {
   "cell_type": "markdown",
   "metadata": {},
   "source": [
    "## Test case 1\n",
    "\n",
    "Sin wave in fft"
   ]
  },
  {
   "cell_type": "code",
   "execution_count": 31,
   "metadata": {},
   "outputs": [],
   "source": [
    "from numpy.fft import fftn, ifftn"
   ]
  },
  {
   "cell_type": "code",
   "execution_count": 37,
   "metadata": {},
   "outputs": [],
   "source": [
    "sz = 16\n",
    "x = np.linspace(0, sz - 1, sz)\n",
    "X, Y, Z = np.meshgrid(*[x, x, x])\n",
    "\n",
    "V = np.sin(np.sqrt(X**2 + Y**2 + Z**2))\n",
    "# plt.imshow(V[8, :, :])\n",
    "# fig, ax = plt.subplots(subplot_kw={\"projection\": \"3d\"})\n",
    "# ax.plot_surface(X, Y, Z, vmin=Z.min(), cmap= \"magma\")"
   ]
  },
  {
   "cell_type": "code",
   "execution_count": 40,
   "metadata": {},
   "outputs": [],
   "source": [
    "V_k = fftn(V)"
   ]
  },
  {
   "cell_type": "code",
   "execution_count": null,
   "metadata": {},
   "outputs": [],
   "source": []
  }
 ],
 "metadata": {
  "kernelspec": {
   "display_name": ".venv",
   "language": "python",
   "name": "python3"
  },
  "language_info": {
   "codemirror_mode": {
    "name": "ipython",
    "version": 3
   },
   "file_extension": ".py",
   "mimetype": "text/x-python",
   "name": "python",
   "nbconvert_exporter": "python",
   "pygments_lexer": "ipython3",
   "version": "3.8.10"
  }
 },
 "nbformat": 4,
 "nbformat_minor": 2
}
